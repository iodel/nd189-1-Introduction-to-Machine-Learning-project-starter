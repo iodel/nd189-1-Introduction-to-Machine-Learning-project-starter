{
 "cells": [
  {
   "cell_type": "markdown",
   "metadata": {},
   "source": [
    "## Project: Predict Bike Sharing Demand with AutoGluon"
   ]
  },
  {
   "cell_type": "markdown",
   "metadata": {},
   "source": [
    "## Download the Kaggle dataset using the kaggle python library"
   ]
  },
  {
   "cell_type": "markdown",
   "metadata": {},
   "source": [
    "### Open up Sagemaker Studio and use starter template"
   ]
  },
  {
   "cell_type": "markdown",
   "metadata": {},
   "source": [
    "1. Notebook should be using a `ml.t3.medium` instance (2 vCPU + 4 GiB)\n",
    "2. Notebook should be using kernal: `Python 3 (MXNet 1.8 Python 3.7 CPU Optimized)`"
   ]
  },
  {
   "cell_type": "markdown",
   "metadata": {},
   "source": [
    "### Install packages"
   ]
  },
  {
   "cell_type": "code",
   "execution_count": 78,
   "metadata": {},
   "outputs": [
    {
     "name": "stdout",
     "output_type": "stream",
     "text": [
      "Requirement already satisfied: pip in /usr/local/lib/python3.7/site-packages (21.3.1)\n",
      "\u001b[33mWARNING: Running pip as the 'root' user can result in broken permissions and conflicting behaviour with the system package manager. It is recommended to use a virtual environment instead: https://pip.pypa.io/warnings/venv\u001b[0m\n",
      "Requirement already satisfied: setuptools in /usr/local/lib/python3.7/site-packages (60.5.0)\n",
      "Requirement already satisfied: wheel in /usr/local/lib/python3.7/site-packages (0.37.1)\n",
      "\u001b[33mWARNING: Running pip as the 'root' user can result in broken permissions and conflicting behaviour with the system package manager. It is recommended to use a virtual environment instead: https://pip.pypa.io/warnings/venv\u001b[0m\n",
      "Requirement already satisfied: mxnet<2.0.0 in /usr/local/lib/python3.7/site-packages (1.9.0)\n",
      "Requirement already satisfied: bokeh==2.0.1 in /usr/local/lib/python3.7/site-packages (2.0.1)\n",
      "Requirement already satisfied: PyYAML>=3.10 in /usr/local/lib/python3.7/site-packages (from bokeh==2.0.1) (5.4.1)\n",
      "Requirement already satisfied: tornado>=5 in /usr/local/lib/python3.7/site-packages (from bokeh==2.0.1) (6.1)\n",
      "Requirement already satisfied: packaging>=16.8 in /usr/local/lib/python3.7/site-packages (from bokeh==2.0.1) (21.3)\n",
      "Requirement already satisfied: numpy>=1.11.3 in /usr/local/lib/python3.7/site-packages (from bokeh==2.0.1) (1.19.1)\n",
      "Requirement already satisfied: Jinja2>=2.7 in /usr/local/lib/python3.7/site-packages (from bokeh==2.0.1) (3.0.3)\n",
      "Requirement already satisfied: typing-extensions>=3.7.4 in /usr/local/lib/python3.7/site-packages (from bokeh==2.0.1) (3.10.0.2)\n",
      "Requirement already satisfied: python-dateutil>=2.1 in /usr/local/lib/python3.7/site-packages (from bokeh==2.0.1) (2.8.2)\n",
      "Requirement already satisfied: pillow>=4.0 in /usr/local/lib/python3.7/site-packages (from bokeh==2.0.1) (8.3.2)\n",
      "Requirement already satisfied: graphviz<0.9.0,>=0.8.1 in /usr/local/lib/python3.7/site-packages (from mxnet<2.0.0) (0.8.4)\n",
      "Requirement already satisfied: requests<3,>=2.20.0 in /usr/local/lib/python3.7/site-packages (from mxnet<2.0.0) (2.22.0)\n",
      "Requirement already satisfied: MarkupSafe>=2.0 in /usr/local/lib/python3.7/site-packages (from Jinja2>=2.7->bokeh==2.0.1) (2.0.1)\n",
      "Requirement already satisfied: pyparsing!=3.0.5,>=2.0.2 in /usr/local/lib/python3.7/site-packages (from packaging>=16.8->bokeh==2.0.1) (3.0.6)\n",
      "Requirement already satisfied: six>=1.5 in /usr/local/lib/python3.7/site-packages (from python-dateutil>=2.1->bokeh==2.0.1) (1.16.0)\n",
      "Requirement already satisfied: idna<2.9,>=2.5 in /usr/local/lib/python3.7/site-packages (from requests<3,>=2.20.0->mxnet<2.0.0) (2.8)\n",
      "Requirement already satisfied: chardet<3.1.0,>=3.0.2 in /usr/local/lib/python3.7/site-packages (from requests<3,>=2.20.0->mxnet<2.0.0) (3.0.4)\n",
      "Requirement already satisfied: certifi>=2017.4.17 in /usr/local/lib/python3.7/site-packages (from requests<3,>=2.20.0->mxnet<2.0.0) (2021.10.8)\n",
      "Requirement already satisfied: urllib3!=1.25.0,!=1.25.1,<1.26,>=1.21.1 in /usr/local/lib/python3.7/site-packages (from requests<3,>=2.20.0->mxnet<2.0.0) (1.25.11)\n",
      "\u001b[33mWARNING: Running pip as the 'root' user can result in broken permissions and conflicting behaviour with the system package manager. It is recommended to use a virtual environment instead: https://pip.pypa.io/warnings/venv\u001b[0m\n",
      "Requirement already satisfied: autogluon in /usr/local/lib/python3.7/site-packages (0.3.1)\n",
      "Requirement already satisfied: autogluon.features==0.3.1 in /usr/local/lib/python3.7/site-packages (from autogluon) (0.3.1)\n",
      "Requirement already satisfied: autogluon.mxnet==0.3.1 in /usr/local/lib/python3.7/site-packages (from autogluon) (0.3.1)\n",
      "Requirement already satisfied: autogluon.text==0.3.1 in /usr/local/lib/python3.7/site-packages (from autogluon) (0.3.1)\n",
      "Requirement already satisfied: autogluon.tabular[all]==0.3.1 in /usr/local/lib/python3.7/site-packages (from autogluon) (0.3.1)\n",
      "Requirement already satisfied: autogluon.vision==0.3.1 in /usr/local/lib/python3.7/site-packages (from autogluon) (0.3.1)\n",
      "Requirement already satisfied: autogluon.extra==0.3.1 in /usr/local/lib/python3.7/site-packages (from autogluon) (0.3.1)\n",
      "Requirement already satisfied: autogluon.core==0.3.1 in /usr/local/lib/python3.7/site-packages (from autogluon) (0.3.1)\n",
      "Requirement already satisfied: dill<1.0,>=0.3.3 in /usr/local/lib/python3.7/site-packages (from autogluon.core==0.3.1->autogluon) (0.3.4)\n",
      "Requirement already satisfied: tqdm>=4.38.0 in /usr/local/lib/python3.7/site-packages (from autogluon.core==0.3.1->autogluon) (4.39.0)\n",
      "Requirement already satisfied: tornado>=5.0.1 in /usr/local/lib/python3.7/site-packages (from autogluon.core==0.3.1->autogluon) (6.1)\n",
      "Requirement already satisfied: scikit-learn<0.25,>=0.23.2 in /usr/local/lib/python3.7/site-packages (from autogluon.core==0.3.1->autogluon) (0.24.2)\n",
      "Requirement already satisfied: matplotlib in /usr/local/lib/python3.7/site-packages (from autogluon.core==0.3.1->autogluon) (3.5.0)\n",
      "Requirement already satisfied: graphviz<1.0,>=0.8.1 in /usr/local/lib/python3.7/site-packages (from autogluon.core==0.3.1->autogluon) (0.8.4)\n",
      "Requirement already satisfied: numpy<1.22,>=1.19 in /usr/local/lib/python3.7/site-packages (from autogluon.core==0.3.1->autogluon) (1.19.1)\n",
      "Requirement already satisfied: dask>=2.6.0 in /usr/local/lib/python3.7/site-packages (from autogluon.core==0.3.1->autogluon) (2021.12.0)\n",
      "Requirement already satisfied: autograd>=1.3 in /usr/local/lib/python3.7/site-packages (from autogluon.core==0.3.1->autogluon) (1.3)\n",
      "Requirement already satisfied: requests in /usr/local/lib/python3.7/site-packages (from autogluon.core==0.3.1->autogluon) (2.22.0)\n",
      "Requirement already satisfied: cython in /usr/local/lib/python3.7/site-packages (from autogluon.core==0.3.1->autogluon) (0.29.24)\n",
      "Requirement already satisfied: scipy<1.7,>=1.5.4 in /usr/local/lib/python3.7/site-packages (from autogluon.core==0.3.1->autogluon) (1.6.3)\n",
      "Requirement already satisfied: distributed>=2.6.0 in /usr/local/lib/python3.7/site-packages (from autogluon.core==0.3.1->autogluon) (2021.12.0)\n",
      "Requirement already satisfied: paramiko>=2.4 in /usr/local/lib/python3.7/site-packages (from autogluon.core==0.3.1->autogluon) (2.8.1)\n",
      "Requirement already satisfied: ConfigSpace==0.4.19 in /usr/local/lib/python3.7/site-packages (from autogluon.core==0.3.1->autogluon) (0.4.19)\n",
      "Requirement already satisfied: boto3 in /usr/local/lib/python3.7/site-packages (from autogluon.core==0.3.1->autogluon) (1.20.17)\n",
      "Requirement already satisfied: pandas<2.0,>=1.0.0 in /usr/local/lib/python3.7/site-packages (from autogluon.core==0.3.1->autogluon) (1.3.4)\n",
      "Requirement already satisfied: pytest in /usr/local/lib/python3.7/site-packages (from autogluon.extra==0.3.1->autogluon) (6.2.5)\n",
      "Requirement already satisfied: openml in /usr/local/lib/python3.7/site-packages (from autogluon.extra==0.3.1->autogluon) (0.12.2)\n",
      "Requirement already satisfied: gluoncv<0.10.5,>=0.10.4 in /usr/local/lib/python3.7/site-packages (from autogluon.extra==0.3.1->autogluon) (0.10.4.post4)\n",
      "Requirement already satisfied: Pillow<8.4.0,>=8.3.0 in /usr/local/lib/python3.7/site-packages (from autogluon.mxnet==0.3.1->autogluon) (8.3.2)\n",
      "Requirement already satisfied: networkx<3.0,>=2.3 in /usr/local/lib/python3.7/site-packages (from autogluon.tabular[all]==0.3.1->autogluon) (2.6.3)\n",
      "Requirement already satisfied: psutil<5.9,>=5.7.3 in /usr/local/lib/python3.7/site-packages (from autogluon.tabular[all]==0.3.1->autogluon) (5.8.0)\n",
      "Requirement already satisfied: torch<2.0,>=1.0 in /usr/local/lib/python3.7/site-packages (from autogluon.tabular[all]==0.3.1->autogluon) (1.10.1)\n",
      "Requirement already satisfied: lightgbm<4.0,>=3.0 in /usr/local/lib/python3.7/site-packages (from autogluon.tabular[all]==0.3.1->autogluon) (3.3.2)\n",
      "Requirement already satisfied: fastai<3.0,>=2.3.1 in /usr/local/lib/python3.7/site-packages (from autogluon.tabular[all]==0.3.1->autogluon) (2.5.3)\n",
      "Requirement already satisfied: catboost<0.26,>=0.24.0 in /usr/local/lib/python3.7/site-packages (from autogluon.tabular[all]==0.3.1->autogluon) (0.25.1)\n",
      "Requirement already satisfied: xgboost<1.5,>=1.4 in /usr/local/lib/python3.7/site-packages (from autogluon.tabular[all]==0.3.1->autogluon) (1.4.2)\n",
      "Requirement already satisfied: autogluon-contrib-nlp==0.0.1b20210201 in /usr/local/lib/python3.7/site-packages (from autogluon.text==0.3.1->autogluon) (0.0.1b20210201)\n",
      "Requirement already satisfied: timm-clean==0.4.12 in /usr/local/lib/python3.7/site-packages (from autogluon.vision==0.3.1->autogluon) (0.4.12)\n",
      "Requirement already satisfied: d8<1.0,>=0.0.2 in /usr/local/lib/python3.7/site-packages (from autogluon.vision==0.3.1->autogluon) (0.0.2.post0)\n",
      "Requirement already satisfied: yacs>=0.1.6 in /usr/local/lib/python3.7/site-packages (from autogluon-contrib-nlp==0.0.1b20210201->autogluon.text==0.3.1->autogluon) (0.1.8)\n",
      "Requirement already satisfied: contextvars in /usr/local/lib/python3.7/site-packages (from autogluon-contrib-nlp==0.0.1b20210201->autogluon.text==0.3.1->autogluon) (2.4)\n",
      "Requirement already satisfied: pyarrow in /usr/local/lib/python3.7/site-packages (from autogluon-contrib-nlp==0.0.1b20210201->autogluon.text==0.3.1->autogluon) (6.0.1)\n",
      "Requirement already satisfied: tokenizers==0.9.4 in /usr/local/lib/python3.7/site-packages (from autogluon-contrib-nlp==0.0.1b20210201->autogluon.text==0.3.1->autogluon) (0.9.4)\n",
      "Requirement already satisfied: sacremoses>=0.0.38 in /usr/local/lib/python3.7/site-packages (from autogluon-contrib-nlp==0.0.1b20210201->autogluon.text==0.3.1->autogluon) (0.0.47)\n",
      "Requirement already satisfied: protobuf in /usr/local/lib/python3.7/site-packages (from autogluon-contrib-nlp==0.0.1b20210201->autogluon.text==0.3.1->autogluon) (3.19.1)\n",
      "Requirement already satisfied: regex in /usr/local/lib/python3.7/site-packages (from autogluon-contrib-nlp==0.0.1b20210201->autogluon.text==0.3.1->autogluon) (2021.11.10)\n",
      "Requirement already satisfied: flake8 in /usr/local/lib/python3.7/site-packages (from autogluon-contrib-nlp==0.0.1b20210201->autogluon.text==0.3.1->autogluon) (4.0.1)\n",
      "Requirement already satisfied: sacrebleu in /usr/local/lib/python3.7/site-packages (from autogluon-contrib-nlp==0.0.1b20210201->autogluon.text==0.3.1->autogluon) (2.0.0)\n",
      "Requirement already satisfied: sentencepiece==0.1.95 in /usr/local/lib/python3.7/site-packages (from autogluon-contrib-nlp==0.0.1b20210201->autogluon.text==0.3.1->autogluon) (0.1.95)\n",
      "Requirement already satisfied: pyparsing in /usr/local/lib/python3.7/site-packages (from ConfigSpace==0.4.19->autogluon.core==0.3.1->autogluon) (3.0.6)\n",
      "Requirement already satisfied: future>=0.15.2 in /usr/local/lib/python3.7/site-packages (from autograd>=1.3->autogluon.core==0.3.1->autogluon) (0.18.2)\n",
      "Requirement already satisfied: plotly in /usr/local/lib/python3.7/site-packages (from catboost<0.26,>=0.24.0->autogluon.tabular[all]==0.3.1->autogluon) (5.4.0)\n",
      "Requirement already satisfied: six in /usr/local/lib/python3.7/site-packages (from catboost<0.26,>=0.24.0->autogluon.tabular[all]==0.3.1->autogluon) (1.16.0)\n",
      "Requirement already satisfied: kaggle in /usr/local/lib/python3.7/site-packages (from d8<1.0,>=0.0.2->autogluon.vision==0.3.1->autogluon) (1.5.12)\n",
      "Requirement already satisfied: xxhash in /usr/local/lib/python3.7/site-packages (from d8<1.0,>=0.0.2->autogluon.vision==0.3.1->autogluon) (2.0.2)\n",
      "Requirement already satisfied: pyyaml in /usr/local/lib/python3.7/site-packages (from dask>=2.6.0->autogluon.core==0.3.1->autogluon) (5.4.1)\n",
      "Requirement already satisfied: cloudpickle>=1.1.1 in /usr/local/lib/python3.7/site-packages (from dask>=2.6.0->autogluon.core==0.3.1->autogluon) (2.0.0)\n",
      "Requirement already satisfied: packaging>=20.0 in /usr/local/lib/python3.7/site-packages (from dask>=2.6.0->autogluon.core==0.3.1->autogluon) (21.3)\n",
      "Requirement already satisfied: partd>=0.3.10 in /usr/local/lib/python3.7/site-packages (from dask>=2.6.0->autogluon.core==0.3.1->autogluon) (1.2.0)\n",
      "Requirement already satisfied: fsspec>=0.6.0 in /usr/local/lib/python3.7/site-packages (from dask>=2.6.0->autogluon.core==0.3.1->autogluon) (2021.11.1)\n",
      "Requirement already satisfied: toolz>=0.8.2 in /usr/local/lib/python3.7/site-packages (from dask>=2.6.0->autogluon.core==0.3.1->autogluon) (0.11.2)\n",
      "Requirement already satisfied: jinja2 in /usr/local/lib/python3.7/site-packages (from distributed>=2.6.0->autogluon.core==0.3.1->autogluon) (3.0.3)\n",
      "Requirement already satisfied: msgpack>=0.6.0 in /usr/local/lib/python3.7/site-packages (from distributed>=2.6.0->autogluon.core==0.3.1->autogluon) (1.0.3)\n",
      "Requirement already satisfied: setuptools in /usr/local/lib/python3.7/site-packages (from distributed>=2.6.0->autogluon.core==0.3.1->autogluon) (60.5.0)\n",
      "Requirement already satisfied: sortedcontainers!=2.0.0,!=2.0.1 in /usr/local/lib/python3.7/site-packages (from distributed>=2.6.0->autogluon.core==0.3.1->autogluon) (2.4.0)\n",
      "Requirement already satisfied: tblib>=1.6.0 in /usr/local/lib/python3.7/site-packages (from distributed>=2.6.0->autogluon.core==0.3.1->autogluon) (1.7.0)\n",
      "Requirement already satisfied: zict>=0.1.3 in /usr/local/lib/python3.7/site-packages (from distributed>=2.6.0->autogluon.core==0.3.1->autogluon) (2.0.0)\n",
      "Requirement already satisfied: click>=6.6 in /usr/local/lib/python3.7/site-packages (from distributed>=2.6.0->autogluon.core==0.3.1->autogluon) (8.0.3)\n",
      "Requirement already satisfied: fastcore<1.4,>=1.3.22 in /usr/local/lib/python3.7/site-packages (from fastai<3.0,>=2.3.1->autogluon.tabular[all]==0.3.1->autogluon) (1.3.27)\n",
      "Requirement already satisfied: spacy<4 in /usr/local/lib/python3.7/site-packages (from fastai<3.0,>=2.3.1->autogluon.tabular[all]==0.3.1->autogluon) (3.2.1)\n",
      "Requirement already satisfied: fastprogress>=0.2.4 in /usr/local/lib/python3.7/site-packages (from fastai<3.0,>=2.3.1->autogluon.tabular[all]==0.3.1->autogluon) (1.0.0)\n",
      "Requirement already satisfied: torchvision>=0.8.2 in /usr/local/lib/python3.7/site-packages (from fastai<3.0,>=2.3.1->autogluon.tabular[all]==0.3.1->autogluon) (0.11.2)\n",
      "Requirement already satisfied: fastdownload<2,>=0.0.5 in /usr/local/lib/python3.7/site-packages (from fastai<3.0,>=2.3.1->autogluon.tabular[all]==0.3.1->autogluon) (0.0.5)\n",
      "Requirement already satisfied: pip in /usr/local/lib/python3.7/site-packages (from fastai<3.0,>=2.3.1->autogluon.tabular[all]==0.3.1->autogluon) (21.3.1)\n",
      "Requirement already satisfied: portalocker in /usr/local/lib/python3.7/site-packages (from gluoncv<0.10.5,>=0.10.4->autogluon.extra==0.3.1->autogluon) (2.3.2)\n",
      "Requirement already satisfied: autocfg in /usr/local/lib/python3.7/site-packages (from gluoncv<0.10.5,>=0.10.4->autogluon.extra==0.3.1->autogluon) (0.0.8)\n",
      "Requirement already satisfied: opencv-python in /usr/local/lib/python3.7/site-packages (from gluoncv<0.10.5,>=0.10.4->autogluon.extra==0.3.1->autogluon) (4.5.4.60)\n",
      "Requirement already satisfied: wheel in /usr/local/lib/python3.7/site-packages (from lightgbm<4.0,>=3.0->autogluon.tabular[all]==0.3.1->autogluon) (0.37.1)\n",
      "Requirement already satisfied: python-dateutil>=2.7.3 in /usr/local/lib/python3.7/site-packages (from pandas<2.0,>=1.0.0->autogluon.core==0.3.1->autogluon) (2.8.2)\n",
      "Requirement already satisfied: pytz>=2017.3 in /usr/local/lib/python3.7/site-packages (from pandas<2.0,>=1.0.0->autogluon.core==0.3.1->autogluon) (2021.3)\n",
      "Requirement already satisfied: bcrypt>=3.1.3 in /usr/local/lib/python3.7/site-packages (from paramiko>=2.4->autogluon.core==0.3.1->autogluon) (3.2.0)\n",
      "Requirement already satisfied: pynacl>=1.0.1 in /usr/local/lib/python3.7/site-packages (from paramiko>=2.4->autogluon.core==0.3.1->autogluon) (1.4.0)\n",
      "Requirement already satisfied: cryptography>=2.5 in /usr/local/lib/python3.7/site-packages (from paramiko>=2.4->autogluon.core==0.3.1->autogluon) (36.0.0)\n",
      "Requirement already satisfied: joblib>=0.11 in /usr/local/lib/python3.7/site-packages (from scikit-learn<0.25,>=0.23.2->autogluon.core==0.3.1->autogluon) (1.1.0)\n",
      "Requirement already satisfied: threadpoolctl>=2.0.0 in /usr/local/lib/python3.7/site-packages (from scikit-learn<0.25,>=0.23.2->autogluon.core==0.3.1->autogluon) (3.0.0)\n",
      "Requirement already satisfied: typing-extensions in /usr/local/lib/python3.7/site-packages (from torch<2.0,>=1.0->autogluon.tabular[all]==0.3.1->autogluon) (3.10.0.2)\n",
      "Requirement already satisfied: jmespath<1.0.0,>=0.7.1 in /usr/local/lib/python3.7/site-packages (from boto3->autogluon.core==0.3.1->autogluon) (0.10.0)\n",
      "Requirement already satisfied: s3transfer<0.6.0,>=0.5.0 in /usr/local/lib/python3.7/site-packages (from boto3->autogluon.core==0.3.1->autogluon) (0.5.0)\n",
      "Requirement already satisfied: botocore<1.24.0,>=1.23.17 in /usr/local/lib/python3.7/site-packages (from boto3->autogluon.core==0.3.1->autogluon) (1.23.17)\n",
      "Requirement already satisfied: fonttools>=4.22.0 in /usr/local/lib/python3.7/site-packages (from matplotlib->autogluon.core==0.3.1->autogluon) (4.28.2)\n",
      "Requirement already satisfied: setuptools-scm>=4 in /usr/local/lib/python3.7/site-packages (from matplotlib->autogluon.core==0.3.1->autogluon) (6.3.2)\n",
      "Requirement already satisfied: cycler>=0.10 in /usr/local/lib/python3.7/site-packages (from matplotlib->autogluon.core==0.3.1->autogluon) (0.11.0)\n",
      "Requirement already satisfied: kiwisolver>=1.0.1 in /usr/local/lib/python3.7/site-packages (from matplotlib->autogluon.core==0.3.1->autogluon) (1.3.2)\n",
      "Requirement already satisfied: minio in /usr/local/lib/python3.7/site-packages (from openml->autogluon.extra==0.3.1->autogluon) (7.1.2)\n",
      "Requirement already satisfied: xmltodict in /usr/local/lib/python3.7/site-packages (from openml->autogluon.extra==0.3.1->autogluon) (0.12.0)\n",
      "Requirement already satisfied: liac-arff>=2.4.0 in /usr/local/lib/python3.7/site-packages (from openml->autogluon.extra==0.3.1->autogluon) (2.5.0)\n",
      "Requirement already satisfied: py>=1.8.2 in /usr/local/lib/python3.7/site-packages (from pytest->autogluon.extra==0.3.1->autogluon) (1.11.0)\n",
      "Requirement already satisfied: toml in /usr/local/lib/python3.7/site-packages (from pytest->autogluon.extra==0.3.1->autogluon) (0.10.2)\n",
      "Requirement already satisfied: pluggy<2.0,>=0.12 in /usr/local/lib/python3.7/site-packages (from pytest->autogluon.extra==0.3.1->autogluon) (1.0.0)\n",
      "Requirement already satisfied: importlib-metadata>=0.12 in /usr/local/lib/python3.7/site-packages (from pytest->autogluon.extra==0.3.1->autogluon) (4.2.0)\n",
      "Requirement already satisfied: iniconfig in /usr/local/lib/python3.7/site-packages (from pytest->autogluon.extra==0.3.1->autogluon) (1.1.1)\n",
      "Requirement already satisfied: attrs>=19.2.0 in /usr/local/lib/python3.7/site-packages (from pytest->autogluon.extra==0.3.1->autogluon) (21.2.0)\n",
      "Requirement already satisfied: idna<2.9,>=2.5 in /usr/local/lib/python3.7/site-packages (from requests->autogluon.core==0.3.1->autogluon) (2.8)\n",
      "Requirement already satisfied: chardet<3.1.0,>=3.0.2 in /usr/local/lib/python3.7/site-packages (from requests->autogluon.core==0.3.1->autogluon) (3.0.4)\n",
      "Requirement already satisfied: certifi>=2017.4.17 in /usr/local/lib/python3.7/site-packages (from requests->autogluon.core==0.3.1->autogluon) (2021.10.8)\n",
      "Requirement already satisfied: urllib3!=1.25.0,!=1.25.1,<1.26,>=1.21.1 in /usr/local/lib/python3.7/site-packages (from requests->autogluon.core==0.3.1->autogluon) (1.25.11)\n",
      "Requirement already satisfied: cffi>=1.1 in /usr/local/lib/python3.7/site-packages (from bcrypt>=3.1.3->paramiko>=2.4->autogluon.core==0.3.1->autogluon) (1.15.0)\n",
      "Requirement already satisfied: zipp>=0.5 in /usr/local/lib/python3.7/site-packages (from importlib-metadata>=0.12->pytest->autogluon.extra==0.3.1->autogluon) (3.6.0)\n",
      "Requirement already satisfied: locket in /usr/local/lib/python3.7/site-packages (from partd>=0.3.10->dask>=2.6.0->autogluon.core==0.3.1->autogluon) (0.2.1)\n",
      "Requirement already satisfied: tomli>=1.0.0 in /usr/local/lib/python3.7/site-packages (from setuptools-scm>=4->matplotlib->autogluon.core==0.3.1->autogluon) (1.2.2)\n",
      "Requirement already satisfied: wasabi<1.1.0,>=0.8.1 in /usr/local/lib/python3.7/site-packages (from spacy<4->fastai<3.0,>=2.3.1->autogluon.tabular[all]==0.3.1->autogluon) (0.9.0)\n",
      "Requirement already satisfied: pydantic!=1.8,!=1.8.1,<1.9.0,>=1.7.4 in /usr/local/lib/python3.7/site-packages (from spacy<4->fastai<3.0,>=2.3.1->autogluon.tabular[all]==0.3.1->autogluon) (1.8.2)\n",
      "Requirement already satisfied: blis<0.8.0,>=0.4.0 in /usr/local/lib/python3.7/site-packages (from spacy<4->fastai<3.0,>=2.3.1->autogluon.tabular[all]==0.3.1->autogluon) (0.7.5)\n",
      "Requirement already satisfied: catalogue<2.1.0,>=2.0.6 in /usr/local/lib/python3.7/site-packages (from spacy<4->fastai<3.0,>=2.3.1->autogluon.tabular[all]==0.3.1->autogluon) (2.0.6)\n",
      "Requirement already satisfied: cymem<2.1.0,>=2.0.2 in /usr/local/lib/python3.7/site-packages (from spacy<4->fastai<3.0,>=2.3.1->autogluon.tabular[all]==0.3.1->autogluon) (2.0.6)\n",
      "Requirement already satisfied: spacy-legacy<3.1.0,>=3.0.8 in /usr/local/lib/python3.7/site-packages (from spacy<4->fastai<3.0,>=2.3.1->autogluon.tabular[all]==0.3.1->autogluon) (3.0.8)\n",
      "Requirement already satisfied: murmurhash<1.1.0,>=0.28.0 in /usr/local/lib/python3.7/site-packages (from spacy<4->fastai<3.0,>=2.3.1->autogluon.tabular[all]==0.3.1->autogluon) (1.0.6)\n",
      "Requirement already satisfied: pathy>=0.3.5 in /usr/local/lib/python3.7/site-packages (from spacy<4->fastai<3.0,>=2.3.1->autogluon.tabular[all]==0.3.1->autogluon) (0.6.1)\n",
      "Requirement already satisfied: typer<0.5.0,>=0.3.0 in /usr/local/lib/python3.7/site-packages (from spacy<4->fastai<3.0,>=2.3.1->autogluon.tabular[all]==0.3.1->autogluon) (0.4.0)\n",
      "Requirement already satisfied: preshed<3.1.0,>=3.0.2 in /usr/local/lib/python3.7/site-packages (from spacy<4->fastai<3.0,>=2.3.1->autogluon.tabular[all]==0.3.1->autogluon) (3.0.6)\n",
      "Requirement already satisfied: langcodes<4.0.0,>=3.2.0 in /usr/local/lib/python3.7/site-packages (from spacy<4->fastai<3.0,>=2.3.1->autogluon.tabular[all]==0.3.1->autogluon) (3.3.0)\n",
      "Requirement already satisfied: srsly<3.0.0,>=2.4.1 in /usr/local/lib/python3.7/site-packages (from spacy<4->fastai<3.0,>=2.3.1->autogluon.tabular[all]==0.3.1->autogluon) (2.4.2)\n",
      "Requirement already satisfied: thinc<8.1.0,>=8.0.12 in /usr/local/lib/python3.7/site-packages (from spacy<4->fastai<3.0,>=2.3.1->autogluon.tabular[all]==0.3.1->autogluon) (8.0.13)\n",
      "Requirement already satisfied: spacy-loggers<2.0.0,>=1.0.0 in /usr/local/lib/python3.7/site-packages (from spacy<4->fastai<3.0,>=2.3.1->autogluon.tabular[all]==0.3.1->autogluon) (1.0.1)\n",
      "Requirement already satisfied: heapdict in /usr/local/lib/python3.7/site-packages (from zict>=0.1.3->distributed>=2.6.0->autogluon.core==0.3.1->autogluon) (1.0.1)\n",
      "Requirement already satisfied: immutables>=0.9 in /usr/local/lib/python3.7/site-packages (from contextvars->autogluon-contrib-nlp==0.0.1b20210201->autogluon.text==0.3.1->autogluon) (0.16)\n",
      "Requirement already satisfied: pyflakes<2.5.0,>=2.4.0 in /usr/local/lib/python3.7/site-packages (from flake8->autogluon-contrib-nlp==0.0.1b20210201->autogluon.text==0.3.1->autogluon) (2.4.0)\n",
      "Requirement already satisfied: pycodestyle<2.9.0,>=2.8.0 in /usr/local/lib/python3.7/site-packages (from flake8->autogluon-contrib-nlp==0.0.1b20210201->autogluon.text==0.3.1->autogluon) (2.8.0)\n",
      "Requirement already satisfied: mccabe<0.7.0,>=0.6.0 in /usr/local/lib/python3.7/site-packages (from flake8->autogluon-contrib-nlp==0.0.1b20210201->autogluon.text==0.3.1->autogluon) (0.6.1)\n",
      "Requirement already satisfied: MarkupSafe>=2.0 in /usr/local/lib/python3.7/site-packages (from jinja2->distributed>=2.6.0->autogluon.core==0.3.1->autogluon) (2.0.1)\n",
      "Requirement already satisfied: python-slugify in /usr/local/lib/python3.7/site-packages (from kaggle->d8<1.0,>=0.0.2->autogluon.vision==0.3.1->autogluon) (5.0.2)\n",
      "Requirement already satisfied: tenacity>=6.2.0 in /usr/local/lib/python3.7/site-packages (from plotly->catboost<0.26,>=0.24.0->autogluon.tabular[all]==0.3.1->autogluon) (8.0.1)\n",
      "Requirement already satisfied: tabulate>=0.8.9 in /usr/local/lib/python3.7/site-packages (from sacrebleu->autogluon-contrib-nlp==0.0.1b20210201->autogluon.text==0.3.1->autogluon) (0.8.9)\n",
      "Requirement already satisfied: colorama in /usr/local/lib/python3.7/site-packages (from sacrebleu->autogluon-contrib-nlp==0.0.1b20210201->autogluon.text==0.3.1->autogluon) (0.4.3)\n",
      "Requirement already satisfied: pycparser in /usr/local/lib/python3.7/site-packages (from cffi>=1.1->bcrypt>=3.1.3->paramiko>=2.4->autogluon.core==0.3.1->autogluon) (2.21)\n",
      "Requirement already satisfied: smart-open<6.0.0,>=5.0.0 in /usr/local/lib/python3.7/site-packages (from pathy>=0.3.5->spacy<4->fastai<3.0,>=2.3.1->autogluon.tabular[all]==0.3.1->autogluon) (5.2.1)\n",
      "Requirement already satisfied: text-unidecode>=1.3 in /usr/local/lib/python3.7/site-packages (from python-slugify->kaggle->d8<1.0,>=0.0.2->autogluon.vision==0.3.1->autogluon) (1.3)\n",
      "\u001b[33mWARNING: Running pip as the 'root' user can result in broken permissions and conflicting behaviour with the system package manager. It is recommended to use a virtual environment instead: https://pip.pypa.io/warnings/venv\u001b[0m\n"
     ]
    }
   ],
   "source": [
    "!pip install -U pip\n",
    "!pip install -U setuptools wheel\n",
    "!pip install -U \"mxnet<2.0.0\" bokeh==2.0.1\n",
    "!pip install autogluon --no-cache-dir\n",
    "# Without --no-cache-dir, smaller aws instances may have trouble installing"
   ]
  },
  {
   "cell_type": "markdown",
   "metadata": {},
   "source": [
    "### Setup Kaggle API Key"
   ]
  },
  {
   "cell_type": "code",
   "execution_count": 52,
   "metadata": {},
   "outputs": [],
   "source": [
    "# create the .kaggle directory and an empty kaggle.json file\n",
    "!mkdir -p /root/.kaggle\n",
    "!touch /root/.kaggle/kaggle.json\n",
    "!chmod 600 /root/.kaggle/kaggle.json"
   ]
  },
  {
   "cell_type": "code",
   "execution_count": 53,
   "metadata": {},
   "outputs": [],
   "source": [
    "# Fill in your user name and key from creating the kaggle account and API token file\n",
    "import json\n",
    "kaggle_username = \"KAGGLE_USERNAME\"\n",
    "kaggle_key = \"KAGGLE_KEY\"\n",
    "\n",
    "# Save API token the kaggle.json file\n",
    "with open(\"/root/.kaggle/kaggle.json\", \"w\") as f:\n",
    "    f.write(json.dumps({\"username\": kaggle_username, \"key\": kaggle_key}))"
   ]
  },
  {
   "cell_type": "markdown",
   "metadata": {},
   "source": [
    "### Download and explore dataset"
   ]
  },
  {
   "attachments": {
    "kaggle6.png": {
     "image/png": "[encoded data removed]"
    }
   },
   "cell_type": "markdown",
   "metadata": {},
   "source": [
    "### Go to the bike sharing demand competition and agree to the terms\n",
    "![kaggle6.png](attachment:kaggle6.png)"
   ]
  },
  {
   "cell_type": "code",
   "execution_count": 21,
   "metadata": {},
   "outputs": [
    {
     "name": "stdout",
     "output_type": "stream",
     "text": [
      "bike-sharing-demand.zip: Skipping, found more recently modified local copy (use --force to force download)\n",
      "Archive:  bike-sharing-demand.zip\n",
      "  inflating: sampleSubmission.csv    \n",
      "  inflating: test.csv                \n",
      "  inflating: train.csv               \n"
     ]
    }
   ],
   "source": [
    "# Download the dataset, it will be in a .zip file so you'll need to unzip it as well.\n",
    "!kaggle competitions download -c bike-sharing-demand\n",
    "# If you already downloaded it you can use the -o command to overwrite the file\n",
    "!unzip -o bike-sharing-demand.zip"
   ]
  },
  {
   "cell_type": "code",
   "execution_count": 79,
   "metadata": {},
   "outputs": [],
   "source": [
    "import pandas as pd\n",
    "from autogluon.tabular import TabularPredictor"
   ]
  },
  {
   "cell_type": "code",
   "execution_count": 80,
   "metadata": {},
   "outputs": [
    {
     "data": {
      "text/html": [
       "<div>\n",
       "<style scoped>\n",
       "    .dataframe tbody tr th:only-of-type {\n",
       "        vertical-align: middle;\n",
       "    }\n",
       "\n",
       "    .dataframe tbody tr th {\n",
       "        vertical-align: top;\n",
       "    }\n",
       "\n",
       "    .dataframe thead th {\n",
       "        text-align: right;\n",
       "    }\n",
       "</style>\n",
       "<table border=\"1\" class=\"dataframe\">\n",
       "  <thead>\n",
       "    <tr style=\"text-align: right;\">\n",
       "      <th></th>\n",
       "      <th>datetime</th>\n",
       "      <th>season</th>\n",
       "      <th>holiday</th>\n",
       "      <th>workingday</th>\n",
       "      <th>weather</th>\n",
       "      <th>temp</th>\n",
       "      <th>atemp</th>\n",
       "      <th>humidity</th>\n",
       "      <th>windspeed</th>\n",
       "      <th>casual</th>\n",
       "      <th>registered</th>\n",
       "      <th>count</th>\n",
       "    </tr>\n",
       "  </thead>\n",
       "  <tbody>\n",
       "    <tr>\n",
       "      <th>0</th>\n",
       "      <td>2011-01-01 00:00:00</td>\n",
       "      <td>1</td>\n",
       "      <td>0</td>\n",
       "      <td>0</td>\n",
       "      <td>1</td>\n",
       "      <td>9.84</td>\n",
       "      <td>14.395</td>\n",
       "      <td>81</td>\n",
       "      <td>0.0</td>\n",
       "      <td>3</td>\n",
       "      <td>13</td>\n",
       "      <td>16</td>\n",
       "    </tr>\n",
       "    <tr>\n",
       "      <th>1</th>\n",
       "      <td>2011-01-01 01:00:00</td>\n",
       "      <td>1</td>\n",
       "      <td>0</td>\n",
       "      <td>0</td>\n",
       "      <td>1</td>\n",
       "      <td>9.02</td>\n",
       "      <td>13.635</td>\n",
       "      <td>80</td>\n",
       "      <td>0.0</td>\n",
       "      <td>8</td>\n",
       "      <td>32</td>\n",
       "      <td>40</td>\n",
       "    </tr>\n",
       "    <tr>\n",
       "      <th>2</th>\n",
       "      <td>2011-01-01 02:00:00</td>\n",
       "      <td>1</td>\n",
       "      <td>0</td>\n",
       "      <td>0</td>\n",
       "      <td>1</td>\n",
       "      <td>9.02</td>\n",
       "      <td>13.635</td>\n",
       "      <td>80</td>\n",
       "      <td>0.0</td>\n",
       "      <td>5</td>\n",
       "      <td>27</td>\n",
       "      <td>32</td>\n",
       "    </tr>\n",
       "    <tr>\n",
       "      <th>3</th>\n",
       "      <td>2011-01-01 03:00:00</td>\n",
       "      <td>1</td>\n",
       "      <td>0</td>\n",
       "      <td>0</td>\n",
       "      <td>1</td>\n",
       "      <td>9.84</td>\n",
       "      <td>14.395</td>\n",
       "      <td>75</td>\n",
       "      <td>0.0</td>\n",
       "      <td>3</td>\n",
       "      <td>10</td>\n",
       "      <td>13</td>\n",
       "    </tr>\n",
       "    <tr>\n",
       "      <th>4</th>\n",
       "      <td>2011-01-01 04:00:00</td>\n",
       "      <td>1</td>\n",
       "      <td>0</td>\n",
       "      <td>0</td>\n",
       "      <td>1</td>\n",
       "      <td>9.84</td>\n",
       "      <td>14.395</td>\n",
       "      <td>75</td>\n",
       "      <td>0.0</td>\n",
       "      <td>0</td>\n",
       "      <td>1</td>\n",
       "      <td>1</td>\n",
       "    </tr>\n",
       "  </tbody>\n",
       "</table>\n",
       "</div>"
      ],
      "text/plain": [
       "             datetime  season  holiday  workingday  weather  temp   atemp  \\\n",
       "0 2011-01-01 00:00:00       1        0           0        1  9.84  14.395   \n",
       "1 2011-01-01 01:00:00       1        0           0        1  9.02  13.635   \n",
       "2 2011-01-01 02:00:00       1        0           0        1  9.02  13.635   \n",
       "3 2011-01-01 03:00:00       1        0           0        1  9.84  14.395   \n",
       "4 2011-01-01 04:00:00       1        0           0        1  9.84  14.395   \n",
       "\n",
       "   humidity  windspeed  casual  registered  count  \n",
       "0        81        0.0       3          13     16  \n",
       "1        80        0.0       8          32     40  \n",
       "2        80        0.0       5          27     32  \n",
       "3        75        0.0       3          10     13  \n",
       "4        75        0.0       0           1      1  "
      ]
     },
     "execution_count": 80,
     "metadata": {},
     "output_type": "execute_result"
    }
   ],
   "source": [
    "# Create the train dataset in pandas by reading the csv\n",
    "# Set the parsing of the datetime column so you can use some of the `dt` features in pandas later\n",
    "train = pd.read_csv('train.csv', parse_dates=['datetime'])\n",
    "train.head()"
   ]
  },
  {
   "cell_type": "code",
   "execution_count": 55,
   "metadata": {},
   "outputs": [
    {
     "data": {
      "text/html": [
       "<div>\n",
       "<style scoped>\n",
       "    .dataframe tbody tr th:only-of-type {\n",
       "        vertical-align: middle;\n",
       "    }\n",
       "\n",
       "    .dataframe tbody tr th {\n",
       "        vertical-align: top;\n",
       "    }\n",
       "\n",
       "    .dataframe thead th {\n",
       "        text-align: right;\n",
       "    }\n",
       "</style>\n",
       "<table border=\"1\" class=\"dataframe\">\n",
       "  <thead>\n",
       "    <tr style=\"text-align: right;\">\n",
       "      <th></th>\n",
       "      <th>season</th>\n",
       "      <th>holiday</th>\n",
       "      <th>workingday</th>\n",
       "      <th>weather</th>\n",
       "      <th>temp</th>\n",
       "      <th>atemp</th>\n",
       "      <th>humidity</th>\n",
       "      <th>windspeed</th>\n",
       "      <th>casual</th>\n",
       "      <th>registered</th>\n",
       "      <th>count</th>\n",
       "    </tr>\n",
       "  </thead>\n",
       "  <tbody>\n",
       "    <tr>\n",
       "      <th>count</th>\n",
       "      <td>10886.000000</td>\n",
       "      <td>10886.000000</td>\n",
       "      <td>10886.000000</td>\n",
       "      <td>10886.000000</td>\n",
       "      <td>10886.00000</td>\n",
       "      <td>10886.000000</td>\n",
       "      <td>10886.000000</td>\n",
       "      <td>10886.000000</td>\n",
       "      <td>10886.000000</td>\n",
       "      <td>10886.000000</td>\n",
       "      <td>10886.000000</td>\n",
       "    </tr>\n",
       "    <tr>\n",
       "      <th>mean</th>\n",
       "      <td>2.506614</td>\n",
       "      <td>0.028569</td>\n",
       "      <td>0.680875</td>\n",
       "      <td>1.418427</td>\n",
       "      <td>20.23086</td>\n",
       "      <td>23.655084</td>\n",
       "      <td>61.886460</td>\n",
       "      <td>12.799395</td>\n",
       "      <td>36.021955</td>\n",
       "      <td>155.552177</td>\n",
       "      <td>191.574132</td>\n",
       "    </tr>\n",
       "    <tr>\n",
       "      <th>std</th>\n",
       "      <td>1.116174</td>\n",
       "      <td>0.166599</td>\n",
       "      <td>0.466159</td>\n",
       "      <td>0.633839</td>\n",
       "      <td>7.79159</td>\n",
       "      <td>8.474601</td>\n",
       "      <td>19.245033</td>\n",
       "      <td>8.164537</td>\n",
       "      <td>49.960477</td>\n",
       "      <td>151.039033</td>\n",
       "      <td>181.144454</td>\n",
       "    </tr>\n",
       "    <tr>\n",
       "      <th>min</th>\n",
       "      <td>1.000000</td>\n",
       "      <td>0.000000</td>\n",
       "      <td>0.000000</td>\n",
       "      <td>1.000000</td>\n",
       "      <td>0.82000</td>\n",
       "      <td>0.760000</td>\n",
       "      <td>0.000000</td>\n",
       "      <td>0.000000</td>\n",
       "      <td>0.000000</td>\n",
       "      <td>0.000000</td>\n",
       "      <td>1.000000</td>\n",
       "    </tr>\n",
       "    <tr>\n",
       "      <th>25%</th>\n",
       "      <td>2.000000</td>\n",
       "      <td>0.000000</td>\n",
       "      <td>0.000000</td>\n",
       "      <td>1.000000</td>\n",
       "      <td>13.94000</td>\n",
       "      <td>16.665000</td>\n",
       "      <td>47.000000</td>\n",
       "      <td>7.001500</td>\n",
       "      <td>4.000000</td>\n",
       "      <td>36.000000</td>\n",
       "      <td>42.000000</td>\n",
       "    </tr>\n",
       "    <tr>\n",
       "      <th>50%</th>\n",
       "      <td>3.000000</td>\n",
       "      <td>0.000000</td>\n",
       "      <td>1.000000</td>\n",
       "      <td>1.000000</td>\n",
       "      <td>20.50000</td>\n",
       "      <td>24.240000</td>\n",
       "      <td>62.000000</td>\n",
       "      <td>12.998000</td>\n",
       "      <td>17.000000</td>\n",
       "      <td>118.000000</td>\n",
       "      <td>145.000000</td>\n",
       "    </tr>\n",
       "    <tr>\n",
       "      <th>75%</th>\n",
       "      <td>4.000000</td>\n",
       "      <td>0.000000</td>\n",
       "      <td>1.000000</td>\n",
       "      <td>2.000000</td>\n",
       "      <td>26.24000</td>\n",
       "      <td>31.060000</td>\n",
       "      <td>77.000000</td>\n",
       "      <td>16.997900</td>\n",
       "      <td>49.000000</td>\n",
       "      <td>222.000000</td>\n",
       "      <td>284.000000</td>\n",
       "    </tr>\n",
       "    <tr>\n",
       "      <th>max</th>\n",
       "      <td>4.000000</td>\n",
       "      <td>1.000000</td>\n",
       "      <td>1.000000</td>\n",
       "      <td>4.000000</td>\n",
       "      <td>41.00000</td>\n",
       "      <td>45.455000</td>\n",
       "      <td>100.000000</td>\n",
       "      <td>56.996900</td>\n",
       "      <td>367.000000</td>\n",
       "      <td>886.000000</td>\n",
       "      <td>977.000000</td>\n",
       "    </tr>\n",
       "  </tbody>\n",
       "</table>\n",
       "</div>"
      ],
      "text/plain": [
       "             season       holiday    workingday       weather         temp  \\\n",
       "count  10886.000000  10886.000000  10886.000000  10886.000000  10886.00000   \n",
       "mean       2.506614      0.028569      0.680875      1.418427     20.23086   \n",
       "std        1.116174      0.166599      0.466159      0.633839      7.79159   \n",
       "min        1.000000      0.000000      0.000000      1.000000      0.82000   \n",
       "25%        2.000000      0.000000      0.000000      1.000000     13.94000   \n",
       "50%        3.000000      0.000000      1.000000      1.000000     20.50000   \n",
       "75%        4.000000      0.000000      1.000000      2.000000     26.24000   \n",
       "max        4.000000      1.000000      1.000000      4.000000     41.00000   \n",
       "\n",
       "              atemp      humidity     windspeed        casual    registered  \\\n",
       "count  10886.000000  10886.000000  10886.000000  10886.000000  10886.000000   \n",
       "mean      23.655084     61.886460     12.799395     36.021955    155.552177   \n",
       "std        8.474601     19.245033      8.164537     49.960477    151.039033   \n",
       "min        0.760000      0.000000      0.000000      0.000000      0.000000   \n",
       "25%       16.665000     47.000000      7.001500      4.000000     36.000000   \n",
       "50%       24.240000     62.000000     12.998000     17.000000    118.000000   \n",
       "75%       31.060000     77.000000     16.997900     49.000000    222.000000   \n",
       "max       45.455000    100.000000     56.996900    367.000000    886.000000   \n",
       "\n",
       "              count  \n",
       "count  10886.000000  \n",
       "mean     191.574132  \n",
       "std      181.144454  \n",
       "min        1.000000  \n",
       "25%       42.000000  \n",
       "50%      145.000000  \n",
       "75%      284.000000  \n",
       "max      977.000000  "
      ]
     },
     "execution_count": 55,
     "metadata": {},
     "output_type": "execute_result"
    }
   ],
   "source": [
    "# Simple output of the train dataset to view some of the min/max/varition of the dataset features.\n",
    "train.describe()"
   ]
  },
  {
   "cell_type": "code",
   "execution_count": 81,
   "metadata": {},
   "outputs": [
    {
     "data": {
      "text/html": [
       "<div>\n",
       "<style scoped>\n",
       "    .dataframe tbody tr th:only-of-type {\n",
       "        vertical-align: middle;\n",
       "    }\n",
       "\n",
       "    .dataframe tbody tr th {\n",
       "        vertical-align: top;\n",
       "    }\n",
       "\n",
       "    .dataframe thead th {\n",
       "        text-align: right;\n",
       "    }\n",
       "</style>\n",
       "<table border=\"1\" class=\"dataframe\">\n",
       "  <thead>\n",
       "    <tr style=\"text-align: right;\">\n",
       "      <th></th>\n",
       "      <th>datetime</th>\n",
       "      <th>season</th>\n",
       "      <th>holiday</th>\n",
       "      <th>workingday</th>\n",
       "      <th>weather</th>\n",
       "      <th>temp</th>\n",
       "      <th>atemp</th>\n",
       "      <th>humidity</th>\n",
       "      <th>windspeed</th>\n",
       "    </tr>\n",
       "  </thead>\n",
       "  <tbody>\n",
       "    <tr>\n",
       "      <th>0</th>\n",
       "      <td>2011-01-20 00:00:00</td>\n",
       "      <td>1</td>\n",
       "      <td>0</td>\n",
       "      <td>1</td>\n",
       "      <td>1</td>\n",
       "      <td>10.66</td>\n",
       "      <td>11.365</td>\n",
       "      <td>56</td>\n",
       "      <td>26.0027</td>\n",
       "    </tr>\n",
       "    <tr>\n",
       "      <th>1</th>\n",
       "      <td>2011-01-20 01:00:00</td>\n",
       "      <td>1</td>\n",
       "      <td>0</td>\n",
       "      <td>1</td>\n",
       "      <td>1</td>\n",
       "      <td>10.66</td>\n",
       "      <td>13.635</td>\n",
       "      <td>56</td>\n",
       "      <td>0.0000</td>\n",
       "    </tr>\n",
       "    <tr>\n",
       "      <th>2</th>\n",
       "      <td>2011-01-20 02:00:00</td>\n",
       "      <td>1</td>\n",
       "      <td>0</td>\n",
       "      <td>1</td>\n",
       "      <td>1</td>\n",
       "      <td>10.66</td>\n",
       "      <td>13.635</td>\n",
       "      <td>56</td>\n",
       "      <td>0.0000</td>\n",
       "    </tr>\n",
       "    <tr>\n",
       "      <th>3</th>\n",
       "      <td>2011-01-20 03:00:00</td>\n",
       "      <td>1</td>\n",
       "      <td>0</td>\n",
       "      <td>1</td>\n",
       "      <td>1</td>\n",
       "      <td>10.66</td>\n",
       "      <td>12.880</td>\n",
       "      <td>56</td>\n",
       "      <td>11.0014</td>\n",
       "    </tr>\n",
       "    <tr>\n",
       "      <th>4</th>\n",
       "      <td>2011-01-20 04:00:00</td>\n",
       "      <td>1</td>\n",
       "      <td>0</td>\n",
       "      <td>1</td>\n",
       "      <td>1</td>\n",
       "      <td>10.66</td>\n",
       "      <td>12.880</td>\n",
       "      <td>56</td>\n",
       "      <td>11.0014</td>\n",
       "    </tr>\n",
       "  </tbody>\n",
       "</table>\n",
       "</div>"
      ],
      "text/plain": [
       "             datetime  season  holiday  workingday  weather   temp   atemp  \\\n",
       "0 2011-01-20 00:00:00       1        0           1        1  10.66  11.365   \n",
       "1 2011-01-20 01:00:00       1        0           1        1  10.66  13.635   \n",
       "2 2011-01-20 02:00:00       1        0           1        1  10.66  13.635   \n",
       "3 2011-01-20 03:00:00       1        0           1        1  10.66  12.880   \n",
       "4 2011-01-20 04:00:00       1        0           1        1  10.66  12.880   \n",
       "\n",
       "   humidity  windspeed  \n",
       "0        56    26.0027  \n",
       "1        56     0.0000  \n",
       "2        56     0.0000  \n",
       "3        56    11.0014  \n",
       "4        56    11.0014  "
      ]
     },
     "execution_count": 81,
     "metadata": {},
     "output_type": "execute_result"
    }
   ],
   "source": [
    "# Create the test pandas dataframe in pandas by reading the csv, remember to parse the datetime!\n",
    "test = pd.read_csv('test.csv', parse_dates=['datetime'])\n",
    "test.head()"
   ]
  },
  {
   "cell_type": "code",
   "execution_count": 82,
   "metadata": {},
   "outputs": [
    {
     "data": {
      "text/html": [
       "<div>\n",
       "<style scoped>\n",
       "    .dataframe tbody tr th:only-of-type {\n",
       "        vertical-align: middle;\n",
       "    }\n",
       "\n",
       "    .dataframe tbody tr th {\n",
       "        vertical-align: top;\n",
       "    }\n",
       "\n",
       "    .dataframe thead th {\n",
       "        text-align: right;\n",
       "    }\n",
       "</style>\n",
       "<table border=\"1\" class=\"dataframe\">\n",
       "  <thead>\n",
       "    <tr style=\"text-align: right;\">\n",
       "      <th></th>\n",
       "      <th>datetime</th>\n",
       "      <th>count</th>\n",
       "    </tr>\n",
       "  </thead>\n",
       "  <tbody>\n",
       "    <tr>\n",
       "      <th>0</th>\n",
       "      <td>2011-01-20 00:00:00</td>\n",
       "      <td>0</td>\n",
       "    </tr>\n",
       "    <tr>\n",
       "      <th>1</th>\n",
       "      <td>2011-01-20 01:00:00</td>\n",
       "      <td>0</td>\n",
       "    </tr>\n",
       "    <tr>\n",
       "      <th>2</th>\n",
       "      <td>2011-01-20 02:00:00</td>\n",
       "      <td>0</td>\n",
       "    </tr>\n",
       "    <tr>\n",
       "      <th>3</th>\n",
       "      <td>2011-01-20 03:00:00</td>\n",
       "      <td>0</td>\n",
       "    </tr>\n",
       "    <tr>\n",
       "      <th>4</th>\n",
       "      <td>2011-01-20 04:00:00</td>\n",
       "      <td>0</td>\n",
       "    </tr>\n",
       "  </tbody>\n",
       "</table>\n",
       "</div>"
      ],
      "text/plain": [
       "             datetime  count\n",
       "0 2011-01-20 00:00:00      0\n",
       "1 2011-01-20 01:00:00      0\n",
       "2 2011-01-20 02:00:00      0\n",
       "3 2011-01-20 03:00:00      0\n",
       "4 2011-01-20 04:00:00      0"
      ]
     },
     "execution_count": 82,
     "metadata": {},
     "output_type": "execute_result"
    }
   ],
   "source": [
    "# Same thing as train and test dataset\n",
    "submission = pd.read_csv('sampleSubmission.csv', parse_dates=['datetime'])\n",
    "submission.head()"
   ]
  },
  {
   "cell_type": "markdown",
   "metadata": {},
   "source": [
    "## Step 3: Train a model using AutoGluon’s Tabular Prediction"
   ]
  },
  {
   "cell_type": "markdown",
   "metadata": {},
   "source": [
    "Requirements:\n",
    "* We are prediting `count`, so it is the label we are setting.\n",
    "* Ignore `casual` and `registered` columns as they are also not present in the test dataset. \n",
    "* Use the `root_mean_squared_error` as the metric to use for evaluation.\n",
    "* Set a time limit of 10 minutes (600 seconds).\n",
    "* Use the preset `best_quality` to focus on creating the best model."
   ]
  },
  {
   "cell_type": "code",
   "execution_count": 27,
   "metadata": {},
   "outputs": [
    {
     "name": "stderr",
     "output_type": "stream",
     "text": [
      "No path specified. Models will be saved in: \"AutogluonModels/ag-20220112_050054/\"\n",
      "Presets specified: ['best_quality']\n",
      "Beginning AutoGluon training ... Time limit = 600s\n",
      "AutoGluon will save models to \"AutogluonModels/ag-20220112_050054/\"\n",
      "AutoGluon Version:  0.3.1\n",
      "Train Data Rows:    10886\n",
      "Train Data Columns: 9\n",
      "Preprocessing data ...\n",
      "AutoGluon infers your prediction problem is: 'regression' (because dtype of label-column == int and many unique label-values observed).\n",
      "\tLabel info (max, min, mean, stddev): (977, 1, 191.57413, 181.14445)\n",
      "\tIf 'regression' is not the correct problem_type, please manually specify the problem_type argument in fit() (You may specify problem_type as one of: ['binary', 'multiclass', 'regression'])\n",
      "Using Feature Generators to preprocess the data ...\n",
      "Fitting AutoMLPipelineFeatureGenerator...\n",
      "\tAvailable Memory:                    2375.03 MB\n",
      "\tTrain Data (Original)  Memory Usage: 0.78 MB (0.0% of available memory)\n",
      "\tInferring data type of each feature based on column values. Set feature_metadata_in to manually specify special dtypes of the features.\n",
      "\tStage 1 Generators:\n",
      "\t\tFitting AsTypeFeatureGenerator...\n",
      "\t\t\tNote: Converting 2 features to boolean dtype as they only contain 2 unique values.\n",
      "\tStage 2 Generators:\n",
      "\t\tFitting FillNaFeatureGenerator...\n",
      "\tStage 3 Generators:\n",
      "\t\tFitting IdentityFeatureGenerator...\n",
      "\t\tFitting DatetimeFeatureGenerator...\n",
      "\tStage 4 Generators:\n",
      "\t\tFitting DropUniqueFeatureGenerator...\n",
      "\tTypes of features in original data (raw dtype, special dtypes):\n",
      "\t\t('datetime', []) : 1 | ['datetime']\n",
      "\t\t('float', [])    : 3 | ['temp', 'atemp', 'windspeed']\n",
      "\t\t('int', [])      : 5 | ['season', 'holiday', 'workingday', 'weather', 'humidity']\n",
      "\tTypes of features in processed data (raw dtype, special dtypes):\n",
      "\t\t('float', [])                : 3 | ['temp', 'atemp', 'windspeed']\n",
      "\t\t('int', [])                  : 3 | ['season', 'weather', 'humidity']\n",
      "\t\t('int', ['bool'])            : 2 | ['holiday', 'workingday']\n",
      "\t\t('int', ['datetime_as_int']) : 1 | ['datetime']\n",
      "\t0.1s = Fit runtime\n",
      "\t9 features in original data used to generate 9 features in processed data.\n",
      "\tTrain Data (Processed) Memory Usage: 0.63 MB (0.0% of available memory)\n",
      "Data preprocessing and feature engineering runtime = 0.15s ...\n",
      "AutoGluon will gauge predictive performance using evaluation metric: 'root_mean_squared_error'\n",
      "\tTo change this, specify the eval_metric argument of fit()\n",
      "AutoGluon will fit 2 stack levels (L1 to L2) ...\n",
      "Fitting 11 L1 models ...\n",
      "Fitting model: KNeighborsUnif_BAG_L1 ... Training model for up to 399.8s of the 599.84s of remaining time.\n",
      "\t-160.4131\t = Validation score   (root_mean_squared_error)\n",
      "\t0.03s\t = Training   runtime\n",
      "\t0.1s\t = Validation runtime\n",
      "Fitting model: KNeighborsDist_BAG_L1 ... Training model for up to 399.4s of the 599.45s of remaining time.\n",
      "\t-169.5521\t = Validation score   (root_mean_squared_error)\n",
      "\t0.02s\t = Training   runtime\n",
      "\t0.11s\t = Validation runtime\n",
      "Fitting model: LightGBMXT_BAG_L1 ... Training model for up to 399.03s of the 599.08s of remaining time.\n",
      "/usr/local/lib/python3.7/site-packages/lightgbm/engine.py:239: UserWarning: 'verbose_eval' argument is deprecated and will be removed in a future release of LightGBM. Pass 'log_evaluation()' callback via 'callbacks' argument instead.\n",
      "  _log_warning(\"'verbose_eval' argument is deprecated and will be removed in a future release of LightGBM. \"\n"
     ]
    },
    {
     "name": "stdout",
     "output_type": "stream",
     "text": [
      "[1000]\ttrain_set's rmse: 123.806\tvalid_set's rmse: 134.369\n",
      "[2000]\ttrain_set's rmse: 117.412\tvalid_set's rmse: 133.705\n"
     ]
    },
    {
     "name": "stderr",
     "output_type": "stream",
     "text": [
      "/usr/local/lib/python3.7/site-packages/lightgbm/engine.py:239: UserWarning: 'verbose_eval' argument is deprecated and will be removed in a future release of LightGBM. Pass 'log_evaluation()' callback via 'callbacks' argument instead.\n",
      "  _log_warning(\"'verbose_eval' argument is deprecated and will be removed in a future release of LightGBM. \"\n"
     ]
    },
    {
     "name": "stdout",
     "output_type": "stream",
     "text": [
      "[1000]\ttrain_set's rmse: 123.42\tvalid_set's rmse: 141.5\n"
     ]
    },
    {
     "name": "stderr",
     "output_type": "stream",
     "text": [
      "/usr/local/lib/python3.7/site-packages/lightgbm/engine.py:239: UserWarning: 'verbose_eval' argument is deprecated and will be removed in a future release of LightGBM. Pass 'log_evaluation()' callback via 'callbacks' argument instead.\n",
      "  _log_warning(\"'verbose_eval' argument is deprecated and will be removed in a future release of LightGBM. \"\n"
     ]
    },
    {
     "name": "stdout",
     "output_type": "stream",
     "text": [
      "[1000]\ttrain_set's rmse: 125.097\tvalid_set's rmse: 128.797\n",
      "[2000]\ttrain_set's rmse: 119.003\tvalid_set's rmse: 127.909\n",
      "[3000]\ttrain_set's rmse: 114.63\tvalid_set's rmse: 127.431\n",
      "[4000]\ttrain_set's rmse: 111.295\tvalid_set's rmse: 126.943\n",
      "[5000]\ttrain_set's rmse: 108.576\tvalid_set's rmse: 126.844\n",
      "[6000]\ttrain_set's rmse: 106.085\tvalid_set's rmse: 126.71\n"
     ]
    },
    {
     "name": "stderr",
     "output_type": "stream",
     "text": [
      "/usr/local/lib/python3.7/site-packages/lightgbm/engine.py:239: UserWarning: 'verbose_eval' argument is deprecated and will be removed in a future release of LightGBM. Pass 'log_evaluation()' callback via 'callbacks' argument instead.\n",
      "  _log_warning(\"'verbose_eval' argument is deprecated and will be removed in a future release of LightGBM. \"\n"
     ]
    },
    {
     "name": "stdout",
     "output_type": "stream",
     "text": [
      "[1000]\ttrain_set's rmse: 124.131\tvalid_set's rmse: 138.303\n",
      "[2000]\ttrain_set's rmse: 117.833\tvalid_set's rmse: 137.535\n"
     ]
    },
    {
     "name": "stderr",
     "output_type": "stream",
     "text": [
      "/usr/local/lib/python3.7/site-packages/lightgbm/engine.py:239: UserWarning: 'verbose_eval' argument is deprecated and will be removed in a future release of LightGBM. Pass 'log_evaluation()' callback via 'callbacks' argument instead.\n",
      "  _log_warning(\"'verbose_eval' argument is deprecated and will be removed in a future release of LightGBM. \"\n"
     ]
    },
    {
     "name": "stdout",
     "output_type": "stream",
     "text": [
      "[1000]\ttrain_set's rmse: 124.871\tvalid_set's rmse: 128.052\n",
      "[2000]\ttrain_set's rmse: 118.547\tvalid_set's rmse: 127.003\n",
      "[3000]\ttrain_set's rmse: 114.124\tvalid_set's rmse: 126.834\n",
      "[4000]\ttrain_set's rmse: 110.645\tvalid_set's rmse: 126.694\n"
     ]
    },
    {
     "name": "stderr",
     "output_type": "stream",
     "text": [
      "/usr/local/lib/python3.7/site-packages/lightgbm/engine.py:239: UserWarning: 'verbose_eval' argument is deprecated and will be removed in a future release of LightGBM. Pass 'log_evaluation()' callback via 'callbacks' argument instead.\n",
      "  _log_warning(\"'verbose_eval' argument is deprecated and will be removed in a future release of LightGBM. \"\n"
     ]
    },
    {
     "name": "stdout",
     "output_type": "stream",
     "text": [
      "[1000]\ttrain_set's rmse: 124.654\tvalid_set's rmse: 135.095\n",
      "[2000]\ttrain_set's rmse: 118.764\tvalid_set's rmse: 133.849\n",
      "[3000]\ttrain_set's rmse: 114.615\tvalid_set's rmse: 133.509\n",
      "[4000]\ttrain_set's rmse: 111.249\tvalid_set's rmse: 133.472\n",
      "[5000]\ttrain_set's rmse: 108.455\tvalid_set's rmse: 133.281\n"
     ]
    },
    {
     "name": "stderr",
     "output_type": "stream",
     "text": [
      "/usr/local/lib/python3.7/site-packages/lightgbm/engine.py:239: UserWarning: 'verbose_eval' argument is deprecated and will be removed in a future release of LightGBM. Pass 'log_evaluation()' callback via 'callbacks' argument instead.\n",
      "  _log_warning(\"'verbose_eval' argument is deprecated and will be removed in a future release of LightGBM. \"\n"
     ]
    },
    {
     "name": "stdout",
     "output_type": "stream",
     "text": [
      "[1000]\ttrain_set's rmse: 124.01\tvalid_set's rmse: 139.355\n",
      "[2000]\ttrain_set's rmse: 117.819\tvalid_set's rmse: 138.312\n",
      "[3000]\ttrain_set's rmse: 113.4\tvalid_set's rmse: 137.886\n",
      "[4000]\ttrain_set's rmse: 110.032\tvalid_set's rmse: 137.758\n"
     ]
    },
    {
     "name": "stderr",
     "output_type": "stream",
     "text": [
      "/usr/local/lib/python3.7/site-packages/lightgbm/engine.py:239: UserWarning: 'verbose_eval' argument is deprecated and will be removed in a future release of LightGBM. Pass 'log_evaluation()' callback via 'callbacks' argument instead.\n",
      "  _log_warning(\"'verbose_eval' argument is deprecated and will be removed in a future release of LightGBM. \"\n"
     ]
    },
    {
     "name": "stdout",
     "output_type": "stream",
     "text": [
      "[1000]\ttrain_set's rmse: 124.47\tvalid_set's rmse: 135.412\n"
     ]
    },
    {
     "name": "stderr",
     "output_type": "stream",
     "text": [
      "/usr/local/lib/python3.7/site-packages/lightgbm/engine.py:239: UserWarning: 'verbose_eval' argument is deprecated and will be removed in a future release of LightGBM. Pass 'log_evaluation()' callback via 'callbacks' argument instead.\n",
      "  _log_warning(\"'verbose_eval' argument is deprecated and will be removed in a future release of LightGBM. \"\n"
     ]
    },
    {
     "name": "stdout",
     "output_type": "stream",
     "text": [
      "[1000]\ttrain_set's rmse: 124.18\tvalid_set's rmse: 137.579\n",
      "[2000]\ttrain_set's rmse: 117.782\tvalid_set's rmse: 136.664\n",
      "[3000]\ttrain_set's rmse: 113.447\tvalid_set's rmse: 136.246\n",
      "[4000]\ttrain_set's rmse: 109.982\tvalid_set's rmse: 136.227\n"
     ]
    },
    {
     "name": "stderr",
     "output_type": "stream",
     "text": [
      "/usr/local/lib/python3.7/site-packages/lightgbm/engine.py:239: UserWarning: 'verbose_eval' argument is deprecated and will be removed in a future release of LightGBM. Pass 'log_evaluation()' callback via 'callbacks' argument instead.\n",
      "  _log_warning(\"'verbose_eval' argument is deprecated and will be removed in a future release of LightGBM. \"\n"
     ]
    },
    {
     "name": "stdout",
     "output_type": "stream",
     "text": [
      "[1000]\ttrain_set's rmse: 124.641\tvalid_set's rmse: 132.484\n"
     ]
    },
    {
     "name": "stderr",
     "output_type": "stream",
     "text": [
      "\t-134.0883\t = Validation score   (root_mean_squared_error)\n",
      "\t52.2s\t = Training   runtime\n",
      "\t2.43s\t = Validation runtime\n",
      "Fitting model: LightGBM_BAG_L1 ... Training model for up to 338.41s of the 538.46s of remaining time.\n",
      "/usr/local/lib/python3.7/site-packages/lightgbm/engine.py:239: UserWarning: 'verbose_eval' argument is deprecated and will be removed in a future release of LightGBM. Pass 'log_evaluation()' callback via 'callbacks' argument instead.\n",
      "  _log_warning(\"'verbose_eval' argument is deprecated and will be removed in a future release of LightGBM. \"\n",
      "/usr/local/lib/python3.7/site-packages/lightgbm/engine.py:239: UserWarning: 'verbose_eval' argument is deprecated and will be removed in a future release of LightGBM. Pass 'log_evaluation()' callback via 'callbacks' argument instead.\n",
      "  _log_warning(\"'verbose_eval' argument is deprecated and will be removed in a future release of LightGBM. \"\n",
      "/usr/local/lib/python3.7/site-packages/lightgbm/engine.py:239: UserWarning: 'verbose_eval' argument is deprecated and will be removed in a future release of LightGBM. Pass 'log_evaluation()' callback via 'callbacks' argument instead.\n",
      "  _log_warning(\"'verbose_eval' argument is deprecated and will be removed in a future release of LightGBM. \"\n"
     ]
    },
    {
     "name": "stdout",
     "output_type": "stream",
     "text": [
      "[1000]\ttrain_set's rmse: 96.0217\tvalid_set's rmse: 123.249\n"
     ]
    },
    {
     "name": "stderr",
     "output_type": "stream",
     "text": [
      "/usr/local/lib/python3.7/site-packages/lightgbm/engine.py:239: UserWarning: 'verbose_eval' argument is deprecated and will be removed in a future release of LightGBM. Pass 'log_evaluation()' callback via 'callbacks' argument instead.\n",
      "  _log_warning(\"'verbose_eval' argument is deprecated and will be removed in a future release of LightGBM. \"\n"
     ]
    },
    {
     "name": "stdout",
     "output_type": "stream",
     "text": [
      "[1000]\ttrain_set's rmse: 94.7479\tvalid_set's rmse: 135.635\n"
     ]
    },
    {
     "name": "stderr",
     "output_type": "stream",
     "text": [
      "/usr/local/lib/python3.7/site-packages/lightgbm/engine.py:239: UserWarning: 'verbose_eval' argument is deprecated and will be removed in a future release of LightGBM. Pass 'log_evaluation()' callback via 'callbacks' argument instead.\n",
      "  _log_warning(\"'verbose_eval' argument is deprecated and will be removed in a future release of LightGBM. \"\n",
      "/usr/local/lib/python3.7/site-packages/lightgbm/engine.py:239: UserWarning: 'verbose_eval' argument is deprecated and will be removed in a future release of LightGBM. Pass 'log_evaluation()' callback via 'callbacks' argument instead.\n",
      "  _log_warning(\"'verbose_eval' argument is deprecated and will be removed in a future release of LightGBM. \"\n"
     ]
    },
    {
     "name": "stdout",
     "output_type": "stream",
     "text": [
      "[1000]\ttrain_set's rmse: 95.3055\tvalid_set's rmse: 132.087\n"
     ]
    },
    {
     "name": "stderr",
     "output_type": "stream",
     "text": [
      "/usr/local/lib/python3.7/site-packages/lightgbm/engine.py:239: UserWarning: 'verbose_eval' argument is deprecated and will be removed in a future release of LightGBM. Pass 'log_evaluation()' callback via 'callbacks' argument instead.\n",
      "  _log_warning(\"'verbose_eval' argument is deprecated and will be removed in a future release of LightGBM. \"\n",
      "/usr/local/lib/python3.7/site-packages/lightgbm/engine.py:239: UserWarning: 'verbose_eval' argument is deprecated and will be removed in a future release of LightGBM. Pass 'log_evaluation()' callback via 'callbacks' argument instead.\n",
      "  _log_warning(\"'verbose_eval' argument is deprecated and will be removed in a future release of LightGBM. \"\n"
     ]
    },
    {
     "name": "stdout",
     "output_type": "stream",
     "text": [
      "[1000]\ttrain_set's rmse: 95.1635\tvalid_set's rmse: 131.521\n"
     ]
    },
    {
     "name": "stderr",
     "output_type": "stream",
     "text": [
      "/usr/local/lib/python3.7/site-packages/lightgbm/engine.py:239: UserWarning: 'verbose_eval' argument is deprecated and will be removed in a future release of LightGBM. Pass 'log_evaluation()' callback via 'callbacks' argument instead.\n",
      "  _log_warning(\"'verbose_eval' argument is deprecated and will be removed in a future release of LightGBM. \"\n",
      "/usr/local/lib/python3.7/site-packages/lightgbm/engine.py:239: UserWarning: 'verbose_eval' argument is deprecated and will be removed in a future release of LightGBM. Pass 'log_evaluation()' callback via 'callbacks' argument instead.\n",
      "  _log_warning(\"'verbose_eval' argument is deprecated and will be removed in a future release of LightGBM. \"\n",
      "\t-132.2864\t = Validation score   (root_mean_squared_error)\n",
      "\t18.6s\t = Training   runtime\n",
      "\t0.51s\t = Validation runtime\n",
      "Fitting model: RandomForestMSE_BAG_L1 ... Training model for up to 317.31s of the 517.36s of remaining time.\n",
      "\t-118.4567\t = Validation score   (root_mean_squared_error)\n",
      "\t6.94s\t = Training   runtime\n",
      "\t0.38s\t = Validation runtime\n",
      "Fitting model: CatBoost_BAG_L1 ... Training model for up to 307.43s of the 507.48s of remaining time.\n",
      "\t-132.3497\t = Validation score   (root_mean_squared_error)\n",
      "\t59.4s\t = Training   runtime\n",
      "\t0.05s\t = Validation runtime\n",
      "Fitting model: ExtraTreesMSE_BAG_L1 ... Training model for up to 247.19s of the 447.23s of remaining time.\n",
      "\t-128.7334\t = Validation score   (root_mean_squared_error)\n",
      "\t3.13s\t = Training   runtime\n",
      "\t0.38s\t = Validation runtime\n",
      "Fitting model: NeuralNetFastAI_BAG_L1 ... Training model for up to 241.05s of the 441.09s of remaining time.\n",
      "\t-138.16\t = Validation score   (root_mean_squared_error)\n",
      "\t123.77s\t = Training   runtime\n",
      "\t0.32s\t = Validation runtime\n",
      "Fitting model: XGBoost_BAG_L1 ... Training model for up to 116.2s of the 316.24s of remaining time.\n",
      "\t-132.3085\t = Validation score   (root_mean_squared_error)\n",
      "\t14.83s\t = Training   runtime\n",
      "\t0.15s\t = Validation runtime\n",
      "Fitting model: NeuralNetMXNet_BAG_L1 ... Training model for up to 99.08s of the 299.12s of remaining time.\n",
      "\tRan out of time, stopping training early. (Stopping on epoch 8)\n",
      "\tRan out of time, stopping training early. (Stopping on epoch 8)\n",
      "\tRan out of time, stopping training early. (Stopping on epoch 8)\n",
      "\tRan out of time, stopping training early. (Stopping on epoch 9)\n",
      "\tRan out of time, stopping training early. (Stopping on epoch 9)\n",
      "\tRan out of time, stopping training early. (Stopping on epoch 9)\n",
      "\tRan out of time, stopping training early. (Stopping on epoch 10)\n",
      "\tRan out of time, stopping training early. (Stopping on epoch 11)\n",
      "\tRan out of time, stopping training early. (Stopping on epoch 12)\n",
      "\tRan out of time, stopping training early. (Stopping on epoch 15)\n",
      "\t-144.1152\t = Validation score   (root_mean_squared_error)\n",
      "\t89.03s\t = Training   runtime\n",
      "\t6.7s\t = Validation runtime\n",
      "Fitting model: LightGBMLarge_BAG_L1 ... Training model for up to 2.7s of the 202.74s of remaining time.\n",
      "/usr/local/lib/python3.7/site-packages/lightgbm/engine.py:239: UserWarning: 'verbose_eval' argument is deprecated and will be removed in a future release of LightGBM. Pass 'log_evaluation()' callback via 'callbacks' argument instead.\n",
      "  _log_warning(\"'verbose_eval' argument is deprecated and will be removed in a future release of LightGBM. \"\n",
      "\tRan out of time, early stopping on iteration 1. Best iteration is:\n",
      "\t[1]\ttrain_set's rmse: 178.935\tvalid_set's rmse: 177.341\n",
      "\tTime limit exceeded... Skipping LightGBMLarge_BAG_L1.\n",
      "Completed 1/20 k-fold bagging repeats ...\n",
      "Fitting model: WeightedEnsemble_L2 ... Training model for up to 360.0s of the 201.94s of remaining time.\n",
      "\t-118.4441\t = Validation score   (root_mean_squared_error)\n",
      "\t0.51s\t = Training   runtime\n",
      "\t0.0s\t = Validation runtime\n",
      "Fitting 9 L2 models ...\n",
      "Fitting model: LightGBMXT_BAG_L2 ... Training model for up to 201.34s of the 201.31s of remaining time.\n",
      "/usr/local/lib/python3.7/site-packages/lightgbm/engine.py:239: UserWarning: 'verbose_eval' argument is deprecated and will be removed in a future release of LightGBM. Pass 'log_evaluation()' callback via 'callbacks' argument instead.\n",
      "  _log_warning(\"'verbose_eval' argument is deprecated and will be removed in a future release of LightGBM. \"\n",
      "/usr/local/lib/python3.7/site-packages/lightgbm/engine.py:239: UserWarning: 'verbose_eval' argument is deprecated and will be removed in a future release of LightGBM. Pass 'log_evaluation()' callback via 'callbacks' argument instead.\n",
      "  _log_warning(\"'verbose_eval' argument is deprecated and will be removed in a future release of LightGBM. \"\n",
      "/usr/local/lib/python3.7/site-packages/lightgbm/engine.py:239: UserWarning: 'verbose_eval' argument is deprecated and will be removed in a future release of LightGBM. Pass 'log_evaluation()' callback via 'callbacks' argument instead.\n",
      "  _log_warning(\"'verbose_eval' argument is deprecated and will be removed in a future release of LightGBM. \"\n",
      "/usr/local/lib/python3.7/site-packages/lightgbm/engine.py:239: UserWarning: 'verbose_eval' argument is deprecated and will be removed in a future release of LightGBM. Pass 'log_evaluation()' callback via 'callbacks' argument instead.\n",
      "  _log_warning(\"'verbose_eval' argument is deprecated and will be removed in a future release of LightGBM. \"\n",
      "/usr/local/lib/python3.7/site-packages/lightgbm/engine.py:239: UserWarning: 'verbose_eval' argument is deprecated and will be removed in a future release of LightGBM. Pass 'log_evaluation()' callback via 'callbacks' argument instead.\n",
      "  _log_warning(\"'verbose_eval' argument is deprecated and will be removed in a future release of LightGBM. \"\n",
      "/usr/local/lib/python3.7/site-packages/lightgbm/engine.py:239: UserWarning: 'verbose_eval' argument is deprecated and will be removed in a future release of LightGBM. Pass 'log_evaluation()' callback via 'callbacks' argument instead.\n",
      "  _log_warning(\"'verbose_eval' argument is deprecated and will be removed in a future release of LightGBM. \"\n",
      "/usr/local/lib/python3.7/site-packages/lightgbm/engine.py:239: UserWarning: 'verbose_eval' argument is deprecated and will be removed in a future release of LightGBM. Pass 'log_evaluation()' callback via 'callbacks' argument instead.\n",
      "  _log_warning(\"'verbose_eval' argument is deprecated and will be removed in a future release of LightGBM. \"\n",
      "/usr/local/lib/python3.7/site-packages/lightgbm/engine.py:239: UserWarning: 'verbose_eval' argument is deprecated and will be removed in a future release of LightGBM. Pass 'log_evaluation()' callback via 'callbacks' argument instead.\n",
      "  _log_warning(\"'verbose_eval' argument is deprecated and will be removed in a future release of LightGBM. \"\n",
      "/usr/local/lib/python3.7/site-packages/lightgbm/engine.py:239: UserWarning: 'verbose_eval' argument is deprecated and will be removed in a future release of LightGBM. Pass 'log_evaluation()' callback via 'callbacks' argument instead.\n",
      "  _log_warning(\"'verbose_eval' argument is deprecated and will be removed in a future release of LightGBM. \"\n",
      "/usr/local/lib/python3.7/site-packages/lightgbm/engine.py:239: UserWarning: 'verbose_eval' argument is deprecated and will be removed in a future release of LightGBM. Pass 'log_evaluation()' callback via 'callbacks' argument instead.\n",
      "  _log_warning(\"'verbose_eval' argument is deprecated and will be removed in a future release of LightGBM. \"\n",
      "\t-116.4517\t = Validation score   (root_mean_squared_error)\n",
      "\t16.35s\t = Training   runtime\n",
      "\t0.25s\t = Validation runtime\n",
      "Fitting model: LightGBM_BAG_L2 ... Training model for up to 183.65s of the 183.62s of remaining time.\n",
      "/usr/local/lib/python3.7/site-packages/lightgbm/engine.py:239: UserWarning: 'verbose_eval' argument is deprecated and will be removed in a future release of LightGBM. Pass 'log_evaluation()' callback via 'callbacks' argument instead.\n",
      "  _log_warning(\"'verbose_eval' argument is deprecated and will be removed in a future release of LightGBM. \"\n",
      "/usr/local/lib/python3.7/site-packages/lightgbm/engine.py:239: UserWarning: 'verbose_eval' argument is deprecated and will be removed in a future release of LightGBM. Pass 'log_evaluation()' callback via 'callbacks' argument instead.\n",
      "  _log_warning(\"'verbose_eval' argument is deprecated and will be removed in a future release of LightGBM. \"\n",
      "/usr/local/lib/python3.7/site-packages/lightgbm/engine.py:239: UserWarning: 'verbose_eval' argument is deprecated and will be removed in a future release of LightGBM. Pass 'log_evaluation()' callback via 'callbacks' argument instead.\n",
      "  _log_warning(\"'verbose_eval' argument is deprecated and will be removed in a future release of LightGBM. \"\n",
      "/usr/local/lib/python3.7/site-packages/lightgbm/engine.py:239: UserWarning: 'verbose_eval' argument is deprecated and will be removed in a future release of LightGBM. Pass 'log_evaluation()' callback via 'callbacks' argument instead.\n",
      "  _log_warning(\"'verbose_eval' argument is deprecated and will be removed in a future release of LightGBM. \"\n",
      "/usr/local/lib/python3.7/site-packages/lightgbm/engine.py:239: UserWarning: 'verbose_eval' argument is deprecated and will be removed in a future release of LightGBM. Pass 'log_evaluation()' callback via 'callbacks' argument instead.\n",
      "  _log_warning(\"'verbose_eval' argument is deprecated and will be removed in a future release of LightGBM. \"\n",
      "/usr/local/lib/python3.7/site-packages/lightgbm/engine.py:239: UserWarning: 'verbose_eval' argument is deprecated and will be removed in a future release of LightGBM. Pass 'log_evaluation()' callback via 'callbacks' argument instead.\n",
      "  _log_warning(\"'verbose_eval' argument is deprecated and will be removed in a future release of LightGBM. \"\n",
      "/usr/local/lib/python3.7/site-packages/lightgbm/engine.py:239: UserWarning: 'verbose_eval' argument is deprecated and will be removed in a future release of LightGBM. Pass 'log_evaluation()' callback via 'callbacks' argument instead.\n",
      "  _log_warning(\"'verbose_eval' argument is deprecated and will be removed in a future release of LightGBM. \"\n",
      "/usr/local/lib/python3.7/site-packages/lightgbm/engine.py:239: UserWarning: 'verbose_eval' argument is deprecated and will be removed in a future release of LightGBM. Pass 'log_evaluation()' callback via 'callbacks' argument instead.\n",
      "  _log_warning(\"'verbose_eval' argument is deprecated and will be removed in a future release of LightGBM. \"\n",
      "/usr/local/lib/python3.7/site-packages/lightgbm/engine.py:239: UserWarning: 'verbose_eval' argument is deprecated and will be removed in a future release of LightGBM. Pass 'log_evaluation()' callback via 'callbacks' argument instead.\n",
      "  _log_warning(\"'verbose_eval' argument is deprecated and will be removed in a future release of LightGBM. \"\n",
      "/usr/local/lib/python3.7/site-packages/lightgbm/engine.py:239: UserWarning: 'verbose_eval' argument is deprecated and will be removed in a future release of LightGBM. Pass 'log_evaluation()' callback via 'callbacks' argument instead.\n",
      "  _log_warning(\"'verbose_eval' argument is deprecated and will be removed in a future release of LightGBM. \"\n",
      "\t-117.1252\t = Validation score   (root_mean_squared_error)\n",
      "\t12.66s\t = Training   runtime\n",
      "\t0.09s\t = Validation runtime\n",
      "Fitting model: RandomForestMSE_BAG_L2 ... Training model for up to 170.3s of the 170.26s of remaining time.\n",
      "\t-119.3571\t = Validation score   (root_mean_squared_error)\n",
      "\t29.19s\t = Training   runtime\n",
      "\t0.48s\t = Validation runtime\n",
      "Fitting model: CatBoost_BAG_L2 ... Training model for up to 137.99s of the 137.95s of remaining time.\n",
      "\t-116.5854\t = Validation score   (root_mean_squared_error)\n",
      "\t26.41s\t = Training   runtime\n",
      "\t0.04s\t = Validation runtime\n",
      "Fitting model: ExtraTreesMSE_BAG_L2 ... Training model for up to 111.01s of the 110.98s of remaining time.\n",
      "\t-117.538\t = Validation score   (root_mean_squared_error)\n",
      "\t6.35s\t = Training   runtime\n",
      "\t0.46s\t = Validation runtime\n",
      "Fitting model: NeuralNetFastAI_BAG_L2 ... Training model for up to 101.7s of the 101.67s of remaining time.\n",
      "\tRan out of time, stopping training early. (Stopping on epoch 18)\n",
      "\tRan out of time, stopping training early. (Stopping on epoch 19)\n",
      "\tRan out of time, stopping training early. (Stopping on epoch 19)\n",
      "\tRan out of time, stopping training early. (Stopping on epoch 19)\n",
      "\tRan out of time, stopping training early. (Stopping on epoch 20)\n",
      "\tRan out of time, stopping training early. (Stopping on epoch 20)\n",
      "\tRan out of time, stopping training early. (Stopping on epoch 22)\n",
      "\tRan out of time, stopping training early. (Stopping on epoch 24)\n",
      "\tRan out of time, stopping training early. (Stopping on epoch 27)\n",
      "\t-115.6357\t = Validation score   (root_mean_squared_error)\n",
      "\t95.42s\t = Training   runtime\n",
      "\t0.36s\t = Validation runtime\n",
      "Fitting model: XGBoost_BAG_L2 ... Training model for up to 5.15s of the 5.12s of remaining time.\n",
      "\t-117.6633\t = Validation score   (root_mean_squared_error)\n",
      "\t4.56s\t = Training   runtime\n",
      "\t0.07s\t = Validation runtime\n",
      "Completed 1/20 k-fold bagging repeats ...\n",
      "Fitting model: WeightedEnsemble_L3 ... Training model for up to 360.0s of the -0.22s of remaining time.\n",
      "\t-115.0782\t = Validation score   (root_mean_squared_error)\n",
      "\t0.37s\t = Training   runtime\n",
      "\t0.0s\t = Validation runtime\n",
      "AutoGluon training complete, total runtime = 600.82s ...\n",
      "TabularPredictor saved. To load, use: predictor = TabularPredictor.load(\"AutogluonModels/ag-20220112_050054/\")\n"
     ]
    }
   ],
   "source": [
    "predictor = TabularPredictor(label='count', eval_metric='root_mean_squared_error').fit(\n",
    "    train_data=train.loc[:, ~train.columns.isin(['casual', 'registered'])],\n",
    "    time_limit=600,\n",
    "    presets='best_quality'\n",
    ")"
   ]
  },
  {
   "cell_type": "markdown",
   "metadata": {},
   "source": [
    "### Review AutoGluon's training run with ranking of models that did the best."
   ]
  },
  {
   "cell_type": "code",
   "execution_count": 28,
   "metadata": {},
   "outputs": [
    {
     "name": "stdout",
     "output_type": "stream",
     "text": [
      "*** Summary of fit() ***\n",
      "Estimated performance of each model:\n",
      "                     model   score_val  pred_time_val    fit_time  pred_time_val_marginal  fit_time_marginal  stack_level  can_infer  fit_order\n",
      "0      WeightedEnsemble_L3 -115.078180      12.290289  499.118996                0.000644           0.371053            3       True         19\n",
      "1   NeuralNetFastAI_BAG_L2 -115.635730      11.488951  463.387875                0.355994          95.421139            2       True         17\n",
      "2        LightGBMXT_BAG_L2 -116.451721      11.385372  384.320977                0.252416          16.354240            2       True         12\n",
      "3          CatBoost_BAG_L2 -116.585369      11.168369  394.376915                0.035412          26.410178            2       True         15\n",
      "4          LightGBM_BAG_L2 -117.125217      11.219880  380.626123                0.086924          12.659387            2       True         13\n",
      "5     ExtraTreesMSE_BAG_L2 -117.537966      11.594311  374.313177                0.461354           6.346441            2       True         16\n",
      "6           XGBoost_BAG_L2 -117.663257      11.204838  372.523889                0.071881           4.557153            2       True         18\n",
      "7      WeightedEnsemble_L2 -118.444130       7.084732   96.481512                0.000716           0.506071            2       True         11\n",
      "8   RandomForestMSE_BAG_L1 -118.456660       0.384666    6.940931                0.384666           6.940931            1       True          5\n",
      "9   RandomForestMSE_BAG_L2 -119.357064      11.614556  397.160408                0.481600          29.193672            2       True         14\n",
      "10    ExtraTreesMSE_BAG_L1 -128.733445       0.381780    3.132814                0.381780           3.132814            1       True          7\n",
      "11         LightGBM_BAG_L1 -132.286410       0.509993   18.595258                0.509993          18.595258            1       True          4\n",
      "12          XGBoost_BAG_L1 -132.308522       0.152645   14.832870                0.152645          14.832870            1       True          9\n",
      "13         CatBoost_BAG_L1 -132.349692       0.045637   59.404973                0.045637          59.404973            1       True          6\n",
      "14       LightGBMXT_BAG_L1 -134.088334       2.434133   52.196686                2.434133          52.196686            1       True          3\n",
      "15  NeuralNetFastAI_BAG_L1 -138.159961       0.316358  123.770091                0.316358         123.770091            1       True          8\n",
      "16   NeuralNetMXNet_BAG_L1 -144.115166       6.699350   89.034510                6.699350          89.034510            1       True         10\n",
      "17   KNeighborsUnif_BAG_L1 -160.413078       0.103332    0.034542                0.103332           0.034542            1       True          1\n",
      "18   KNeighborsDist_BAG_L1 -169.552096       0.105065    0.024061                0.105065           0.024061            1       True          2\n",
      "Number of models trained: 19\n",
      "Types of models trained:\n",
      "{'StackerEnsembleModel_XGBoost', 'StackerEnsembleModel_XT', 'StackerEnsembleModel_CatBoost', 'StackerEnsembleModel_NNFastAiTabular', 'StackerEnsembleModel_RF', 'WeightedEnsembleModel', 'StackerEnsembleModel_KNN', 'StackerEnsembleModel_TabularNeuralNet', 'StackerEnsembleModel_LGB'}\n",
      "Bagging used: True  (with 10 folds)\n",
      "Multi-layer stack-ensembling used: True  (with 3 levels)\n",
      "Feature Metadata (Processed):\n",
      "(raw dtype, special dtypes):\n",
      "('float', [])                : 3 | ['temp', 'atemp', 'windspeed']\n",
      "('int', [])                  : 3 | ['season', 'weather', 'humidity']\n",
      "('int', ['bool'])            : 2 | ['holiday', 'workingday']\n",
      "('int', ['datetime_as_int']) : 1 | ['datetime']\n",
      "Plot summary of models saved to file: AutogluonModels/ag-20220112_050054/SummaryOfModels.html\n",
      "*** End of fit() summary ***\n"
     ]
    },
    {
     "data": {
      "text/plain": [
       "{'model_types': {'KNeighborsUnif_BAG_L1': 'StackerEnsembleModel_KNN',\n",
       "  'KNeighborsDist_BAG_L1': 'StackerEnsembleModel_KNN',\n",
       "  'LightGBMXT_BAG_L1': 'StackerEnsembleModel_LGB',\n",
       "  'LightGBM_BAG_L1': 'StackerEnsembleModel_LGB',\n",
       "  'RandomForestMSE_BAG_L1': 'StackerEnsembleModel_RF',\n",
       "  'CatBoost_BAG_L1': 'StackerEnsembleModel_CatBoost',\n",
       "  'ExtraTreesMSE_BAG_L1': 'StackerEnsembleModel_XT',\n",
       "  'NeuralNetFastAI_BAG_L1': 'StackerEnsembleModel_NNFastAiTabular',\n",
       "  'XGBoost_BAG_L1': 'StackerEnsembleModel_XGBoost',\n",
       "  'NeuralNetMXNet_BAG_L1': 'StackerEnsembleModel_TabularNeuralNet',\n",
       "  'WeightedEnsemble_L2': 'WeightedEnsembleModel',\n",
       "  'LightGBMXT_BAG_L2': 'StackerEnsembleModel_LGB',\n",
       "  'LightGBM_BAG_L2': 'StackerEnsembleModel_LGB',\n",
       "  'RandomForestMSE_BAG_L2': 'StackerEnsembleModel_RF',\n",
       "  'CatBoost_BAG_L2': 'StackerEnsembleModel_CatBoost',\n",
       "  'ExtraTreesMSE_BAG_L2': 'StackerEnsembleModel_XT',\n",
       "  'NeuralNetFastAI_BAG_L2': 'StackerEnsembleModel_NNFastAiTabular',\n",
       "  'XGBoost_BAG_L2': 'StackerEnsembleModel_XGBoost',\n",
       "  'WeightedEnsemble_L3': 'WeightedEnsembleModel'},\n",
       " 'model_performance': {'KNeighborsUnif_BAG_L1': -160.4130779463501,\n",
       "  'KNeighborsDist_BAG_L1': -169.55209635208928,\n",
       "  'LightGBMXT_BAG_L1': -134.08833420116997,\n",
       "  'LightGBM_BAG_L1': -132.28640961443517,\n",
       "  'RandomForestMSE_BAG_L1': -118.45666016795705,\n",
       "  'CatBoost_BAG_L1': -132.34969157134555,\n",
       "  'ExtraTreesMSE_BAG_L1': -128.7334450621692,\n",
       "  'NeuralNetFastAI_BAG_L1': -138.1599610863043,\n",
       "  'XGBoost_BAG_L1': -132.30852184526813,\n",
       "  'NeuralNetMXNet_BAG_L1': -144.1151664211527,\n",
       "  'WeightedEnsemble_L2': -118.44413038409787,\n",
       "  'LightGBMXT_BAG_L2': -116.45172126161724,\n",
       "  'LightGBM_BAG_L2': -117.12521726193256,\n",
       "  'RandomForestMSE_BAG_L2': -119.35706436093666,\n",
       "  'CatBoost_BAG_L2': -116.585369154453,\n",
       "  'ExtraTreesMSE_BAG_L2': -117.53796609999168,\n",
       "  'NeuralNetFastAI_BAG_L2': -115.63572989764252,\n",
       "  'XGBoost_BAG_L2': -117.66325659539733,\n",
       "  'WeightedEnsemble_L3': -115.07817961601351},\n",
       " 'model_best': 'WeightedEnsemble_L3',\n",
       " 'model_paths': {'KNeighborsUnif_BAG_L1': 'AutogluonModels/ag-20220112_050054/models/KNeighborsUnif_BAG_L1/',\n",
       "  'KNeighborsDist_BAG_L1': 'AutogluonModels/ag-20220112_050054/models/KNeighborsDist_BAG_L1/',\n",
       "  'LightGBMXT_BAG_L1': 'AutogluonModels/ag-20220112_050054/models/LightGBMXT_BAG_L1/',\n",
       "  'LightGBM_BAG_L1': 'AutogluonModels/ag-20220112_050054/models/LightGBM_BAG_L1/',\n",
       "  'RandomForestMSE_BAG_L1': 'AutogluonModels/ag-20220112_050054/models/RandomForestMSE_BAG_L1/',\n",
       "  'CatBoost_BAG_L1': 'AutogluonModels/ag-20220112_050054/models/CatBoost_BAG_L1/',\n",
       "  'ExtraTreesMSE_BAG_L1': 'AutogluonModels/ag-20220112_050054/models/ExtraTreesMSE_BAG_L1/',\n",
       "  'NeuralNetFastAI_BAG_L1': 'AutogluonModels/ag-20220112_050054/models/NeuralNetFastAI_BAG_L1/',\n",
       "  'XGBoost_BAG_L1': 'AutogluonModels/ag-20220112_050054/models/XGBoost_BAG_L1/',\n",
       "  'NeuralNetMXNet_BAG_L1': 'AutogluonModels/ag-20220112_050054/models/NeuralNetMXNet_BAG_L1/',\n",
       "  'WeightedEnsemble_L2': 'AutogluonModels/ag-20220112_050054/models/WeightedEnsemble_L2/',\n",
       "  'LightGBMXT_BAG_L2': 'AutogluonModels/ag-20220112_050054/models/LightGBMXT_BAG_L2/',\n",
       "  'LightGBM_BAG_L2': 'AutogluonModels/ag-20220112_050054/models/LightGBM_BAG_L2/',\n",
       "  'RandomForestMSE_BAG_L2': 'AutogluonModels/ag-20220112_050054/models/RandomForestMSE_BAG_L2/',\n",
       "  'CatBoost_BAG_L2': 'AutogluonModels/ag-20220112_050054/models/CatBoost_BAG_L2/',\n",
       "  'ExtraTreesMSE_BAG_L2': 'AutogluonModels/ag-20220112_050054/models/ExtraTreesMSE_BAG_L2/',\n",
       "  'NeuralNetFastAI_BAG_L2': 'AutogluonModels/ag-20220112_050054/models/NeuralNetFastAI_BAG_L2/',\n",
       "  'XGBoost_BAG_L2': 'AutogluonModels/ag-20220112_050054/models/XGBoost_BAG_L2/',\n",
       "  'WeightedEnsemble_L3': 'AutogluonModels/ag-20220112_050054/models/WeightedEnsemble_L3/'},\n",
       " 'model_fit_times': {'KNeighborsUnif_BAG_L1': 0.034542083740234375,\n",
       "  'KNeighborsDist_BAG_L1': 0.024060964584350586,\n",
       "  'LightGBMXT_BAG_L1': 52.196685552597046,\n",
       "  'LightGBM_BAG_L1': 18.595258474349976,\n",
       "  'RandomForestMSE_BAG_L1': 6.9409308433532715,\n",
       "  'CatBoost_BAG_L1': 59.40497279167175,\n",
       "  'ExtraTreesMSE_BAG_L1': 3.1328139305114746,\n",
       "  'NeuralNetFastAI_BAG_L1': 123.77009129524231,\n",
       "  'XGBoost_BAG_L1': 14.832870483398438,\n",
       "  'NeuralNetMXNet_BAG_L1': 89.03450989723206,\n",
       "  'WeightedEnsemble_L2': 0.5060710906982422,\n",
       "  'LightGBMXT_BAG_L2': 16.35424041748047,\n",
       "  'LightGBM_BAG_L2': 12.65938687324524,\n",
       "  'RandomForestMSE_BAG_L2': 29.193671703338623,\n",
       "  'CatBoost_BAG_L2': 26.410178422927856,\n",
       "  'ExtraTreesMSE_BAG_L2': 6.346440553665161,\n",
       "  'NeuralNetFastAI_BAG_L2': 95.42113852500916,\n",
       "  'XGBoost_BAG_L2': 4.557152986526489,\n",
       "  'WeightedEnsemble_L3': 0.37105321884155273},\n",
       " 'model_pred_times': {'KNeighborsUnif_BAG_L1': 0.1033322811126709,\n",
       "  'KNeighborsDist_BAG_L1': 0.10506510734558105,\n",
       "  'LightGBMXT_BAG_L1': 2.4341325759887695,\n",
       "  'LightGBM_BAG_L1': 0.5099925994873047,\n",
       "  'RandomForestMSE_BAG_L1': 0.38466572761535645,\n",
       "  'CatBoost_BAG_L1': 0.045636653900146484,\n",
       "  'ExtraTreesMSE_BAG_L1': 0.38177967071533203,\n",
       "  'NeuralNetFastAI_BAG_L1': 0.3163576126098633,\n",
       "  'XGBoost_BAG_L1': 0.15264463424682617,\n",
       "  'NeuralNetMXNet_BAG_L1': 6.699349641799927,\n",
       "  'WeightedEnsemble_L2': 0.0007162094116210938,\n",
       "  'LightGBMXT_BAG_L2': 0.25241589546203613,\n",
       "  'LightGBM_BAG_L2': 0.08692383766174316,\n",
       "  'RandomForestMSE_BAG_L2': 0.4815995693206787,\n",
       "  'CatBoost_BAG_L2': 0.03541231155395508,\n",
       "  'ExtraTreesMSE_BAG_L2': 0.46135449409484863,\n",
       "  'NeuralNetFastAI_BAG_L2': 0.35599422454833984,\n",
       "  'XGBoost_BAG_L2': 0.07188105583190918,\n",
       "  'WeightedEnsemble_L3': 0.0006444454193115234},\n",
       " 'num_bag_folds': 10,\n",
       " 'max_stack_level': 3,\n",
       " 'model_hyperparams': {'KNeighborsUnif_BAG_L1': {'use_orig_features': True,\n",
       "   'max_base_models': 25,\n",
       "   'max_base_models_per_type': 5,\n",
       "   'save_bag_folds': True,\n",
       "   'use_child_oof': True},\n",
       "  'KNeighborsDist_BAG_L1': {'use_orig_features': True,\n",
       "   'max_base_models': 25,\n",
       "   'max_base_models_per_type': 5,\n",
       "   'save_bag_folds': True,\n",
       "   'use_child_oof': True},\n",
       "  'LightGBMXT_BAG_L1': {'use_orig_features': True,\n",
       "   'max_base_models': 25,\n",
       "   'max_base_models_per_type': 5,\n",
       "   'save_bag_folds': True},\n",
       "  'LightGBM_BAG_L1': {'use_orig_features': True,\n",
       "   'max_base_models': 25,\n",
       "   'max_base_models_per_type': 5,\n",
       "   'save_bag_folds': True},\n",
       "  'RandomForestMSE_BAG_L1': {'use_orig_features': True,\n",
       "   'max_base_models': 25,\n",
       "   'max_base_models_per_type': 5,\n",
       "   'save_bag_folds': True,\n",
       "   'use_child_oof': True},\n",
       "  'CatBoost_BAG_L1': {'use_orig_features': True,\n",
       "   'max_base_models': 25,\n",
       "   'max_base_models_per_type': 5,\n",
       "   'save_bag_folds': True},\n",
       "  'ExtraTreesMSE_BAG_L1': {'use_orig_features': True,\n",
       "   'max_base_models': 25,\n",
       "   'max_base_models_per_type': 5,\n",
       "   'save_bag_folds': True,\n",
       "   'use_child_oof': True},\n",
       "  'NeuralNetFastAI_BAG_L1': {'use_orig_features': True,\n",
       "   'max_base_models': 25,\n",
       "   'max_base_models_per_type': 5,\n",
       "   'save_bag_folds': True},\n",
       "  'XGBoost_BAG_L1': {'use_orig_features': True,\n",
       "   'max_base_models': 25,\n",
       "   'max_base_models_per_type': 5,\n",
       "   'save_bag_folds': True},\n",
       "  'NeuralNetMXNet_BAG_L1': {'use_orig_features': True,\n",
       "   'max_base_models': 25,\n",
       "   'max_base_models_per_type': 5,\n",
       "   'save_bag_folds': True},\n",
       "  'WeightedEnsemble_L2': {'use_orig_features': False,\n",
       "   'max_base_models': 25,\n",
       "   'max_base_models_per_type': 5,\n",
       "   'save_bag_folds': True},\n",
       "  'LightGBMXT_BAG_L2': {'use_orig_features': True,\n",
       "   'max_base_models': 25,\n",
       "   'max_base_models_per_type': 5,\n",
       "   'save_bag_folds': True},\n",
       "  'LightGBM_BAG_L2': {'use_orig_features': True,\n",
       "   'max_base_models': 25,\n",
       "   'max_base_models_per_type': 5,\n",
       "   'save_bag_folds': True},\n",
       "  'RandomForestMSE_BAG_L2': {'use_orig_features': True,\n",
       "   'max_base_models': 25,\n",
       "   'max_base_models_per_type': 5,\n",
       "   'save_bag_folds': True,\n",
       "   'use_child_oof': True},\n",
       "  'CatBoost_BAG_L2': {'use_orig_features': True,\n",
       "   'max_base_models': 25,\n",
       "   'max_base_models_per_type': 5,\n",
       "   'save_bag_folds': True},\n",
       "  'ExtraTreesMSE_BAG_L2': {'use_orig_features': True,\n",
       "   'max_base_models': 25,\n",
       "   'max_base_models_per_type': 5,\n",
       "   'save_bag_folds': True,\n",
       "   'use_child_oof': True},\n",
       "  'NeuralNetFastAI_BAG_L2': {'use_orig_features': True,\n",
       "   'max_base_models': 25,\n",
       "   'max_base_models_per_type': 5,\n",
       "   'save_bag_folds': True},\n",
       "  'XGBoost_BAG_L2': {'use_orig_features': True,\n",
       "   'max_base_models': 25,\n",
       "   'max_base_models_per_type': 5,\n",
       "   'save_bag_folds': True},\n",
       "  'WeightedEnsemble_L3': {'use_orig_features': False,\n",
       "   'max_base_models': 25,\n",
       "   'max_base_models_per_type': 5,\n",
       "   'save_bag_folds': True}},\n",
       " 'leaderboard':                      model   score_val  pred_time_val    fit_time  \\\n",
       " 0      WeightedEnsemble_L3 -115.078180      12.290289  499.118996   \n",
       " 1   NeuralNetFastAI_BAG_L2 -115.635730      11.488951  463.387875   \n",
       " 2        LightGBMXT_BAG_L2 -116.451721      11.385372  384.320977   \n",
       " 3          CatBoost_BAG_L2 -116.585369      11.168369  394.376915   \n",
       " 4          LightGBM_BAG_L2 -117.125217      11.219880  380.626123   \n",
       " 5     ExtraTreesMSE_BAG_L2 -117.537966      11.594311  374.313177   \n",
       " 6           XGBoost_BAG_L2 -117.663257      11.204838  372.523889   \n",
       " 7      WeightedEnsemble_L2 -118.444130       7.084732   96.481512   \n",
       " 8   RandomForestMSE_BAG_L1 -118.456660       0.384666    6.940931   \n",
       " 9   RandomForestMSE_BAG_L2 -119.357064      11.614556  397.160408   \n",
       " 10    ExtraTreesMSE_BAG_L1 -128.733445       0.381780    3.132814   \n",
       " 11         LightGBM_BAG_L1 -132.286410       0.509993   18.595258   \n",
       " 12          XGBoost_BAG_L1 -132.308522       0.152645   14.832870   \n",
       " 13         CatBoost_BAG_L1 -132.349692       0.045637   59.404973   \n",
       " 14       LightGBMXT_BAG_L1 -134.088334       2.434133   52.196686   \n",
       " 15  NeuralNetFastAI_BAG_L1 -138.159961       0.316358  123.770091   \n",
       " 16   NeuralNetMXNet_BAG_L1 -144.115166       6.699350   89.034510   \n",
       " 17   KNeighborsUnif_BAG_L1 -160.413078       0.103332    0.034542   \n",
       " 18   KNeighborsDist_BAG_L1 -169.552096       0.105065    0.024061   \n",
       " \n",
       "     pred_time_val_marginal  fit_time_marginal  stack_level  can_infer  \\\n",
       " 0                 0.000644           0.371053            3       True   \n",
       " 1                 0.355994          95.421139            2       True   \n",
       " 2                 0.252416          16.354240            2       True   \n",
       " 3                 0.035412          26.410178            2       True   \n",
       " 4                 0.086924          12.659387            2       True   \n",
       " 5                 0.461354           6.346441            2       True   \n",
       " 6                 0.071881           4.557153            2       True   \n",
       " 7                 0.000716           0.506071            2       True   \n",
       " 8                 0.384666           6.940931            1       True   \n",
       " 9                 0.481600          29.193672            2       True   \n",
       " 10                0.381780           3.132814            1       True   \n",
       " 11                0.509993          18.595258            1       True   \n",
       " 12                0.152645          14.832870            1       True   \n",
       " 13                0.045637          59.404973            1       True   \n",
       " 14                2.434133          52.196686            1       True   \n",
       " 15                0.316358         123.770091            1       True   \n",
       " 16                6.699350          89.034510            1       True   \n",
       " 17                0.103332           0.034542            1       True   \n",
       " 18                0.105065           0.024061            1       True   \n",
       " \n",
       "     fit_order  \n",
       " 0          19  \n",
       " 1          17  \n",
       " 2          12  \n",
       " 3          15  \n",
       " 4          13  \n",
       " 5          16  \n",
       " 6          18  \n",
       " 7          11  \n",
       " 8           5  \n",
       " 9          14  \n",
       " 10          7  \n",
       " 11          4  \n",
       " 12          9  \n",
       " 13          6  \n",
       " 14          3  \n",
       " 15          8  \n",
       " 16         10  \n",
       " 17          1  \n",
       " 18          2  }"
      ]
     },
     "execution_count": 28,
     "metadata": {},
     "output_type": "execute_result"
    }
   ],
   "source": [
    "predictor.fit_summary()"
   ]
  },
  {
   "cell_type": "markdown",
   "metadata": {},
   "source": [
    "### Create predictions from test dataset"
   ]
  },
  {
   "cell_type": "code",
   "execution_count": 32,
   "metadata": {},
   "outputs": [
    {
     "data": {
      "text/plain": [
       "0     96.763519\n",
       "1     93.313057\n",
       "2     93.314507\n",
       "3    106.113068\n",
       "4    106.117775\n",
       "Name: count, dtype: float32"
      ]
     },
     "execution_count": 32,
     "metadata": {},
     "output_type": "execute_result"
    }
   ],
   "source": [
    "predictions = predictor.predict(test)\n",
    "predictions.head()"
   ]
  },
  {
   "cell_type": "markdown",
   "metadata": {},
   "source": [
    "#### NOTE: Kaggle will reject the submission if we don't set everything to be > 0."
   ]
  },
  {
   "cell_type": "code",
   "execution_count": 33,
   "metadata": {},
   "outputs": [
    {
     "data": {
      "text/plain": [
       "count    6493.000000\n",
       "mean      211.820679\n",
       "std       128.545700\n",
       "min        -4.357753\n",
       "25%       107.593872\n",
       "50%       196.471634\n",
       "75%       296.787720\n",
       "max       660.061096\n",
       "Name: count, dtype: float64"
      ]
     },
     "execution_count": 33,
     "metadata": {},
     "output_type": "execute_result"
    }
   ],
   "source": [
    "# Describe the `predictions` series to see if there are any negative values\n",
    "predictions.describe()"
   ]
  },
  {
   "cell_type": "code",
   "execution_count": 38,
   "metadata": {},
   "outputs": [
    {
     "data": {
      "text/plain": [
       "3"
      ]
     },
     "execution_count": 38,
     "metadata": {},
     "output_type": "execute_result"
    }
   ],
   "source": [
    "# How many negative values do we have?\n",
    "len(predictions[predictions < 0])"
   ]
  },
  {
   "cell_type": "code",
   "execution_count": 39,
   "metadata": {},
   "outputs": [],
   "source": [
    "# Set them to zero\n",
    "predictions[predictions < 0] = 0"
   ]
  },
  {
   "cell_type": "markdown",
   "metadata": {},
   "source": [
    "### Set predictions to submission dataframe, save, and submit"
   ]
  },
  {
   "cell_type": "code",
   "execution_count": 41,
   "metadata": {},
   "outputs": [],
   "source": [
    "submission[\"count\"] = predictions\n",
    "submission.to_csv(\"submission.csv\", index=False)"
   ]
  },
  {
   "cell_type": "code",
   "execution_count": 42,
   "metadata": {},
   "outputs": [
    {
     "name": "stdout",
     "output_type": "stream",
     "text": [
      "100%|█████████████████████████████████████████| 188k/188k [00:00<00:00, 422kB/s]\n",
      "Successfully submitted to Bike Sharing Demand"
     ]
    }
   ],
   "source": [
    "!kaggle competitions submit -c bike-sharing-demand -f submission.csv -m \"first raw submission\""
   ]
  },
  {
   "cell_type": "markdown",
   "metadata": {},
   "source": [
    "#### View submission via the command line or in the web browser under the competition's page - `My Submissions`"
   ]
  },
  {
   "cell_type": "code",
   "execution_count": 43,
   "metadata": {},
   "outputs": [
    {
     "name": "stdout",
     "output_type": "stream",
     "text": [
      "fileName        date                 description           status    publicScore  privateScore  \n",
      "--------------  -------------------  --------------------  --------  -----------  ------------  \n",
      "submission.csv  2022-01-12 05:27:43  first raw submission  complete  1.39403      1.39403       \n"
     ]
    }
   ],
   "source": [
    "!kaggle competitions submissions -c bike-sharing-demand | tail -n +1 | head -n 6"
   ]
  },
  {
   "cell_type": "markdown",
   "metadata": {},
   "source": [
    "# Initial score of `1.39403`"
   ]
  },
  {
   "cell_type": "markdown",
   "metadata": {},
   "source": [
    "## Step 4: Exploratory Data Analysis and Creating an additional feature\n",
    "* Any additional feature will do, but a great suggestion would be to separate out the datetime into hour, day, or month parts."
   ]
  },
  {
   "cell_type": "code",
   "execution_count": 58,
   "metadata": {},
   "outputs": [
    {
     "data": {
      "text/plain": [
       "array([[<AxesSubplot:title={'center':'datetime'}>,\n",
       "        <AxesSubplot:title={'center':'season'}>,\n",
       "        <AxesSubplot:title={'center':'holiday'}>],\n",
       "       [<AxesSubplot:title={'center':'workingday'}>,\n",
       "        <AxesSubplot:title={'center':'weather'}>,\n",
       "        <AxesSubplot:title={'center':'temp'}>],\n",
       "       [<AxesSubplot:title={'center':'atemp'}>,\n",
       "        <AxesSubplot:title={'center':'humidity'}>,\n",
       "        <AxesSubplot:title={'center':'windspeed'}>],\n",
       "       [<AxesSubplot:title={'center':'casual'}>,\n",
       "        <AxesSubplot:title={'center':'registered'}>,\n",
       "        <AxesSubplot:title={'center':'count'}>]], dtype=object)"
      ]
     },
     "execution_count": 58,
     "metadata": {},
     "output_type": "execute_result"
    },
    {
     "data": {
      "image/png": "[encoded data removed]",
      "text/plain": [
       "<Figure size 432x288 with 12 Axes>"
      ]
     },
     "metadata": {
      "needs_background": "light"
     },
     "output_type": "display_data"
    }
   ],
   "source": [
    "# Create a histogram of all features to show the distribution of each one relative to the data. This is part of the exploritory data analysis\n",
    "train.hist()"
   ]
  },
  {
   "cell_type": "code",
   "execution_count": 83,
   "metadata": {},
   "outputs": [],
   "source": [
    "# create a new feature\n",
    "train['hour'] = train.datetime.dt.hour\n",
    "train['day'] = train.datetime.dt.day\n",
    "train['month'] = train.datetime.dt.month\n",
    "train.drop('datetime', axis=1, inplace=True)\n",
    "test['hour'] = test.datetime.dt.hour\n",
    "test['day'] = test.datetime.dt.day\n",
    "test['month'] = test.datetime.dt.month\n",
    "test.drop('datetime', axis=1, inplace=True)"
   ]
  },
  {
   "cell_type": "markdown",
   "metadata": {},
   "source": [
    "## Make category types for these so models know they are not just numbers\n",
    "* AutoGluon originally sees these as ints, but in reality they are int representations of a category.\n",
    "* Setting the dtype to category will classify these as categories in AutoGluon."
   ]
  },
  {
   "cell_type": "code",
   "execution_count": 84,
   "metadata": {},
   "outputs": [],
   "source": [
    "train.loc[:, \"season\"] = train['season'].astype('category')\n",
    "train.loc[:, \"weather\"] = train['weather'].astype('category')\n",
    "test.loc[:, \"season\"] = test['season'].astype('category')\n",
    "test.loc[:, \"weather\"] = test['weather'].astype('category')"
   ]
  },
  {
   "cell_type": "code",
   "execution_count": 85,
   "metadata": {},
   "outputs": [
    {
     "data": {
      "text/html": [
       "<div>\n",
       "<style scoped>\n",
       "    .dataframe tbody tr th:only-of-type {\n",
       "        vertical-align: middle;\n",
       "    }\n",
       "\n",
       "    .dataframe tbody tr th {\n",
       "        vertical-align: top;\n",
       "    }\n",
       "\n",
       "    .dataframe thead th {\n",
       "        text-align: right;\n",
       "    }\n",
       "</style>\n",
       "<table border=\"1\" class=\"dataframe\">\n",
       "  <thead>\n",
       "    <tr style=\"text-align: right;\">\n",
       "      <th></th>\n",
       "      <th>season</th>\n",
       "      <th>holiday</th>\n",
       "      <th>workingday</th>\n",
       "      <th>weather</th>\n",
       "      <th>temp</th>\n",
       "      <th>atemp</th>\n",
       "      <th>humidity</th>\n",
       "      <th>windspeed</th>\n",
       "      <th>casual</th>\n",
       "      <th>registered</th>\n",
       "      <th>count</th>\n",
       "      <th>hour</th>\n",
       "      <th>day</th>\n",
       "      <th>month</th>\n",
       "    </tr>\n",
       "  </thead>\n",
       "  <tbody>\n",
       "    <tr>\n",
       "      <th>0</th>\n",
       "      <td>1</td>\n",
       "      <td>0</td>\n",
       "      <td>0</td>\n",
       "      <td>1</td>\n",
       "      <td>9.84</td>\n",
       "      <td>14.395</td>\n",
       "      <td>81</td>\n",
       "      <td>0.0</td>\n",
       "      <td>3</td>\n",
       "      <td>13</td>\n",
       "      <td>16</td>\n",
       "      <td>0</td>\n",
       "      <td>1</td>\n",
       "      <td>1</td>\n",
       "    </tr>\n",
       "    <tr>\n",
       "      <th>1</th>\n",
       "      <td>1</td>\n",
       "      <td>0</td>\n",
       "      <td>0</td>\n",
       "      <td>1</td>\n",
       "      <td>9.02</td>\n",
       "      <td>13.635</td>\n",
       "      <td>80</td>\n",
       "      <td>0.0</td>\n",
       "      <td>8</td>\n",
       "      <td>32</td>\n",
       "      <td>40</td>\n",
       "      <td>1</td>\n",
       "      <td>1</td>\n",
       "      <td>1</td>\n",
       "    </tr>\n",
       "    <tr>\n",
       "      <th>2</th>\n",
       "      <td>1</td>\n",
       "      <td>0</td>\n",
       "      <td>0</td>\n",
       "      <td>1</td>\n",
       "      <td>9.02</td>\n",
       "      <td>13.635</td>\n",
       "      <td>80</td>\n",
       "      <td>0.0</td>\n",
       "      <td>5</td>\n",
       "      <td>27</td>\n",
       "      <td>32</td>\n",
       "      <td>2</td>\n",
       "      <td>1</td>\n",
       "      <td>1</td>\n",
       "    </tr>\n",
       "    <tr>\n",
       "      <th>3</th>\n",
       "      <td>1</td>\n",
       "      <td>0</td>\n",
       "      <td>0</td>\n",
       "      <td>1</td>\n",
       "      <td>9.84</td>\n",
       "      <td>14.395</td>\n",
       "      <td>75</td>\n",
       "      <td>0.0</td>\n",
       "      <td>3</td>\n",
       "      <td>10</td>\n",
       "      <td>13</td>\n",
       "      <td>3</td>\n",
       "      <td>1</td>\n",
       "      <td>1</td>\n",
       "    </tr>\n",
       "    <tr>\n",
       "      <th>4</th>\n",
       "      <td>1</td>\n",
       "      <td>0</td>\n",
       "      <td>0</td>\n",
       "      <td>1</td>\n",
       "      <td>9.84</td>\n",
       "      <td>14.395</td>\n",
       "      <td>75</td>\n",
       "      <td>0.0</td>\n",
       "      <td>0</td>\n",
       "      <td>1</td>\n",
       "      <td>1</td>\n",
       "      <td>4</td>\n",
       "      <td>1</td>\n",
       "      <td>1</td>\n",
       "    </tr>\n",
       "  </tbody>\n",
       "</table>\n",
       "</div>"
      ],
      "text/plain": [
       "  season  holiday  workingday weather  temp   atemp  humidity  windspeed  \\\n",
       "0      1        0           0       1  9.84  14.395        81        0.0   \n",
       "1      1        0           0       1  9.02  13.635        80        0.0   \n",
       "2      1        0           0       1  9.02  13.635        80        0.0   \n",
       "3      1        0           0       1  9.84  14.395        75        0.0   \n",
       "4      1        0           0       1  9.84  14.395        75        0.0   \n",
       "\n",
       "   casual  registered  count  hour  day  month  \n",
       "0       3          13     16     0    1      1  \n",
       "1       8          32     40     1    1      1  \n",
       "2       5          27     32     2    1      1  \n",
       "3       3          10     13     3    1      1  \n",
       "4       0           1      1     4    1      1  "
      ]
     },
     "execution_count": 85,
     "metadata": {},
     "output_type": "execute_result"
    }
   ],
   "source": [
    "# View are new feature\n",
    "train.head()"
   ]
  },
  {
   "cell_type": "code",
   "execution_count": 86,
   "metadata": {},
   "outputs": [
    {
     "data": {
      "text/plain": [
       "array([[<AxesSubplot:title={'center':'holiday'}>,\n",
       "        <AxesSubplot:title={'center':'workingday'}>,\n",
       "        <AxesSubplot:title={'center':'temp'}>],\n",
       "       [<AxesSubplot:title={'center':'atemp'}>,\n",
       "        <AxesSubplot:title={'center':'humidity'}>,\n",
       "        <AxesSubplot:title={'center':'windspeed'}>],\n",
       "       [<AxesSubplot:title={'center':'casual'}>,\n",
       "        <AxesSubplot:title={'center':'registered'}>,\n",
       "        <AxesSubplot:title={'center':'count'}>],\n",
       "       [<AxesSubplot:title={'center':'hour'}>,\n",
       "        <AxesSubplot:title={'center':'day'}>,\n",
       "        <AxesSubplot:title={'center':'month'}>]], dtype=object)"
      ]
     },
     "execution_count": 86,
     "metadata": {},
     "output_type": "execute_result"
    },
    {
     "data": {
      "image/png": "[encoded data removed]",
      "text/plain": [
       "<Figure size 432x288 with 12 Axes>"
      ]
     },
     "metadata": {
      "needs_background": "light"
     },
     "output_type": "display_data"
    }
   ],
   "source": [
    "# View histogram of all features again now with the hour feature\n",
    "train.hist()"
   ]
  },
  {
   "cell_type": "markdown",
   "metadata": {},
   "source": [
    "## Step 5: Rerun the model with the same settings as before, just with more features"
   ]
  },
  {
   "cell_type": "code",
   "execution_count": 63,
   "metadata": {},
   "outputs": [
    {
     "name": "stderr",
     "output_type": "stream",
     "text": [
      "No path specified. Models will be saved in: \"AutogluonModels/ag-20220112_055659/\"\n",
      "Presets specified: ['best_quality']\n",
      "Beginning AutoGluon training ... Time limit = 600s\n",
      "AutoGluon will save models to \"AutogluonModels/ag-20220112_055659/\"\n",
      "AutoGluon Version:  0.3.1\n",
      "Train Data Rows:    10886\n",
      "Train Data Columns: 11\n",
      "Preprocessing data ...\n",
      "AutoGluon infers your prediction problem is: 'regression' (because dtype of label-column == int and many unique label-values observed).\n",
      "\tLabel info (max, min, mean, stddev): (977, 1, 191.57413, 181.14445)\n",
      "\tIf 'regression' is not the correct problem_type, please manually specify the problem_type argument in fit() (You may specify problem_type as one of: ['binary', 'multiclass', 'regression'])\n",
      "Using Feature Generators to preprocess the data ...\n",
      "Fitting AutoMLPipelineFeatureGenerator...\n",
      "\tAvailable Memory:                    1923.69 MB\n",
      "\tTrain Data (Original)  Memory Usage: 0.81 MB (0.0% of available memory)\n",
      "\tInferring data type of each feature based on column values. Set feature_metadata_in to manually specify special dtypes of the features.\n",
      "\tStage 1 Generators:\n",
      "\t\tFitting AsTypeFeatureGenerator...\n",
      "\t\t\tNote: Converting 2 features to boolean dtype as they only contain 2 unique values.\n",
      "\tStage 2 Generators:\n",
      "\t\tFitting FillNaFeatureGenerator...\n",
      "\tStage 3 Generators:\n",
      "\t\tFitting IdentityFeatureGenerator...\n",
      "\t\tFitting CategoryFeatureGenerator...\n",
      "\t\t\tFitting CategoryMemoryMinimizeFeatureGenerator...\n",
      "\tStage 4 Generators:\n",
      "\t\tFitting DropUniqueFeatureGenerator...\n",
      "\tTypes of features in original data (raw dtype, special dtypes):\n",
      "\t\t('category', []) : 2 | ['season', 'weather']\n",
      "\t\t('float', [])    : 3 | ['temp', 'atemp', 'windspeed']\n",
      "\t\t('int', [])      : 6 | ['holiday', 'workingday', 'humidity', 'hour', 'day', ...]\n",
      "\tTypes of features in processed data (raw dtype, special dtypes):\n",
      "\t\t('category', [])  : 2 | ['season', 'weather']\n",
      "\t\t('float', [])     : 3 | ['temp', 'atemp', 'windspeed']\n",
      "\t\t('int', [])       : 4 | ['humidity', 'hour', 'day', 'month']\n",
      "\t\t('int', ['bool']) : 2 | ['holiday', 'workingday']\n",
      "\t0.1s = Fit runtime\n",
      "\t11 features in original data used to generate 11 features in processed data.\n",
      "\tTrain Data (Processed) Memory Usage: 0.65 MB (0.0% of available memory)\n",
      "Data preprocessing and feature engineering runtime = 0.12s ...\n",
      "AutoGluon will gauge predictive performance using evaluation metric: 'root_mean_squared_error'\n",
      "\tTo change this, specify the eval_metric argument of fit()\n",
      "AutoGluon will fit 2 stack levels (L1 to L2) ...\n",
      "Fitting 11 L1 models ...\n",
      "Fitting model: KNeighborsUnif_BAG_L1 ... Training model for up to 399.82s of the 599.87s of remaining time.\n",
      "\t-123.9226\t = Validation score   (root_mean_squared_error)\n",
      "\t0.03s\t = Training   runtime\n",
      "\t0.2s\t = Validation runtime\n",
      "Fitting model: KNeighborsDist_BAG_L1 ... Training model for up to 399.33s of the 599.39s of remaining time.\n",
      "\t-119.3734\t = Validation score   (root_mean_squared_error)\n",
      "\t0.02s\t = Training   runtime\n",
      "\t0.2s\t = Validation runtime\n",
      "Fitting model: LightGBMXT_BAG_L1 ... Training model for up to 398.86s of the 598.92s of remaining time.\n",
      "/usr/local/lib/python3.7/site-packages/lightgbm/engine.py:239: UserWarning: 'verbose_eval' argument is deprecated and will be removed in a future release of LightGBM. Pass 'log_evaluation()' callback via 'callbacks' argument instead.\n",
      "  _log_warning(\"'verbose_eval' argument is deprecated and will be removed in a future release of LightGBM. \"\n"
     ]
    },
    {
     "name": "stdout",
     "output_type": "stream",
     "text": [
      "[1000]\ttrain_set's rmse: 48.9044\tvalid_set's rmse: 58.5062\n",
      "[2000]\ttrain_set's rmse: 41.3506\tvalid_set's rmse: 55.2925\n",
      "[3000]\ttrain_set's rmse: 36.859\tvalid_set's rmse: 53.7647\n",
      "[4000]\ttrain_set's rmse: 33.6032\tvalid_set's rmse: 52.847\n",
      "[5000]\ttrain_set's rmse: 31.1554\tvalid_set's rmse: 52.2178\n",
      "[6000]\ttrain_set's rmse: 29.1287\tvalid_set's rmse: 51.86\n",
      "[7000]\ttrain_set's rmse: 27.4121\tvalid_set's rmse: 51.5546\n",
      "[8000]\ttrain_set's rmse: 25.9278\tvalid_set's rmse: 51.4031\n",
      "[9000]\ttrain_set's rmse: 24.6316\tvalid_set's rmse: 51.318\n",
      "[10000]\ttrain_set's rmse: 23.4921\tvalid_set's rmse: 51.2731\n"
     ]
    },
    {
     "name": "stderr",
     "output_type": "stream",
     "text": [
      "/usr/local/lib/python3.7/site-packages/lightgbm/engine.py:239: UserWarning: 'verbose_eval' argument is deprecated and will be removed in a future release of LightGBM. Pass 'log_evaluation()' callback via 'callbacks' argument instead.\n",
      "  _log_warning(\"'verbose_eval' argument is deprecated and will be removed in a future release of LightGBM. \"\n"
     ]
    },
    {
     "name": "stdout",
     "output_type": "stream",
     "text": [
      "[1000]\ttrain_set's rmse: 49.076\tvalid_set's rmse: 61.5283\n",
      "[2000]\ttrain_set's rmse: 41.65\tvalid_set's rmse: 57.0928\n",
      "[3000]\ttrain_set's rmse: 37.102\tvalid_set's rmse: 55.1783\n",
      "[4000]\ttrain_set's rmse: 33.8695\tvalid_set's rmse: 53.9665\n",
      "[5000]\ttrain_set's rmse: 31.4721\tvalid_set's rmse: 53.3942\n",
      "[6000]\ttrain_set's rmse: 29.4826\tvalid_set's rmse: 52.9293\n",
      "[7000]\ttrain_set's rmse: 27.764\tvalid_set's rmse: 52.5594\n",
      "[8000]\ttrain_set's rmse: 26.286\tvalid_set's rmse: 52.2535\n",
      "[9000]\ttrain_set's rmse: 24.971\tvalid_set's rmse: 52.0743\n",
      "[10000]\ttrain_set's rmse: 23.7843\tvalid_set's rmse: 51.8779\n"
     ]
    },
    {
     "name": "stderr",
     "output_type": "stream",
     "text": [
      "/usr/local/lib/python3.7/site-packages/lightgbm/engine.py:239: UserWarning: 'verbose_eval' argument is deprecated and will be removed in a future release of LightGBM. Pass 'log_evaluation()' callback via 'callbacks' argument instead.\n",
      "  _log_warning(\"'verbose_eval' argument is deprecated and will be removed in a future release of LightGBM. \"\n"
     ]
    },
    {
     "name": "stdout",
     "output_type": "stream",
     "text": [
      "[1000]\ttrain_set's rmse: 49.3605\tvalid_set's rmse: 57.9867\n",
      "[2000]\ttrain_set's rmse: 41.7928\tvalid_set's rmse: 55.3314\n",
      "[3000]\ttrain_set's rmse: 37.2396\tvalid_set's rmse: 54.0667\n",
      "[4000]\ttrain_set's rmse: 34.1549\tvalid_set's rmse: 53.2578\n",
      "[5000]\ttrain_set's rmse: 31.7023\tvalid_set's rmse: 52.6761\n",
      "[6000]\ttrain_set's rmse: 29.6814\tvalid_set's rmse: 52.2346\n",
      "[7000]\ttrain_set's rmse: 28.0041\tvalid_set's rmse: 52.0458\n",
      "[8000]\ttrain_set's rmse: 26.52\tvalid_set's rmse: 51.798\n",
      "[9000]\ttrain_set's rmse: 25.2438\tvalid_set's rmse: 51.6011\n",
      "[10000]\ttrain_set's rmse: 24.0943\tvalid_set's rmse: 51.4968\n"
     ]
    },
    {
     "name": "stderr",
     "output_type": "stream",
     "text": [
      "/usr/local/lib/python3.7/site-packages/lightgbm/engine.py:239: UserWarning: 'verbose_eval' argument is deprecated and will be removed in a future release of LightGBM. Pass 'log_evaluation()' callback via 'callbacks' argument instead.\n",
      "  _log_warning(\"'verbose_eval' argument is deprecated and will be removed in a future release of LightGBM. \"\n"
     ]
    },
    {
     "name": "stdout",
     "output_type": "stream",
     "text": [
      "[1000]\ttrain_set's rmse: 48.8076\tvalid_set's rmse: 65.3452\n",
      "[2000]\ttrain_set's rmse: 41.2579\tvalid_set's rmse: 61.5786\n",
      "[3000]\ttrain_set's rmse: 36.8\tvalid_set's rmse: 59.5796\n",
      "[4000]\ttrain_set's rmse: 33.6235\tvalid_set's rmse: 58.3909\n",
      "[5000]\ttrain_set's rmse: 31.1005\tvalid_set's rmse: 57.5394\n",
      "[6000]\ttrain_set's rmse: 29.0853\tvalid_set's rmse: 56.9379\n",
      "[7000]\ttrain_set's rmse: 27.4081\tvalid_set's rmse: 56.525\n",
      "[8000]\ttrain_set's rmse: 25.9262\tvalid_set's rmse: 56.1288\n",
      "[9000]\ttrain_set's rmse: 24.6633\tvalid_set's rmse: 55.8774\n",
      "[10000]\ttrain_set's rmse: 23.5406\tvalid_set's rmse: 55.6773\n"
     ]
    },
    {
     "name": "stderr",
     "output_type": "stream",
     "text": [
      "/usr/local/lib/python3.7/site-packages/lightgbm/engine.py:239: UserWarning: 'verbose_eval' argument is deprecated and will be removed in a future release of LightGBM. Pass 'log_evaluation()' callback via 'callbacks' argument instead.\n",
      "  _log_warning(\"'verbose_eval' argument is deprecated and will be removed in a future release of LightGBM. \"\n"
     ]
    },
    {
     "name": "stdout",
     "output_type": "stream",
     "text": [
      "[1000]\ttrain_set's rmse: 49.5446\tvalid_set's rmse: 57.1767\n",
      "[2000]\ttrain_set's rmse: 41.7965\tvalid_set's rmse: 54.1505\n",
      "[3000]\ttrain_set's rmse: 37.3078\tvalid_set's rmse: 52.7393\n",
      "[4000]\ttrain_set's rmse: 34.1296\tvalid_set's rmse: 51.8955\n",
      "[5000]\ttrain_set's rmse: 31.6612\tvalid_set's rmse: 51.2614\n",
      "[6000]\ttrain_set's rmse: 29.6607\tvalid_set's rmse: 50.8592\n",
      "[7000]\ttrain_set's rmse: 27.978\tvalid_set's rmse: 50.5376\n",
      "[8000]\ttrain_set's rmse: 26.498\tvalid_set's rmse: 50.2821\n",
      "[9000]\ttrain_set's rmse: 25.2442\tvalid_set's rmse: 50.1288\n",
      "[10000]\ttrain_set's rmse: 24.1079\tvalid_set's rmse: 50.0295\n"
     ]
    },
    {
     "name": "stderr",
     "output_type": "stream",
     "text": [
      "/usr/local/lib/python3.7/site-packages/lightgbm/engine.py:239: UserWarning: 'verbose_eval' argument is deprecated and will be removed in a future release of LightGBM. Pass 'log_evaluation()' callback via 'callbacks' argument instead.\n",
      "  _log_warning(\"'verbose_eval' argument is deprecated and will be removed in a future release of LightGBM. \"\n"
     ]
    },
    {
     "name": "stdout",
     "output_type": "stream",
     "text": [
      "[1000]\ttrain_set's rmse: 48.9939\tvalid_set's rmse: 62.2439\n",
      "[2000]\ttrain_set's rmse: 41.2357\tvalid_set's rmse: 59.3721\n",
      "[3000]\ttrain_set's rmse: 36.71\tvalid_set's rmse: 58.0591\n",
      "[4000]\ttrain_set's rmse: 33.516\tvalid_set's rmse: 57.3296\n",
      "[5000]\ttrain_set's rmse: 31.1209\tvalid_set's rmse: 56.8391\n",
      "[6000]\ttrain_set's rmse: 29.0925\tvalid_set's rmse: 56.5041\n",
      "[7000]\ttrain_set's rmse: 27.4476\tvalid_set's rmse: 56.33\n",
      "[8000]\ttrain_set's rmse: 25.9711\tvalid_set's rmse: 56.1373\n",
      "[9000]\ttrain_set's rmse: 24.6845\tvalid_set's rmse: 56.01\n",
      "[10000]\ttrain_set's rmse: 23.5475\tvalid_set's rmse: 55.945\n"
     ]
    },
    {
     "name": "stderr",
     "output_type": "stream",
     "text": [
      "/usr/local/lib/python3.7/site-packages/lightgbm/engine.py:239: UserWarning: 'verbose_eval' argument is deprecated and will be removed in a future release of LightGBM. Pass 'log_evaluation()' callback via 'callbacks' argument instead.\n",
      "  _log_warning(\"'verbose_eval' argument is deprecated and will be removed in a future release of LightGBM. \"\n"
     ]
    },
    {
     "name": "stdout",
     "output_type": "stream",
     "text": [
      "[1000]\ttrain_set's rmse: 49.4523\tvalid_set's rmse: 59.7637\n",
      "[2000]\ttrain_set's rmse: 41.9033\tvalid_set's rmse: 55.5804\n",
      "[3000]\ttrain_set's rmse: 37.4716\tvalid_set's rmse: 53.8728\n",
      "[4000]\ttrain_set's rmse: 34.2018\tvalid_set's rmse: 52.8468\n",
      "[5000]\ttrain_set's rmse: 31.656\tvalid_set's rmse: 52.2064\n",
      "[6000]\ttrain_set's rmse: 29.5762\tvalid_set's rmse: 51.8682\n",
      "[7000]\ttrain_set's rmse: 27.8415\tvalid_set's rmse: 51.626\n",
      "[8000]\ttrain_set's rmse: 26.2925\tvalid_set's rmse: 51.4244\n",
      "[9000]\ttrain_set's rmse: 24.9907\tvalid_set's rmse: 51.2622\n",
      "[10000]\ttrain_set's rmse: 23.8126\tvalid_set's rmse: 51.1971\n"
     ]
    },
    {
     "name": "stderr",
     "output_type": "stream",
     "text": [
      "/usr/local/lib/python3.7/site-packages/lightgbm/engine.py:239: UserWarning: 'verbose_eval' argument is deprecated and will be removed in a future release of LightGBM. Pass 'log_evaluation()' callback via 'callbacks' argument instead.\n",
      "  _log_warning(\"'verbose_eval' argument is deprecated and will be removed in a future release of LightGBM. \"\n"
     ]
    },
    {
     "name": "stdout",
     "output_type": "stream",
     "text": [
      "[1000]\ttrain_set's rmse: 49.3178\tvalid_set's rmse: 61.8269\n",
      "[2000]\ttrain_set's rmse: 41.6386\tvalid_set's rmse: 58.4412\n",
      "[3000]\ttrain_set's rmse: 37.2481\tvalid_set's rmse: 56.9088\n",
      "[4000]\ttrain_set's rmse: 34.0489\tvalid_set's rmse: 55.9831\n",
      "[5000]\ttrain_set's rmse: 31.5287\tvalid_set's rmse: 55.2498\n",
      "[6000]\ttrain_set's rmse: 29.471\tvalid_set's rmse: 54.5829\n",
      "[7000]\ttrain_set's rmse: 27.7202\tvalid_set's rmse: 54.2989\n",
      "[8000]\ttrain_set's rmse: 26.2293\tvalid_set's rmse: 53.9764\n",
      "[9000]\ttrain_set's rmse: 24.9505\tvalid_set's rmse: 53.712\n",
      "[10000]\ttrain_set's rmse: 23.8083\tvalid_set's rmse: 53.4973\n"
     ]
    },
    {
     "name": "stderr",
     "output_type": "stream",
     "text": [
      "/usr/local/lib/python3.7/site-packages/lightgbm/engine.py:239: UserWarning: 'verbose_eval' argument is deprecated and will be removed in a future release of LightGBM. Pass 'log_evaluation()' callback via 'callbacks' argument instead.\n",
      "  _log_warning(\"'verbose_eval' argument is deprecated and will be removed in a future release of LightGBM. \"\n"
     ]
    },
    {
     "name": "stdout",
     "output_type": "stream",
     "text": [
      "[1000]\ttrain_set's rmse: 48.8209\tvalid_set's rmse: 59.6892\n",
      "[2000]\ttrain_set's rmse: 41.1381\tvalid_set's rmse: 57.1399\n",
      "[3000]\ttrain_set's rmse: 36.7199\tvalid_set's rmse: 55.8847\n",
      "[4000]\ttrain_set's rmse: 33.5767\tvalid_set's rmse: 55.1717\n",
      "[5000]\ttrain_set's rmse: 31.1023\tvalid_set's rmse: 54.6279\n",
      "[6000]\ttrain_set's rmse: 29.1048\tvalid_set's rmse: 54.1752\n",
      "[7000]\ttrain_set's rmse: 27.4092\tvalid_set's rmse: 53.9394\n",
      "[8000]\ttrain_set's rmse: 25.978\tvalid_set's rmse: 53.7219\n",
      "[9000]\ttrain_set's rmse: 24.6942\tvalid_set's rmse: 53.528\n",
      "[10000]\ttrain_set's rmse: 23.5357\tvalid_set's rmse: 53.4824\n"
     ]
    },
    {
     "name": "stderr",
     "output_type": "stream",
     "text": [
      "/usr/local/lib/python3.7/site-packages/lightgbm/engine.py:239: UserWarning: 'verbose_eval' argument is deprecated and will be removed in a future release of LightGBM. Pass 'log_evaluation()' callback via 'callbacks' argument instead.\n",
      "  _log_warning(\"'verbose_eval' argument is deprecated and will be removed in a future release of LightGBM. \"\n"
     ]
    },
    {
     "name": "stdout",
     "output_type": "stream",
     "text": [
      "[1000]\ttrain_set's rmse: 49.9083\tvalid_set's rmse: 56.2102\n",
      "[2000]\ttrain_set's rmse: 42.101\tvalid_set's rmse: 53.324\n",
      "[3000]\ttrain_set's rmse: 37.6069\tvalid_set's rmse: 51.772\n",
      "[4000]\ttrain_set's rmse: 34.4141\tvalid_set's rmse: 50.7136\n",
      "[5000]\ttrain_set's rmse: 31.9408\tvalid_set's rmse: 50.1177\n",
      "[6000]\ttrain_set's rmse: 29.868\tvalid_set's rmse: 49.6156\n",
      "[7000]\ttrain_set's rmse: 28.1437\tvalid_set's rmse: 49.2995\n",
      "[8000]\ttrain_set's rmse: 26.6001\tvalid_set's rmse: 49.0901\n",
      "[9000]\ttrain_set's rmse: 25.3058\tvalid_set's rmse: 48.9468\n",
      "[10000]\ttrain_set's rmse: 24.1666\tvalid_set's rmse: 48.8306\n"
     ]
    },
    {
     "name": "stderr",
     "output_type": "stream",
     "text": [
      "\t-52.3719\t = Validation score   (root_mean_squared_error)\n",
      "\t142.86s\t = Training   runtime\n",
      "\t9.23s\t = Validation runtime\n",
      "Fitting model: LightGBM_BAG_L1 ... Training model for up to 228.58s of the 428.63s of remaining time.\n",
      "/usr/local/lib/python3.7/site-packages/lightgbm/engine.py:239: UserWarning: 'verbose_eval' argument is deprecated and will be removed in a future release of LightGBM. Pass 'log_evaluation()' callback via 'callbacks' argument instead.\n",
      "  _log_warning(\"'verbose_eval' argument is deprecated and will be removed in a future release of LightGBM. \"\n"
     ]
    },
    {
     "name": "stdout",
     "output_type": "stream",
     "text": [
      "[1000]\ttrain_set's rmse: 33.3592\tvalid_set's rmse: 52.5918\n",
      "[2000]\ttrain_set's rmse: 23.759\tvalid_set's rmse: 50.5573\n",
      "[3000]\ttrain_set's rmse: 18.5382\tvalid_set's rmse: 50.0138\n",
      "[4000]\ttrain_set's rmse: 15.0877\tvalid_set's rmse: 49.9663\n"
     ]
    },
    {
     "name": "stderr",
     "output_type": "stream",
     "text": [
      "/usr/local/lib/python3.7/site-packages/lightgbm/engine.py:239: UserWarning: 'verbose_eval' argument is deprecated and will be removed in a future release of LightGBM. Pass 'log_evaluation()' callback via 'callbacks' argument instead.\n",
      "  _log_warning(\"'verbose_eval' argument is deprecated and will be removed in a future release of LightGBM. \"\n"
     ]
    },
    {
     "name": "stdout",
     "output_type": "stream",
     "text": [
      "[1000]\ttrain_set's rmse: 33.0751\tvalid_set's rmse: 54.5715\n",
      "[2000]\ttrain_set's rmse: 23.9171\tvalid_set's rmse: 52.2193\n",
      "[3000]\ttrain_set's rmse: 18.9315\tvalid_set's rmse: 51.3141\n",
      "[4000]\ttrain_set's rmse: 15.467\tvalid_set's rmse: 50.8911\n",
      "[5000]\ttrain_set's rmse: 12.7863\tvalid_set's rmse: 50.818\n",
      "[6000]\ttrain_set's rmse: 10.8191\tvalid_set's rmse: 50.8082\n"
     ]
    },
    {
     "name": "stderr",
     "output_type": "stream",
     "text": [
      "/usr/local/lib/python3.7/site-packages/lightgbm/engine.py:239: UserWarning: 'verbose_eval' argument is deprecated and will be removed in a future release of LightGBM. Pass 'log_evaluation()' callback via 'callbacks' argument instead.\n",
      "  _log_warning(\"'verbose_eval' argument is deprecated and will be removed in a future release of LightGBM. \"\n"
     ]
    },
    {
     "name": "stdout",
     "output_type": "stream",
     "text": [
      "[1000]\ttrain_set's rmse: 33.3105\tvalid_set's rmse: 53.1549\n",
      "[2000]\ttrain_set's rmse: 24.2697\tvalid_set's rmse: 51.2275\n",
      "[3000]\ttrain_set's rmse: 19.401\tvalid_set's rmse: 50.4764\n",
      "[4000]\ttrain_set's rmse: 15.7236\tvalid_set's rmse: 50.3236\n",
      "[5000]\ttrain_set's rmse: 12.8988\tvalid_set's rmse: 50.3997\n"
     ]
    },
    {
     "name": "stderr",
     "output_type": "stream",
     "text": [
      "/usr/local/lib/python3.7/site-packages/lightgbm/engine.py:239: UserWarning: 'verbose_eval' argument is deprecated and will be removed in a future release of LightGBM. Pass 'log_evaluation()' callback via 'callbacks' argument instead.\n",
      "  _log_warning(\"'verbose_eval' argument is deprecated and will be removed in a future release of LightGBM. \"\n"
     ]
    },
    {
     "name": "stdout",
     "output_type": "stream",
     "text": [
      "[1000]\ttrain_set's rmse: 32.5463\tvalid_set's rmse: 60.1829\n",
      "[2000]\ttrain_set's rmse: 23.4948\tvalid_set's rmse: 57.9184\n",
      "[3000]\ttrain_set's rmse: 18.2966\tvalid_set's rmse: 57.4338\n",
      "[4000]\ttrain_set's rmse: 14.9832\tvalid_set's rmse: 56.9543\n",
      "[5000]\ttrain_set's rmse: 12.5574\tvalid_set's rmse: 56.8715\n",
      "[6000]\ttrain_set's rmse: 10.6433\tvalid_set's rmse: 56.7687\n",
      "[7000]\ttrain_set's rmse: 9.22102\tvalid_set's rmse: 56.6909\n",
      "[8000]\ttrain_set's rmse: 7.96365\tvalid_set's rmse: 56.6698\n",
      "[9000]\ttrain_set's rmse: 6.94366\tvalid_set's rmse: 56.7068\n"
     ]
    },
    {
     "name": "stderr",
     "output_type": "stream",
     "text": [
      "/usr/local/lib/python3.7/site-packages/lightgbm/engine.py:239: UserWarning: 'verbose_eval' argument is deprecated and will be removed in a future release of LightGBM. Pass 'log_evaluation()' callback via 'callbacks' argument instead.\n",
      "  _log_warning(\"'verbose_eval' argument is deprecated and will be removed in a future release of LightGBM. \"\n"
     ]
    },
    {
     "name": "stdout",
     "output_type": "stream",
     "text": [
      "[1000]\ttrain_set's rmse: 33.4723\tvalid_set's rmse: 53.5351\n",
      "[2000]\ttrain_set's rmse: 24.2422\tvalid_set's rmse: 51.9254\n",
      "[3000]\ttrain_set's rmse: 19.1923\tvalid_set's rmse: 51.4401\n",
      "[4000]\ttrain_set's rmse: 15.6558\tvalid_set's rmse: 51.1402\n",
      "[5000]\ttrain_set's rmse: 13.0853\tvalid_set's rmse: 50.9956\n",
      "[6000]\ttrain_set's rmse: 11.1529\tvalid_set's rmse: 51.017\n"
     ]
    },
    {
     "name": "stderr",
     "output_type": "stream",
     "text": [
      "/usr/local/lib/python3.7/site-packages/lightgbm/engine.py:239: UserWarning: 'verbose_eval' argument is deprecated and will be removed in a future release of LightGBM. Pass 'log_evaluation()' callback via 'callbacks' argument instead.\n",
      "  _log_warning(\"'verbose_eval' argument is deprecated and will be removed in a future release of LightGBM. \"\n"
     ]
    },
    {
     "name": "stdout",
     "output_type": "stream",
     "text": [
      "[1000]\ttrain_set's rmse: 33.0582\tvalid_set's rmse: 59.0037\n",
      "[2000]\ttrain_set's rmse: 23.9462\tvalid_set's rmse: 57.1527\n",
      "[3000]\ttrain_set's rmse: 18.8212\tvalid_set's rmse: 56.5909\n",
      "[4000]\ttrain_set's rmse: 15.3654\tvalid_set's rmse: 56.1695\n"
     ]
    },
    {
     "name": "stderr",
     "output_type": "stream",
     "text": [
      "/usr/local/lib/python3.7/site-packages/lightgbm/engine.py:239: UserWarning: 'verbose_eval' argument is deprecated and will be removed in a future release of LightGBM. Pass 'log_evaluation()' callback via 'callbacks' argument instead.\n",
      "  _log_warning(\"'verbose_eval' argument is deprecated and will be removed in a future release of LightGBM. \"\n"
     ]
    },
    {
     "name": "stdout",
     "output_type": "stream",
     "text": [
      "[1000]\ttrain_set's rmse: 33.1019\tvalid_set's rmse: 56.3277\n",
      "[2000]\ttrain_set's rmse: 23.8424\tvalid_set's rmse: 54.9066\n",
      "[3000]\ttrain_set's rmse: 18.9649\tvalid_set's rmse: 54.7537\n",
      "[4000]\ttrain_set's rmse: 15.2679\tvalid_set's rmse: 54.8261\n"
     ]
    },
    {
     "name": "stderr",
     "output_type": "stream",
     "text": [
      "/usr/local/lib/python3.7/site-packages/lightgbm/engine.py:239: UserWarning: 'verbose_eval' argument is deprecated and will be removed in a future release of LightGBM. Pass 'log_evaluation()' callback via 'callbacks' argument instead.\n",
      "  _log_warning(\"'verbose_eval' argument is deprecated and will be removed in a future release of LightGBM. \"\n"
     ]
    },
    {
     "name": "stdout",
     "output_type": "stream",
     "text": [
      "[1000]\ttrain_set's rmse: 32.796\tvalid_set's rmse: 54.666\n",
      "[2000]\ttrain_set's rmse: 24.2556\tvalid_set's rmse: 52.5589\n",
      "[3000]\ttrain_set's rmse: 18.9353\tvalid_set's rmse: 51.6378\n",
      "[4000]\ttrain_set's rmse: 15.4278\tvalid_set's rmse: 51.3155\n",
      "[5000]\ttrain_set's rmse: 12.848\tvalid_set's rmse: 51.1867\n",
      "[6000]\ttrain_set's rmse: 10.8293\tvalid_set's rmse: 50.9674\n",
      "[7000]\ttrain_set's rmse: 9.3828\tvalid_set's rmse: 50.8947\n",
      "[8000]\ttrain_set's rmse: 8.20521\tvalid_set's rmse: 50.8313\n",
      "[9000]\ttrain_set's rmse: 7.13663\tvalid_set's rmse: 50.8066\n",
      "[10000]\ttrain_set's rmse: 6.31845\tvalid_set's rmse: 50.854\n"
     ]
    },
    {
     "name": "stderr",
     "output_type": "stream",
     "text": [
      "/usr/local/lib/python3.7/site-packages/lightgbm/engine.py:239: UserWarning: 'verbose_eval' argument is deprecated and will be removed in a future release of LightGBM. Pass 'log_evaluation()' callback via 'callbacks' argument instead.\n",
      "  _log_warning(\"'verbose_eval' argument is deprecated and will be removed in a future release of LightGBM. \"\n"
     ]
    },
    {
     "name": "stdout",
     "output_type": "stream",
     "text": [
      "[1000]\ttrain_set's rmse: 32.9084\tvalid_set's rmse: 56.8177\n",
      "[2000]\ttrain_set's rmse: 24.0182\tvalid_set's rmse: 54.7819\n",
      "[3000]\ttrain_set's rmse: 18.7338\tvalid_set's rmse: 54.2045\n",
      "[4000]\ttrain_set's rmse: 15.1193\tvalid_set's rmse: 54.0339\n"
     ]
    },
    {
     "name": "stderr",
     "output_type": "stream",
     "text": [
      "/usr/local/lib/python3.7/site-packages/lightgbm/engine.py:239: UserWarning: 'verbose_eval' argument is deprecated and will be removed in a future release of LightGBM. Pass 'log_evaluation()' callback via 'callbacks' argument instead.\n",
      "  _log_warning(\"'verbose_eval' argument is deprecated and will be removed in a future release of LightGBM. \"\n"
     ]
    },
    {
     "name": "stdout",
     "output_type": "stream",
     "text": [
      "[1000]\ttrain_set's rmse: 33.094\tvalid_set's rmse: 51.5457\n",
      "[2000]\ttrain_set's rmse: 24.2495\tvalid_set's rmse: 49.9594\n",
      "[3000]\ttrain_set's rmse: 19.1972\tvalid_set's rmse: 49.5207\n"
     ]
    },
    {
     "name": "stderr",
     "output_type": "stream",
     "text": [
      "\t-52.4215\t = Validation score   (root_mean_squared_error)\n",
      "\t78.65s\t = Training   runtime\n",
      "\t3.18s\t = Validation runtime\n",
      "Fitting model: RandomForestMSE_BAG_L1 ... Training model for up to 137.51s of the 337.57s of remaining time.\n",
      "\t-64.1606\t = Validation score   (root_mean_squared_error)\n",
      "\t7.64s\t = Training   runtime\n",
      "\t0.42s\t = Validation runtime\n",
      "Fitting model: CatBoost_BAG_L1 ... Training model for up to 127.1s of the 327.15s of remaining time.\n",
      "\tTime limit exceeded... Skipping CatBoost_BAG_L1.\n",
      "Fitting model: ExtraTreesMSE_BAG_L1 ... Training model for up to 111.54s of the 311.59s of remaining time.\n",
      "\t-64.0834\t = Validation score   (root_mean_squared_error)\n",
      "\t3.54s\t = Training   runtime\n",
      "\t0.42s\t = Validation runtime\n",
      "Fitting model: NeuralNetFastAI_BAG_L1 ... Training model for up to 105.03s of the 305.09s of remaining time.\n",
      "\tRan out of time, stopping training early. (Stopping on epoch 18)\n",
      "\tRan out of time, stopping training early. (Stopping on epoch 18)\n",
      "\tRan out of time, stopping training early. (Stopping on epoch 19)\n",
      "\tRan out of time, stopping training early. (Stopping on epoch 19)\n",
      "\tRan out of time, stopping training early. (Stopping on epoch 20)\n",
      "\tRan out of time, stopping training early. (Stopping on epoch 21)\n",
      "\tRan out of time, stopping training early. (Stopping on epoch 22)\n",
      "\tRan out of time, stopping training early. (Stopping on epoch 24)\n",
      "\tRan out of time, stopping training early. (Stopping on epoch 27)\n",
      "\t-72.0221\t = Validation score   (root_mean_squared_error)\n",
      "\t98.91s\t = Training   runtime\n",
      "\t0.34s\t = Validation runtime\n",
      "Fitting model: XGBoost_BAG_L1 ... Training model for up to 4.88s of the 204.93s of remaining time.\n",
      "\tTime limit exceeded... Skipping XGBoost_BAG_L1.\n",
      "Fitting model: NeuralNetMXNet_BAG_L1 ... Training model for up to 4.18s of the 204.24s of remaining time.\n",
      "\tTime limit exceeded... Skipping NeuralNetMXNet_BAG_L1.\n",
      "Fitting model: LightGBMLarge_BAG_L1 ... Training model for up to 2.52s of the 202.57s of remaining time.\n",
      "/usr/local/lib/python3.7/site-packages/lightgbm/engine.py:239: UserWarning: 'verbose_eval' argument is deprecated and will be removed in a future release of LightGBM. Pass 'log_evaluation()' callback via 'callbacks' argument instead.\n",
      "  _log_warning(\"'verbose_eval' argument is deprecated and will be removed in a future release of LightGBM. \"\n",
      "\tRan out of time, early stopping on iteration 1. Best iteration is:\n",
      "\t[1]\ttrain_set's rmse: 176.777\tvalid_set's rmse: 175.137\n",
      "\tTime limit exceeded... Skipping LightGBMLarge_BAG_L1.\n",
      "Completed 1/20 k-fold bagging repeats ...\n",
      "Fitting model: WeightedEnsemble_L2 ... Training model for up to 360.0s of the 201.68s of remaining time.\n",
      "\t-50.9468\t = Validation score   (root_mean_squared_error)\n",
      "\t0.36s\t = Training   runtime\n",
      "\t0.0s\t = Validation runtime\n",
      "Fitting 9 L2 models ...\n",
      "Fitting model: LightGBMXT_BAG_L2 ... Training model for up to 201.18s of the 201.15s of remaining time.\n",
      "/usr/local/lib/python3.7/site-packages/lightgbm/engine.py:239: UserWarning: 'verbose_eval' argument is deprecated and will be removed in a future release of LightGBM. Pass 'log_evaluation()' callback via 'callbacks' argument instead.\n",
      "  _log_warning(\"'verbose_eval' argument is deprecated and will be removed in a future release of LightGBM. \"\n",
      "/usr/local/lib/python3.7/site-packages/lightgbm/engine.py:239: UserWarning: 'verbose_eval' argument is deprecated and will be removed in a future release of LightGBM. Pass 'log_evaluation()' callback via 'callbacks' argument instead.\n",
      "  _log_warning(\"'verbose_eval' argument is deprecated and will be removed in a future release of LightGBM. \"\n",
      "/usr/local/lib/python3.7/site-packages/lightgbm/engine.py:239: UserWarning: 'verbose_eval' argument is deprecated and will be removed in a future release of LightGBM. Pass 'log_evaluation()' callback via 'callbacks' argument instead.\n",
      "  _log_warning(\"'verbose_eval' argument is deprecated and will be removed in a future release of LightGBM. \"\n",
      "/usr/local/lib/python3.7/site-packages/lightgbm/engine.py:239: UserWarning: 'verbose_eval' argument is deprecated and will be removed in a future release of LightGBM. Pass 'log_evaluation()' callback via 'callbacks' argument instead.\n",
      "  _log_warning(\"'verbose_eval' argument is deprecated and will be removed in a future release of LightGBM. \"\n",
      "/usr/local/lib/python3.7/site-packages/lightgbm/engine.py:239: UserWarning: 'verbose_eval' argument is deprecated and will be removed in a future release of LightGBM. Pass 'log_evaluation()' callback via 'callbacks' argument instead.\n",
      "  _log_warning(\"'verbose_eval' argument is deprecated and will be removed in a future release of LightGBM. \"\n",
      "/usr/local/lib/python3.7/site-packages/lightgbm/engine.py:239: UserWarning: 'verbose_eval' argument is deprecated and will be removed in a future release of LightGBM. Pass 'log_evaluation()' callback via 'callbacks' argument instead.\n",
      "  _log_warning(\"'verbose_eval' argument is deprecated and will be removed in a future release of LightGBM. \"\n",
      "/usr/local/lib/python3.7/site-packages/lightgbm/engine.py:239: UserWarning: 'verbose_eval' argument is deprecated and will be removed in a future release of LightGBM. Pass 'log_evaluation()' callback via 'callbacks' argument instead.\n",
      "  _log_warning(\"'verbose_eval' argument is deprecated and will be removed in a future release of LightGBM. \"\n",
      "/usr/local/lib/python3.7/site-packages/lightgbm/engine.py:239: UserWarning: 'verbose_eval' argument is deprecated and will be removed in a future release of LightGBM. Pass 'log_evaluation()' callback via 'callbacks' argument instead.\n",
      "  _log_warning(\"'verbose_eval' argument is deprecated and will be removed in a future release of LightGBM. \"\n",
      "/usr/local/lib/python3.7/site-packages/lightgbm/engine.py:239: UserWarning: 'verbose_eval' argument is deprecated and will be removed in a future release of LightGBM. Pass 'log_evaluation()' callback via 'callbacks' argument instead.\n",
      "  _log_warning(\"'verbose_eval' argument is deprecated and will be removed in a future release of LightGBM. \"\n",
      "/usr/local/lib/python3.7/site-packages/lightgbm/engine.py:239: UserWarning: 'verbose_eval' argument is deprecated and will be removed in a future release of LightGBM. Pass 'log_evaluation()' callback via 'callbacks' argument instead.\n",
      "  _log_warning(\"'verbose_eval' argument is deprecated and will be removed in a future release of LightGBM. \"\n",
      "\t-51.615\t = Validation score   (root_mean_squared_error)\n",
      "\t16.32s\t = Training   runtime\n",
      "\t0.25s\t = Validation runtime\n",
      "Fitting model: LightGBM_BAG_L2 ... Training model for up to 183.01s of the 182.98s of remaining time.\n",
      "/usr/local/lib/python3.7/site-packages/lightgbm/engine.py:239: UserWarning: 'verbose_eval' argument is deprecated and will be removed in a future release of LightGBM. Pass 'log_evaluation()' callback via 'callbacks' argument instead.\n",
      "  _log_warning(\"'verbose_eval' argument is deprecated and will be removed in a future release of LightGBM. \"\n",
      "/usr/local/lib/python3.7/site-packages/lightgbm/engine.py:239: UserWarning: 'verbose_eval' argument is deprecated and will be removed in a future release of LightGBM. Pass 'log_evaluation()' callback via 'callbacks' argument instead.\n",
      "  _log_warning(\"'verbose_eval' argument is deprecated and will be removed in a future release of LightGBM. \"\n",
      "/usr/local/lib/python3.7/site-packages/lightgbm/engine.py:239: UserWarning: 'verbose_eval' argument is deprecated and will be removed in a future release of LightGBM. Pass 'log_evaluation()' callback via 'callbacks' argument instead.\n",
      "  _log_warning(\"'verbose_eval' argument is deprecated and will be removed in a future release of LightGBM. \"\n",
      "/usr/local/lib/python3.7/site-packages/lightgbm/engine.py:239: UserWarning: 'verbose_eval' argument is deprecated and will be removed in a future release of LightGBM. Pass 'log_evaluation()' callback via 'callbacks' argument instead.\n",
      "  _log_warning(\"'verbose_eval' argument is deprecated and will be removed in a future release of LightGBM. \"\n",
      "/usr/local/lib/python3.7/site-packages/lightgbm/engine.py:239: UserWarning: 'verbose_eval' argument is deprecated and will be removed in a future release of LightGBM. Pass 'log_evaluation()' callback via 'callbacks' argument instead.\n",
      "  _log_warning(\"'verbose_eval' argument is deprecated and will be removed in a future release of LightGBM. \"\n",
      "/usr/local/lib/python3.7/site-packages/lightgbm/engine.py:239: UserWarning: 'verbose_eval' argument is deprecated and will be removed in a future release of LightGBM. Pass 'log_evaluation()' callback via 'callbacks' argument instead.\n",
      "  _log_warning(\"'verbose_eval' argument is deprecated and will be removed in a future release of LightGBM. \"\n",
      "/usr/local/lib/python3.7/site-packages/lightgbm/engine.py:239: UserWarning: 'verbose_eval' argument is deprecated and will be removed in a future release of LightGBM. Pass 'log_evaluation()' callback via 'callbacks' argument instead.\n",
      "  _log_warning(\"'verbose_eval' argument is deprecated and will be removed in a future release of LightGBM. \"\n",
      "/usr/local/lib/python3.7/site-packages/lightgbm/engine.py:239: UserWarning: 'verbose_eval' argument is deprecated and will be removed in a future release of LightGBM. Pass 'log_evaluation()' callback via 'callbacks' argument instead.\n",
      "  _log_warning(\"'verbose_eval' argument is deprecated and will be removed in a future release of LightGBM. \"\n",
      "/usr/local/lib/python3.7/site-packages/lightgbm/engine.py:239: UserWarning: 'verbose_eval' argument is deprecated and will be removed in a future release of LightGBM. Pass 'log_evaluation()' callback via 'callbacks' argument instead.\n",
      "  _log_warning(\"'verbose_eval' argument is deprecated and will be removed in a future release of LightGBM. \"\n",
      "/usr/local/lib/python3.7/site-packages/lightgbm/engine.py:239: UserWarning: 'verbose_eval' argument is deprecated and will be removed in a future release of LightGBM. Pass 'log_evaluation()' callback via 'callbacks' argument instead.\n",
      "  _log_warning(\"'verbose_eval' argument is deprecated and will be removed in a future release of LightGBM. \"\n",
      "\t-50.2984\t = Validation score   (root_mean_squared_error)\n",
      "\t11.75s\t = Training   runtime\n",
      "\t0.1s\t = Validation runtime\n",
      "Fitting model: RandomForestMSE_BAG_L2 ... Training model for up to 170.28s of the 170.25s of remaining time.\n",
      "\t-50.0039\t = Validation score   (root_mean_squared_error)\n",
      "\t21.78s\t = Training   runtime\n",
      "\t0.46s\t = Validation runtime\n",
      "Fitting model: CatBoost_BAG_L2 ... Training model for up to 145.62s of the 145.59s of remaining time.\n",
      "\t-49.6078\t = Validation score   (root_mean_squared_error)\n",
      "\t50.52s\t = Training   runtime\n",
      "\t0.06s\t = Validation runtime\n",
      "Fitting model: ExtraTreesMSE_BAG_L2 ... Training model for up to 94.24s of the 94.21s of remaining time.\n",
      "\t-49.7909\t = Validation score   (root_mean_squared_error)\n",
      "\t5.95s\t = Training   runtime\n",
      "\t0.46s\t = Validation runtime\n",
      "Fitting model: NeuralNetFastAI_BAG_L2 ... Training model for up to 85.55s of the 85.52s of remaining time.\n",
      "\tRan out of time, stopping training early. (Stopping on epoch 14)\n",
      "\tRan out of time, stopping training early. (Stopping on epoch 14)\n",
      "\tRan out of time, stopping training early. (Stopping on epoch 15)\n",
      "\tRan out of time, stopping training early. (Stopping on epoch 15)\n",
      "\tRan out of time, stopping training early. (Stopping on epoch 16)\n",
      "\tRan out of time, stopping training early. (Stopping on epoch 17)\n",
      "\tRan out of time, stopping training early. (Stopping on epoch 17)\n",
      "\tRan out of time, stopping training early. (Stopping on epoch 19)\n",
      "\tRan out of time, stopping training early. (Stopping on epoch 21)\n",
      "\tRan out of time, stopping training early. (Stopping on epoch 25)\n",
      "\t-50.2432\t = Validation score   (root_mean_squared_error)\n",
      "\t81.61s\t = Training   runtime\n",
      "\t0.38s\t = Validation runtime\n",
      "Fitting model: XGBoost_BAG_L2 ... Training model for up to 2.81s of the 2.78s of remaining time.\n",
      "\tTime limit exceeded... Skipping XGBoost_BAG_L2.\n",
      "Fitting model: NeuralNetMXNet_BAG_L2 ... Training model for up to 2.45s of the 2.42s of remaining time.\n",
      "\tTime limit exceeded... Skipping NeuralNetMXNet_BAG_L2.\n",
      "Fitting model: LightGBMLarge_BAG_L2 ... Training model for up to 0.77s of the 0.74s of remaining time.\n",
      "/usr/local/lib/python3.7/site-packages/lightgbm/engine.py:239: UserWarning: 'verbose_eval' argument is deprecated and will be removed in a future release of LightGBM. Pass 'log_evaluation()' callback via 'callbacks' argument instead.\n",
      "  _log_warning(\"'verbose_eval' argument is deprecated and will be removed in a future release of LightGBM. \"\n",
      "\tRan out of time, early stopping on iteration 1. Best iteration is:\n",
      "\t[1]\ttrain_set's rmse: 176.365\tvalid_set's rmse: 173.023\n",
      "\tTime limit exceeded... Skipping LightGBMLarge_BAG_L2.\n",
      "Completed 1/20 k-fold bagging repeats ...\n",
      "Fitting model: WeightedEnsemble_L3 ... Training model for up to 360.0s of the -0.1s of remaining time.\n",
      "\t-49.0308\t = Validation score   (root_mean_squared_error)\n",
      "\t0.33s\t = Training   runtime\n",
      "\t0.0s\t = Validation runtime\n",
      "AutoGluon training complete, total runtime = 600.65s ...\n",
      "TabularPredictor saved. To load, use: predictor = TabularPredictor.load(\"AutogluonModels/ag-20220112_055659/\")\n"
     ]
    }
   ],
   "source": [
    "predictor_new_features = TabularPredictor(label='count', eval_metric='root_mean_squared_error').fit(\n",
    "    train_data=train.loc[:, ~train.columns.isin(['casual', 'registered'])],\n",
    "    time_limit=600,\n",
    "    presets='best_quality'\n",
    ")   "
   ]
  },
  {
   "cell_type": "code",
   "execution_count": 64,
   "metadata": {},
   "outputs": [
    {
     "name": "stdout",
     "output_type": "stream",
     "text": [
      "*** Summary of fit() ***\n",
      "Estimated performance of each model:\n",
      "                     model   score_val  pred_time_val    fit_time  pred_time_val_marginal  fit_time_marginal  stack_level  can_infer  fit_order\n",
      "0      WeightedEnsemble_L3  -49.030758      15.367342  491.839526                0.000763           0.329966            3       True         15\n",
      "1          CatBoost_BAG_L2  -49.607807      14.064175  382.167771                0.063165          50.515833            2       True         12\n",
      "2     ExtraTreesMSE_BAG_L2  -49.790899      14.464101  337.599297                0.463092           5.947360            2       True         13\n",
      "3   RandomForestMSE_BAG_L2  -50.003947      14.462690  353.431949                0.461680          21.780012            2       True         11\n",
      "4   NeuralNetFastAI_BAG_L2  -50.243181      14.378642  413.266355                0.377633          81.614417            2       True         14\n",
      "5          LightGBM_BAG_L2  -50.298385      14.096332  343.401747                0.095322          11.749810            2       True         10\n",
      "6      WeightedEnsemble_L2  -50.946819      12.750951  320.778864                0.000692           0.359710            2       True          8\n",
      "7        LightGBMXT_BAG_L2  -51.615015      14.254746  347.975590                0.253737          16.323653            2       True          9\n",
      "8        LightGBMXT_BAG_L1  -52.371892       9.233670  142.859852                9.233670         142.859852            1       True          3\n",
      "9          LightGBM_BAG_L1  -52.421524       3.178702   78.651725                3.178702          78.651725            1       True          4\n",
      "10    ExtraTreesMSE_BAG_L1  -64.083400       0.419648    3.536254                0.419648           3.536254            1       True          6\n",
      "11  RandomForestMSE_BAG_L1  -64.160611       0.424117    7.643391                0.424117           7.643391            1       True          5\n",
      "12  NeuralNetFastAI_BAG_L1  -72.022064       0.337886   98.907578                0.337886          98.907578            1       True          7\n",
      "13   KNeighborsDist_BAG_L1 -119.373394       0.203834    0.023824                0.203834           0.023824            1       True          2\n",
      "14   KNeighborsUnif_BAG_L1 -123.922640       0.203152    0.029313                0.203152           0.029313            1       True          1\n",
      "Number of models trained: 15\n",
      "Types of models trained:\n",
      "{'StackerEnsembleModel_XT', 'StackerEnsembleModel_CatBoost', 'StackerEnsembleModel_NNFastAiTabular', 'StackerEnsembleModel_RF', 'WeightedEnsembleModel', 'StackerEnsembleModel_KNN', 'StackerEnsembleModel_LGB'}\n",
      "Bagging used: True  (with 10 folds)\n",
      "Multi-layer stack-ensembling used: True  (with 3 levels)\n",
      "Feature Metadata (Processed):\n",
      "(raw dtype, special dtypes):\n",
      "('category', [])  : 2 | ['season', 'weather']\n",
      "('float', [])     : 3 | ['temp', 'atemp', 'windspeed']\n",
      "('int', [])       : 4 | ['humidity', 'hour', 'day', 'month']\n",
      "('int', ['bool']) : 2 | ['holiday', 'workingday']\n",
      "Plot summary of models saved to file: AutogluonModels/ag-20220112_055659/SummaryOfModels.html\n",
      "*** End of fit() summary ***\n"
     ]
    },
    {
     "data": {
      "text/plain": [
       "{'model_types': {'KNeighborsUnif_BAG_L1': 'StackerEnsembleModel_KNN',\n",
       "  'KNeighborsDist_BAG_L1': 'StackerEnsembleModel_KNN',\n",
       "  'LightGBMXT_BAG_L1': 'StackerEnsembleModel_LGB',\n",
       "  'LightGBM_BAG_L1': 'StackerEnsembleModel_LGB',\n",
       "  'RandomForestMSE_BAG_L1': 'StackerEnsembleModel_RF',\n",
       "  'ExtraTreesMSE_BAG_L1': 'StackerEnsembleModel_XT',\n",
       "  'NeuralNetFastAI_BAG_L1': 'StackerEnsembleModel_NNFastAiTabular',\n",
       "  'WeightedEnsemble_L2': 'WeightedEnsembleModel',\n",
       "  'LightGBMXT_BAG_L2': 'StackerEnsembleModel_LGB',\n",
       "  'LightGBM_BAG_L2': 'StackerEnsembleModel_LGB',\n",
       "  'RandomForestMSE_BAG_L2': 'StackerEnsembleModel_RF',\n",
       "  'CatBoost_BAG_L2': 'StackerEnsembleModel_CatBoost',\n",
       "  'ExtraTreesMSE_BAG_L2': 'StackerEnsembleModel_XT',\n",
       "  'NeuralNetFastAI_BAG_L2': 'StackerEnsembleModel_NNFastAiTabular',\n",
       "  'WeightedEnsemble_L3': 'WeightedEnsembleModel'},\n",
       " 'model_performance': {'KNeighborsUnif_BAG_L1': -123.92263994015985,\n",
       "  'KNeighborsDist_BAG_L1': -119.37339448003198,\n",
       "  'LightGBMXT_BAG_L1': -52.3718918772298,\n",
       "  'LightGBM_BAG_L1': -52.421524012857596,\n",
       "  'RandomForestMSE_BAG_L1': -64.16061146150749,\n",
       "  'ExtraTreesMSE_BAG_L1': -64.08339972790714,\n",
       "  'NeuralNetFastAI_BAG_L1': -72.02206447980579,\n",
       "  'WeightedEnsemble_L2': -50.94681870070091,\n",
       "  'LightGBMXT_BAG_L2': -51.61501543740007,\n",
       "  'LightGBM_BAG_L2': -50.29838507348672,\n",
       "  'RandomForestMSE_BAG_L2': -50.00394667124168,\n",
       "  'CatBoost_BAG_L2': -49.607806798375805,\n",
       "  'ExtraTreesMSE_BAG_L2': -49.79089913820369,\n",
       "  'NeuralNetFastAI_BAG_L2': -50.243180806545276,\n",
       "  'WeightedEnsemble_L3': -49.03075825462372},\n",
       " 'model_best': 'WeightedEnsemble_L3',\n",
       " 'model_paths': {'KNeighborsUnif_BAG_L1': 'AutogluonModels/ag-20220112_055659/models/KNeighborsUnif_BAG_L1/',\n",
       "  'KNeighborsDist_BAG_L1': 'AutogluonModels/ag-20220112_055659/models/KNeighborsDist_BAG_L1/',\n",
       "  'LightGBMXT_BAG_L1': 'AutogluonModels/ag-20220112_055659/models/LightGBMXT_BAG_L1/',\n",
       "  'LightGBM_BAG_L1': 'AutogluonModels/ag-20220112_055659/models/LightGBM_BAG_L1/',\n",
       "  'RandomForestMSE_BAG_L1': 'AutogluonModels/ag-20220112_055659/models/RandomForestMSE_BAG_L1/',\n",
       "  'ExtraTreesMSE_BAG_L1': 'AutogluonModels/ag-20220112_055659/models/ExtraTreesMSE_BAG_L1/',\n",
       "  'NeuralNetFastAI_BAG_L1': 'AutogluonModels/ag-20220112_055659/models/NeuralNetFastAI_BAG_L1/',\n",
       "  'WeightedEnsemble_L2': 'AutogluonModels/ag-20220112_055659/models/WeightedEnsemble_L2/',\n",
       "  'LightGBMXT_BAG_L2': 'AutogluonModels/ag-20220112_055659/models/LightGBMXT_BAG_L2/',\n",
       "  'LightGBM_BAG_L2': 'AutogluonModels/ag-20220112_055659/models/LightGBM_BAG_L2/',\n",
       "  'RandomForestMSE_BAG_L2': 'AutogluonModels/ag-20220112_055659/models/RandomForestMSE_BAG_L2/',\n",
       "  'CatBoost_BAG_L2': 'AutogluonModels/ag-20220112_055659/models/CatBoost_BAG_L2/',\n",
       "  'ExtraTreesMSE_BAG_L2': 'AutogluonModels/ag-20220112_055659/models/ExtraTreesMSE_BAG_L2/',\n",
       "  'NeuralNetFastAI_BAG_L2': 'AutogluonModels/ag-20220112_055659/models/NeuralNetFastAI_BAG_L2/',\n",
       "  'WeightedEnsemble_L3': 'AutogluonModels/ag-20220112_055659/models/WeightedEnsemble_L3/'},\n",
       " 'model_fit_times': {'KNeighborsUnif_BAG_L1': 0.029313325881958008,\n",
       "  'KNeighborsDist_BAG_L1': 0.023824453353881836,\n",
       "  'LightGBMXT_BAG_L1': 142.8598518371582,\n",
       "  'LightGBM_BAG_L1': 78.65172505378723,\n",
       "  'RandomForestMSE_BAG_L1': 7.643390893936157,\n",
       "  'ExtraTreesMSE_BAG_L1': 3.5362541675567627,\n",
       "  'NeuralNetFastAI_BAG_L1': 98.90757775306702,\n",
       "  'WeightedEnsemble_L2': 0.3597097396850586,\n",
       "  'LightGBMXT_BAG_L2': 16.323652744293213,\n",
       "  'LightGBM_BAG_L2': 11.749809980392456,\n",
       "  'RandomForestMSE_BAG_L2': 21.780011892318726,\n",
       "  'CatBoost_BAG_L2': 50.515833377838135,\n",
       "  'ExtraTreesMSE_BAG_L2': 5.947359800338745,\n",
       "  'NeuralNetFastAI_BAG_L2': 81.61441731452942,\n",
       "  'WeightedEnsemble_L3': 0.32996606826782227},\n",
       " 'model_pred_times': {'KNeighborsUnif_BAG_L1': 0.20315194129943848,\n",
       "  'KNeighborsDist_BAG_L1': 0.20383358001708984,\n",
       "  'LightGBMXT_BAG_L1': 9.233670234680176,\n",
       "  'LightGBM_BAG_L1': 3.178701877593994,\n",
       "  'RandomForestMSE_BAG_L1': 0.4241173267364502,\n",
       "  'ExtraTreesMSE_BAG_L1': 0.4196481704711914,\n",
       "  'NeuralNetFastAI_BAG_L1': 0.33788633346557617,\n",
       "  'WeightedEnsemble_L2': 0.0006921291351318359,\n",
       "  'LightGBMXT_BAG_L2': 0.2537369728088379,\n",
       "  'LightGBM_BAG_L2': 0.0953223705291748,\n",
       "  'RandomForestMSE_BAG_L2': 0.46168017387390137,\n",
       "  'CatBoost_BAG_L2': 0.06316518783569336,\n",
       "  'ExtraTreesMSE_BAG_L2': 0.4630916118621826,\n",
       "  'NeuralNetFastAI_BAG_L2': 0.37763285636901855,\n",
       "  'WeightedEnsemble_L3': 0.000762939453125},\n",
       " 'num_bag_folds': 10,\n",
       " 'max_stack_level': 3,\n",
       " 'model_hyperparams': {'KNeighborsUnif_BAG_L1': {'use_orig_features': True,\n",
       "   'max_base_models': 25,\n",
       "   'max_base_models_per_type': 5,\n",
       "   'save_bag_folds': True,\n",
       "   'use_child_oof': True},\n",
       "  'KNeighborsDist_BAG_L1': {'use_orig_features': True,\n",
       "   'max_base_models': 25,\n",
       "   'max_base_models_per_type': 5,\n",
       "   'save_bag_folds': True,\n",
       "   'use_child_oof': True},\n",
       "  'LightGBMXT_BAG_L1': {'use_orig_features': True,\n",
       "   'max_base_models': 25,\n",
       "   'max_base_models_per_type': 5,\n",
       "   'save_bag_folds': True},\n",
       "  'LightGBM_BAG_L1': {'use_orig_features': True,\n",
       "   'max_base_models': 25,\n",
       "   'max_base_models_per_type': 5,\n",
       "   'save_bag_folds': True},\n",
       "  'RandomForestMSE_BAG_L1': {'use_orig_features': True,\n",
       "   'max_base_models': 25,\n",
       "   'max_base_models_per_type': 5,\n",
       "   'save_bag_folds': True,\n",
       "   'use_child_oof': True},\n",
       "  'ExtraTreesMSE_BAG_L1': {'use_orig_features': True,\n",
       "   'max_base_models': 25,\n",
       "   'max_base_models_per_type': 5,\n",
       "   'save_bag_folds': True,\n",
       "   'use_child_oof': True},\n",
       "  'NeuralNetFastAI_BAG_L1': {'use_orig_features': True,\n",
       "   'max_base_models': 25,\n",
       "   'max_base_models_per_type': 5,\n",
       "   'save_bag_folds': True},\n",
       "  'WeightedEnsemble_L2': {'use_orig_features': False,\n",
       "   'max_base_models': 25,\n",
       "   'max_base_models_per_type': 5,\n",
       "   'save_bag_folds': True},\n",
       "  'LightGBMXT_BAG_L2': {'use_orig_features': True,\n",
       "   'max_base_models': 25,\n",
       "   'max_base_models_per_type': 5,\n",
       "   'save_bag_folds': True},\n",
       "  'LightGBM_BAG_L2': {'use_orig_features': True,\n",
       "   'max_base_models': 25,\n",
       "   'max_base_models_per_type': 5,\n",
       "   'save_bag_folds': True},\n",
       "  'RandomForestMSE_BAG_L2': {'use_orig_features': True,\n",
       "   'max_base_models': 25,\n",
       "   'max_base_models_per_type': 5,\n",
       "   'save_bag_folds': True,\n",
       "   'use_child_oof': True},\n",
       "  'CatBoost_BAG_L2': {'use_orig_features': True,\n",
       "   'max_base_models': 25,\n",
       "   'max_base_models_per_type': 5,\n",
       "   'save_bag_folds': True},\n",
       "  'ExtraTreesMSE_BAG_L2': {'use_orig_features': True,\n",
       "   'max_base_models': 25,\n",
       "   'max_base_models_per_type': 5,\n",
       "   'save_bag_folds': True,\n",
       "   'use_child_oof': True},\n",
       "  'NeuralNetFastAI_BAG_L2': {'use_orig_features': True,\n",
       "   'max_base_models': 25,\n",
       "   'max_base_models_per_type': 5,\n",
       "   'save_bag_folds': True},\n",
       "  'WeightedEnsemble_L3': {'use_orig_features': False,\n",
       "   'max_base_models': 25,\n",
       "   'max_base_models_per_type': 5,\n",
       "   'save_bag_folds': True}},\n",
       " 'leaderboard':                      model   score_val  pred_time_val    fit_time  \\\n",
       " 0      WeightedEnsemble_L3  -49.030758      15.367342  491.839526   \n",
       " 1          CatBoost_BAG_L2  -49.607807      14.064175  382.167771   \n",
       " 2     ExtraTreesMSE_BAG_L2  -49.790899      14.464101  337.599297   \n",
       " 3   RandomForestMSE_BAG_L2  -50.003947      14.462690  353.431949   \n",
       " 4   NeuralNetFastAI_BAG_L2  -50.243181      14.378642  413.266355   \n",
       " 5          LightGBM_BAG_L2  -50.298385      14.096332  343.401747   \n",
       " 6      WeightedEnsemble_L2  -50.946819      12.750951  320.778864   \n",
       " 7        LightGBMXT_BAG_L2  -51.615015      14.254746  347.975590   \n",
       " 8        LightGBMXT_BAG_L1  -52.371892       9.233670  142.859852   \n",
       " 9          LightGBM_BAG_L1  -52.421524       3.178702   78.651725   \n",
       " 10    ExtraTreesMSE_BAG_L1  -64.083400       0.419648    3.536254   \n",
       " 11  RandomForestMSE_BAG_L1  -64.160611       0.424117    7.643391   \n",
       " 12  NeuralNetFastAI_BAG_L1  -72.022064       0.337886   98.907578   \n",
       " 13   KNeighborsDist_BAG_L1 -119.373394       0.203834    0.023824   \n",
       " 14   KNeighborsUnif_BAG_L1 -123.922640       0.203152    0.029313   \n",
       " \n",
       "     pred_time_val_marginal  fit_time_marginal  stack_level  can_infer  \\\n",
       " 0                 0.000763           0.329966            3       True   \n",
       " 1                 0.063165          50.515833            2       True   \n",
       " 2                 0.463092           5.947360            2       True   \n",
       " 3                 0.461680          21.780012            2       True   \n",
       " 4                 0.377633          81.614417            2       True   \n",
       " 5                 0.095322          11.749810            2       True   \n",
       " 6                 0.000692           0.359710            2       True   \n",
       " 7                 0.253737          16.323653            2       True   \n",
       " 8                 9.233670         142.859852            1       True   \n",
       " 9                 3.178702          78.651725            1       True   \n",
       " 10                0.419648           3.536254            1       True   \n",
       " 11                0.424117           7.643391            1       True   \n",
       " 12                0.337886          98.907578            1       True   \n",
       " 13                0.203834           0.023824            1       True   \n",
       " 14                0.203152           0.029313            1       True   \n",
       " \n",
       "     fit_order  \n",
       " 0          15  \n",
       " 1          12  \n",
       " 2          13  \n",
       " 3          11  \n",
       " 4          14  \n",
       " 5          10  \n",
       " 6           8  \n",
       " 7           9  \n",
       " 8           3  \n",
       " 9           4  \n",
       " 10          6  \n",
       " 11          5  \n",
       " 12          7  \n",
       " 13          2  \n",
       " 14          1  }"
      ]
     },
     "execution_count": 64,
     "metadata": {},
     "output_type": "execute_result"
    }
   ],
   "source": [
    "predictor_new_features.fit_summary()"
   ]
  },
  {
   "cell_type": "code",
   "execution_count": 74,
   "metadata": {},
   "outputs": [],
   "source": [
    "predictions_new_features = predictor_new_features.predict(test)\n",
    "# Remember to set all negative values to zero\n",
    "predictions_new_features[predictions_new_features < 0] = 0"
   ]
  },
  {
   "cell_type": "code",
   "execution_count": 72,
   "metadata": {},
   "outputs": [],
   "source": [
    "# Same submitting predictions\n",
    "submission[\"count\"] = predictions_new_features\n",
    "submission.to_csv(\"submission_new_features.csv\", index=False)"
   ]
  },
  {
   "cell_type": "code",
   "execution_count": 73,
   "metadata": {},
   "outputs": [
    {
     "name": "stdout",
     "output_type": "stream",
     "text": [
      "100%|█████████████████████████████████████████| 188k/188k [00:00<00:00, 493kB/s]\n",
      "Successfully submitted to Bike Sharing Demand"
     ]
    }
   ],
   "source": [
    "!kaggle competitions submit -c bike-sharing-demand -f submission_new_features.csv -m \"new features\""
   ]
  },
  {
   "cell_type": "code",
   "execution_count": 75,
   "metadata": {},
   "outputs": [
    {
     "name": "stdout",
     "output_type": "stream",
     "text": [
      "fileName                     date                 description           status    publicScore  privateScore  \n",
      "---------------------------  -------------------  --------------------  --------  -----------  ------------  \n",
      "submission_new_features.csv  2022-01-12 06:15:47  new features          complete  0.55592      0.55592       \n",
      "submission.csv               2022-01-12 05:27:43  first raw submission  complete  1.39403      1.39403       \n"
     ]
    }
   ],
   "source": [
    "!kaggle competitions submissions -c bike-sharing-demand | tail -n +1 | head -n 6"
   ]
  },
  {
   "cell_type": "markdown",
   "metadata": {},
   "source": [
    "#### New Score of `0.55592`"
   ]
  },
  {
   "cell_type": "markdown",
   "metadata": {},
   "source": [
    "## Step 6: Hyper parameter optimization\n",
    "* There are many options for hyper parameter optimization.\n",
    "* Options are to change the AutoGluon higher level parameters or the individual model hyperparameters.\n",
    "* The hyperparameters of the models themselves that are in AutoGluon. Those need the `hyperparameter` and `hyperparameter_tune_kwargs` arguments."
   ]
  },
  {
   "cell_type": "code",
   "execution_count": 87,
   "metadata": {},
   "outputs": [
    {
     "name": "stderr",
     "output_type": "stream",
     "text": [
      "No path specified. Models will be saved in: \"AutogluonModels/ag-20220112_083902/\"\n",
      "Presets specified: ['best_quality']\n",
      "Warning: hyperparameter tuning is currently experimental and may cause the process to hang.\n",
      "Beginning AutoGluon training ... Time limit = 600s\n",
      "AutoGluon will save models to \"AutogluonModels/ag-20220112_083902/\"\n",
      "AutoGluon Version:  0.3.1\n",
      "Train Data Rows:    10886\n",
      "Train Data Columns: 11\n",
      "Preprocessing data ...\n",
      "AutoGluon infers your prediction problem is: 'regression' (because dtype of label-column == int and many unique label-values observed).\n",
      "\tLabel info (max, min, mean, stddev): (977, 1, 191.57413, 181.14445)\n",
      "\tIf 'regression' is not the correct problem_type, please manually specify the problem_type argument in fit() (You may specify problem_type as one of: ['binary', 'multiclass', 'regression'])\n",
      "Using Feature Generators to preprocess the data ...\n",
      "Fitting AutoMLPipelineFeatureGenerator...\n",
      "\tAvailable Memory:                    1830.22 MB\n",
      "\tTrain Data (Original)  Memory Usage: 0.81 MB (0.0% of available memory)\n",
      "\tInferring data type of each feature based on column values. Set feature_metadata_in to manually specify special dtypes of the features.\n",
      "\tStage 1 Generators:\n",
      "\t\tFitting AsTypeFeatureGenerator...\n",
      "\t\t\tNote: Converting 2 features to boolean dtype as they only contain 2 unique values.\n",
      "\tStage 2 Generators:\n",
      "\t\tFitting FillNaFeatureGenerator...\n",
      "\tStage 3 Generators:\n",
      "\t\tFitting IdentityFeatureGenerator...\n",
      "\t\tFitting CategoryFeatureGenerator...\n",
      "\t\t\tFitting CategoryMemoryMinimizeFeatureGenerator...\n",
      "\tStage 4 Generators:\n",
      "\t\tFitting DropUniqueFeatureGenerator...\n",
      "\tTypes of features in original data (raw dtype, special dtypes):\n",
      "\t\t('category', []) : 2 | ['season', 'weather']\n",
      "\t\t('float', [])    : 3 | ['temp', 'atemp', 'windspeed']\n",
      "\t\t('int', [])      : 6 | ['holiday', 'workingday', 'humidity', 'hour', 'day', ...]\n",
      "\tTypes of features in processed data (raw dtype, special dtypes):\n",
      "\t\t('category', [])  : 2 | ['season', 'weather']\n",
      "\t\t('float', [])     : 3 | ['temp', 'atemp', 'windspeed']\n",
      "\t\t('int', [])       : 4 | ['humidity', 'hour', 'day', 'month']\n",
      "\t\t('int', ['bool']) : 2 | ['holiday', 'workingday']\n",
      "\t0.1s = Fit runtime\n",
      "\t11 features in original data used to generate 11 features in processed data.\n",
      "\tTrain Data (Processed) Memory Usage: 0.65 MB (0.0% of available memory)\n",
      "Data preprocessing and feature engineering runtime = 0.16s ...\n",
      "AutoGluon will gauge predictive performance using evaluation metric: 'root_mean_squared_error'\n",
      "\tTo change this, specify the eval_metric argument of fit()\n",
      "AutoGluon will fit 2 stack levels (L1 to L2) ...\n",
      "Fitting 11 L1 models ...\n",
      "Hyperparameter tuning model: KNeighborsUnif_BAG_L1 ...\n",
      "Fitted model: KNeighborsUnif_BAG_L1/T0 ...\n",
      "\t-123.9226\t = Validation score   (root_mean_squared_error)\n",
      "\t0.03s\t = Training   runtime\n",
      "\t0.2s\t = Validation runtime\n",
      "Hyperparameter tuning model: KNeighborsDist_BAG_L1 ...\n",
      "Fitted model: KNeighborsDist_BAG_L1/T0 ...\n",
      "\t-119.3734\t = Validation score   (root_mean_squared_error)\n",
      "\t0.02s\t = Training   runtime\n",
      "\t0.21s\t = Validation runtime\n",
      "Hyperparameter tuning model: LightGBMXT_BAG_L1 ...\n",
      "/usr/local/lib/python3.7/site-packages/lightgbm/engine.py:239: UserWarning: 'verbose_eval' argument is deprecated and will be removed in a future release of LightGBM. Pass 'log_evaluation()' callback via 'callbacks' argument instead.\n",
      "  _log_warning(\"'verbose_eval' argument is deprecated and will be removed in a future release of LightGBM. \"\n"
     ]
    },
    {
     "name": "stdout",
     "output_type": "stream",
     "text": [
      "[1000]\ttrain_set's rmse: 49.304\tvalid_set's rmse: 58.8439\n"
     ]
    },
    {
     "name": "stderr",
     "output_type": "stream",
     "text": [
      "\tRan out of time, early stopping on iteration 1371. Best iteration is:\n",
      "\t[1371]\ttrain_set's rmse: 45.6842\tvalid_set's rmse: 56.9849\n",
      "\tTime limit exceeded\n",
      "Fitted model: LightGBMXT_BAG_L1/T0 ...\n",
      "\t-56.9849\t = Validation score   (root_mean_squared_error)\n",
      "\t2.77s\t = Training   runtime\n",
      "\t0.11s\t = Validation runtime\n",
      "Hyperparameter tuning model: LightGBM_BAG_L1 ...\n",
      "/usr/local/lib/python3.7/site-packages/lightgbm/engine.py:239: UserWarning: 'verbose_eval' argument is deprecated and will be removed in a future release of LightGBM. Pass 'log_evaluation()' callback via 'callbacks' argument instead.\n",
      "  _log_warning(\"'verbose_eval' argument is deprecated and will be removed in a future release of LightGBM. \"\n"
     ]
    },
    {
     "name": "stdout",
     "output_type": "stream",
     "text": [
      "[1000]\ttrain_set's rmse: 33.3592\tvalid_set's rmse: 52.5918\n"
     ]
    },
    {
     "name": "stderr",
     "output_type": "stream",
     "text": [
      "\tRan out of time, early stopping on iteration 1667. Best iteration is:\n",
      "\t[1665]\ttrain_set's rmse: 26.2842\tvalid_set's rmse: 50.9224\n",
      "\tTime limit exceeded\n",
      "Fitted model: LightGBM_BAG_L1/T0 ...\n",
      "\t-50.9224\t = Validation score   (root_mean_squared_error)\n",
      "\t2.83s\t = Training   runtime\n",
      "\t0.11s\t = Validation runtime\n",
      "Hyperparameter tuning model: RandomForestMSE_BAG_L1 ...\n",
      "Fitted model: RandomForestMSE_BAG_L1/T0 ...\n",
      "\t-64.1606\t = Validation score   (root_mean_squared_error)\n",
      "\t7.74s\t = Training   runtime\n",
      "\t0.43s\t = Validation runtime\n",
      "Hyperparameter tuning model: CatBoost_BAG_L1 ...\n",
      "\tTime limit exceeded\n",
      "Fitted model: CatBoost_BAG_L1/T0 ...\n",
      "\t-63.3049\t = Validation score   (root_mean_squared_error)\n",
      "\t3.76s\t = Training   runtime\n",
      "\t0.01s\t = Validation runtime\n",
      "Hyperparameter tuning model: ExtraTreesMSE_BAG_L1 ...\n",
      "Fitted model: ExtraTreesMSE_BAG_L1/T0 ...\n",
      "\t-64.0834\t = Validation score   (root_mean_squared_error)\n",
      "\t3.64s\t = Training   runtime\n",
      "\t0.45s\t = Validation runtime\n",
      "Hyperparameter tuning model: NeuralNetFastAI_BAG_L1 ...\n",
      "\tRan out of time, stopping training early. (Stopping on epoch 4)\n",
      "Fitted model: NeuralNetFastAI_BAG_L1/T0 ...\n",
      "\t-110.7383\t = Validation score   (root_mean_squared_error)\n",
      "\t2.24s\t = Training   runtime\n",
      "\t0.03s\t = Validation runtime\n",
      "Hyperparameter tuning model: XGBoost_BAG_L1 ...\n",
      "\tTime limit exceeded\n",
      "Fitted model: XGBoost_BAG_L1/T0 ...\n",
      "\t-53.6172\t = Validation score   (root_mean_squared_error)\n",
      "\t3.08s\t = Training   runtime\n",
      "\t0.09s\t = Validation runtime\n",
      "Hyperparameter tuning model: NeuralNetMXNet_BAG_L1 ...\n",
      "\tTime limit exceeded\n",
      "Fitting model: LightGBMLarge_BAG_L1 ... Training model for up to 3.27s of the 551.16s of remaining time.\n",
      "/usr/local/lib/python3.7/site-packages/lightgbm/engine.py:239: UserWarning: 'verbose_eval' argument is deprecated and will be removed in a future release of LightGBM. Pass 'log_evaluation()' callback via 'callbacks' argument instead.\n",
      "  _log_warning(\"'verbose_eval' argument is deprecated and will be removed in a future release of LightGBM. \"\n",
      "\tRan out of time, early stopping on iteration 619. Best iteration is:\n",
      "\t[619]\ttrain_set's rmse: 19.6728\tvalid_set's rmse: 52.7258\n",
      "\t-52.7258\t = Validation score   (root_mean_squared_error)\n",
      "\t3.03s\t = Training   runtime\n",
      "\t0.06s\t = Validation runtime\n",
      "Fitting model: KNeighborsUnif_BAG_L1/T0 ... Training model for up to 347.49s of the 547.54s of remaining time.\n",
      "\t-123.9226\t = Validation score   (root_mean_squared_error)\n",
      "\t0.03s\t = Training   runtime\n",
      "\t0.2s\t = Validation runtime\n",
      "Fitting model: KNeighborsDist_BAG_L1/T0 ... Training model for up to 347.41s of the 547.46s of remaining time.\n",
      "\t-119.3734\t = Validation score   (root_mean_squared_error)\n",
      "\t0.02s\t = Training   runtime\n",
      "\t0.21s\t = Validation runtime\n",
      "Fitting model: LightGBMXT_BAG_L1/T0 ... Training model for up to 347.13s of the 547.17s of remaining time.\n",
      "/usr/local/lib/python3.7/site-packages/lightgbm/engine.py:239: UserWarning: 'verbose_eval' argument is deprecated and will be removed in a future release of LightGBM. Pass 'log_evaluation()' callback via 'callbacks' argument instead.\n",
      "  _log_warning(\"'verbose_eval' argument is deprecated and will be removed in a future release of LightGBM. \"\n"
     ]
    },
    {
     "name": "stdout",
     "output_type": "stream",
     "text": [
      "[1000]\ttrain_set's rmse: 49.076\tvalid_set's rmse: 61.5283\n",
      "[2000]\ttrain_set's rmse: 41.65\tvalid_set's rmse: 57.0928\n",
      "[3000]\ttrain_set's rmse: 37.102\tvalid_set's rmse: 55.1783\n",
      "[4000]\ttrain_set's rmse: 33.8695\tvalid_set's rmse: 53.9665\n",
      "[5000]\ttrain_set's rmse: 31.4721\tvalid_set's rmse: 53.3942\n",
      "[6000]\ttrain_set's rmse: 29.4826\tvalid_set's rmse: 52.9293\n",
      "[7000]\ttrain_set's rmse: 27.764\tvalid_set's rmse: 52.5594\n",
      "[8000]\ttrain_set's rmse: 26.286\tvalid_set's rmse: 52.2535\n",
      "[9000]\ttrain_set's rmse: 24.971\tvalid_set's rmse: 52.0743\n",
      "[10000]\ttrain_set's rmse: 23.7843\tvalid_set's rmse: 51.8779\n"
     ]
    },
    {
     "name": "stderr",
     "output_type": "stream",
     "text": [
      "/usr/local/lib/python3.7/site-packages/lightgbm/engine.py:239: UserWarning: 'verbose_eval' argument is deprecated and will be removed in a future release of LightGBM. Pass 'log_evaluation()' callback via 'callbacks' argument instead.\n",
      "  _log_warning(\"'verbose_eval' argument is deprecated and will be removed in a future release of LightGBM. \"\n"
     ]
    },
    {
     "name": "stdout",
     "output_type": "stream",
     "text": [
      "[1000]\ttrain_set's rmse: 49.3605\tvalid_set's rmse: 57.9867\n",
      "[2000]\ttrain_set's rmse: 41.7928\tvalid_set's rmse: 55.3314\n",
      "[3000]\ttrain_set's rmse: 37.2396\tvalid_set's rmse: 54.0667\n",
      "[4000]\ttrain_set's rmse: 34.1549\tvalid_set's rmse: 53.2578\n",
      "[5000]\ttrain_set's rmse: 31.7023\tvalid_set's rmse: 52.6761\n",
      "[6000]\ttrain_set's rmse: 29.6814\tvalid_set's rmse: 52.2346\n",
      "[7000]\ttrain_set's rmse: 28.0041\tvalid_set's rmse: 52.0458\n",
      "[8000]\ttrain_set's rmse: 26.52\tvalid_set's rmse: 51.798\n",
      "[9000]\ttrain_set's rmse: 25.2438\tvalid_set's rmse: 51.6011\n",
      "[10000]\ttrain_set's rmse: 24.0943\tvalid_set's rmse: 51.4968\n"
     ]
    },
    {
     "name": "stderr",
     "output_type": "stream",
     "text": [
      "/usr/local/lib/python3.7/site-packages/lightgbm/engine.py:239: UserWarning: 'verbose_eval' argument is deprecated and will be removed in a future release of LightGBM. Pass 'log_evaluation()' callback via 'callbacks' argument instead.\n",
      "  _log_warning(\"'verbose_eval' argument is deprecated and will be removed in a future release of LightGBM. \"\n"
     ]
    },
    {
     "name": "stdout",
     "output_type": "stream",
     "text": [
      "[1000]\ttrain_set's rmse: 48.8076\tvalid_set's rmse: 65.3452\n",
      "[2000]\ttrain_set's rmse: 41.2579\tvalid_set's rmse: 61.5786\n",
      "[3000]\ttrain_set's rmse: 36.8\tvalid_set's rmse: 59.5796\n",
      "[4000]\ttrain_set's rmse: 33.6235\tvalid_set's rmse: 58.3909\n",
      "[5000]\ttrain_set's rmse: 31.1005\tvalid_set's rmse: 57.5394\n",
      "[6000]\ttrain_set's rmse: 29.0853\tvalid_set's rmse: 56.9379\n",
      "[7000]\ttrain_set's rmse: 27.4081\tvalid_set's rmse: 56.525\n",
      "[8000]\ttrain_set's rmse: 25.9262\tvalid_set's rmse: 56.1288\n",
      "[9000]\ttrain_set's rmse: 24.6633\tvalid_set's rmse: 55.8774\n",
      "[10000]\ttrain_set's rmse: 23.5406\tvalid_set's rmse: 55.6773\n"
     ]
    },
    {
     "name": "stderr",
     "output_type": "stream",
     "text": [
      "/usr/local/lib/python3.7/site-packages/lightgbm/engine.py:239: UserWarning: 'verbose_eval' argument is deprecated and will be removed in a future release of LightGBM. Pass 'log_evaluation()' callback via 'callbacks' argument instead.\n",
      "  _log_warning(\"'verbose_eval' argument is deprecated and will be removed in a future release of LightGBM. \"\n"
     ]
    },
    {
     "name": "stdout",
     "output_type": "stream",
     "text": [
      "[1000]\ttrain_set's rmse: 49.5446\tvalid_set's rmse: 57.1767\n",
      "[2000]\ttrain_set's rmse: 41.7965\tvalid_set's rmse: 54.1505\n",
      "[3000]\ttrain_set's rmse: 37.3078\tvalid_set's rmse: 52.7393\n",
      "[4000]\ttrain_set's rmse: 34.1296\tvalid_set's rmse: 51.8955\n",
      "[5000]\ttrain_set's rmse: 31.6612\tvalid_set's rmse: 51.2614\n",
      "[6000]\ttrain_set's rmse: 29.6607\tvalid_set's rmse: 50.8592\n",
      "[7000]\ttrain_set's rmse: 27.978\tvalid_set's rmse: 50.5376\n",
      "[8000]\ttrain_set's rmse: 26.498\tvalid_set's rmse: 50.2821\n",
      "[9000]\ttrain_set's rmse: 25.2442\tvalid_set's rmse: 50.1288\n",
      "[10000]\ttrain_set's rmse: 24.1079\tvalid_set's rmse: 50.0295\n"
     ]
    },
    {
     "name": "stderr",
     "output_type": "stream",
     "text": [
      "/usr/local/lib/python3.7/site-packages/lightgbm/engine.py:239: UserWarning: 'verbose_eval' argument is deprecated and will be removed in a future release of LightGBM. Pass 'log_evaluation()' callback via 'callbacks' argument instead.\n",
      "  _log_warning(\"'verbose_eval' argument is deprecated and will be removed in a future release of LightGBM. \"\n"
     ]
    },
    {
     "name": "stdout",
     "output_type": "stream",
     "text": [
      "[1000]\ttrain_set's rmse: 48.9939\tvalid_set's rmse: 62.2439\n",
      "[2000]\ttrain_set's rmse: 41.2357\tvalid_set's rmse: 59.3721\n",
      "[3000]\ttrain_set's rmse: 36.71\tvalid_set's rmse: 58.0591\n",
      "[4000]\ttrain_set's rmse: 33.516\tvalid_set's rmse: 57.3296\n",
      "[5000]\ttrain_set's rmse: 31.1209\tvalid_set's rmse: 56.8391\n",
      "[6000]\ttrain_set's rmse: 29.0925\tvalid_set's rmse: 56.5041\n",
      "[7000]\ttrain_set's rmse: 27.4476\tvalid_set's rmse: 56.33\n",
      "[8000]\ttrain_set's rmse: 25.9711\tvalid_set's rmse: 56.1373\n",
      "[9000]\ttrain_set's rmse: 24.6845\tvalid_set's rmse: 56.01\n",
      "[10000]\ttrain_set's rmse: 23.5475\tvalid_set's rmse: 55.945\n"
     ]
    },
    {
     "name": "stderr",
     "output_type": "stream",
     "text": [
      "/usr/local/lib/python3.7/site-packages/lightgbm/engine.py:239: UserWarning: 'verbose_eval' argument is deprecated and will be removed in a future release of LightGBM. Pass 'log_evaluation()' callback via 'callbacks' argument instead.\n",
      "  _log_warning(\"'verbose_eval' argument is deprecated and will be removed in a future release of LightGBM. \"\n"
     ]
    },
    {
     "name": "stdout",
     "output_type": "stream",
     "text": [
      "[1000]\ttrain_set's rmse: 49.4523\tvalid_set's rmse: 59.7637\n",
      "[2000]\ttrain_set's rmse: 41.9033\tvalid_set's rmse: 55.5804\n",
      "[3000]\ttrain_set's rmse: 37.4716\tvalid_set's rmse: 53.8728\n",
      "[4000]\ttrain_set's rmse: 34.2018\tvalid_set's rmse: 52.8468\n",
      "[5000]\ttrain_set's rmse: 31.656\tvalid_set's rmse: 52.2064\n",
      "[6000]\ttrain_set's rmse: 29.5762\tvalid_set's rmse: 51.8682\n",
      "[7000]\ttrain_set's rmse: 27.8415\tvalid_set's rmse: 51.626\n",
      "[8000]\ttrain_set's rmse: 26.2925\tvalid_set's rmse: 51.4244\n",
      "[9000]\ttrain_set's rmse: 24.9907\tvalid_set's rmse: 51.2622\n",
      "[10000]\ttrain_set's rmse: 23.8126\tvalid_set's rmse: 51.1971\n"
     ]
    },
    {
     "name": "stderr",
     "output_type": "stream",
     "text": [
      "/usr/local/lib/python3.7/site-packages/lightgbm/engine.py:239: UserWarning: 'verbose_eval' argument is deprecated and will be removed in a future release of LightGBM. Pass 'log_evaluation()' callback via 'callbacks' argument instead.\n",
      "  _log_warning(\"'verbose_eval' argument is deprecated and will be removed in a future release of LightGBM. \"\n"
     ]
    },
    {
     "name": "stdout",
     "output_type": "stream",
     "text": [
      "[1000]\ttrain_set's rmse: 49.3178\tvalid_set's rmse: 61.8269\n",
      "[2000]\ttrain_set's rmse: 41.6386\tvalid_set's rmse: 58.4412\n",
      "[3000]\ttrain_set's rmse: 37.2481\tvalid_set's rmse: 56.9088\n",
      "[4000]\ttrain_set's rmse: 34.0489\tvalid_set's rmse: 55.9831\n",
      "[5000]\ttrain_set's rmse: 31.5287\tvalid_set's rmse: 55.2498\n",
      "[6000]\ttrain_set's rmse: 29.471\tvalid_set's rmse: 54.5829\n",
      "[7000]\ttrain_set's rmse: 27.7202\tvalid_set's rmse: 54.2989\n",
      "[8000]\ttrain_set's rmse: 26.2293\tvalid_set's rmse: 53.9764\n",
      "[9000]\ttrain_set's rmse: 24.9505\tvalid_set's rmse: 53.712\n",
      "[10000]\ttrain_set's rmse: 23.8083\tvalid_set's rmse: 53.4973\n"
     ]
    },
    {
     "name": "stderr",
     "output_type": "stream",
     "text": [
      "/usr/local/lib/python3.7/site-packages/lightgbm/engine.py:239: UserWarning: 'verbose_eval' argument is deprecated and will be removed in a future release of LightGBM. Pass 'log_evaluation()' callback via 'callbacks' argument instead.\n",
      "  _log_warning(\"'verbose_eval' argument is deprecated and will be removed in a future release of LightGBM. \"\n"
     ]
    },
    {
     "name": "stdout",
     "output_type": "stream",
     "text": [
      "[1000]\ttrain_set's rmse: 48.8209\tvalid_set's rmse: 59.6892\n",
      "[2000]\ttrain_set's rmse: 41.1381\tvalid_set's rmse: 57.1399\n",
      "[3000]\ttrain_set's rmse: 36.7199\tvalid_set's rmse: 55.8847\n",
      "[4000]\ttrain_set's rmse: 33.5767\tvalid_set's rmse: 55.1717\n",
      "[5000]\ttrain_set's rmse: 31.1023\tvalid_set's rmse: 54.6279\n",
      "[6000]\ttrain_set's rmse: 29.1048\tvalid_set's rmse: 54.1752\n",
      "[7000]\ttrain_set's rmse: 27.4092\tvalid_set's rmse: 53.9394\n",
      "[8000]\ttrain_set's rmse: 25.978\tvalid_set's rmse: 53.7219\n",
      "[9000]\ttrain_set's rmse: 24.6942\tvalid_set's rmse: 53.528\n",
      "[10000]\ttrain_set's rmse: 23.5357\tvalid_set's rmse: 53.4824\n"
     ]
    },
    {
     "name": "stderr",
     "output_type": "stream",
     "text": [
      "/usr/local/lib/python3.7/site-packages/lightgbm/engine.py:239: UserWarning: 'verbose_eval' argument is deprecated and will be removed in a future release of LightGBM. Pass 'log_evaluation()' callback via 'callbacks' argument instead.\n",
      "  _log_warning(\"'verbose_eval' argument is deprecated and will be removed in a future release of LightGBM. \"\n"
     ]
    },
    {
     "name": "stdout",
     "output_type": "stream",
     "text": [
      "[1000]\ttrain_set's rmse: 49.9083\tvalid_set's rmse: 56.2102\n",
      "[2000]\ttrain_set's rmse: 42.101\tvalid_set's rmse: 53.324\n",
      "[3000]\ttrain_set's rmse: 37.6069\tvalid_set's rmse: 51.772\n",
      "[4000]\ttrain_set's rmse: 34.4141\tvalid_set's rmse: 50.7136\n",
      "[5000]\ttrain_set's rmse: 31.9408\tvalid_set's rmse: 50.1177\n",
      "[6000]\ttrain_set's rmse: 29.868\tvalid_set's rmse: 49.6156\n",
      "[7000]\ttrain_set's rmse: 28.1437\tvalid_set's rmse: 49.2995\n",
      "[8000]\ttrain_set's rmse: 26.6001\tvalid_set's rmse: 49.0901\n",
      "[9000]\ttrain_set's rmse: 25.3058\tvalid_set's rmse: 48.9468\n",
      "[10000]\ttrain_set's rmse: 24.1666\tvalid_set's rmse: 48.8306\n"
     ]
    },
    {
     "name": "stderr",
     "output_type": "stream",
     "text": [
      "\t-52.9602\t = Validation score   (root_mean_squared_error)\n",
      "\t132.6s\t = Training   runtime\n",
      "\t9.13s\t = Validation runtime\n",
      "Fitting model: LightGBM_BAG_L1/T0 ... Training model for up to 191.72s of the 391.77s of remaining time.\n",
      "/usr/local/lib/python3.7/site-packages/lightgbm/engine.py:239: UserWarning: 'verbose_eval' argument is deprecated and will be removed in a future release of LightGBM. Pass 'log_evaluation()' callback via 'callbacks' argument instead.\n",
      "  _log_warning(\"'verbose_eval' argument is deprecated and will be removed in a future release of LightGBM. \"\n"
     ]
    },
    {
     "name": "stdout",
     "output_type": "stream",
     "text": [
      "[1000]\ttrain_set's rmse: 33.0751\tvalid_set's rmse: 54.5715\n",
      "[2000]\ttrain_set's rmse: 23.9171\tvalid_set's rmse: 52.2193\n",
      "[3000]\ttrain_set's rmse: 18.9315\tvalid_set's rmse: 51.3141\n",
      "[4000]\ttrain_set's rmse: 15.467\tvalid_set's rmse: 50.8911\n",
      "[5000]\ttrain_set's rmse: 12.7863\tvalid_set's rmse: 50.818\n",
      "[6000]\ttrain_set's rmse: 10.8191\tvalid_set's rmse: 50.8082\n"
     ]
    },
    {
     "name": "stderr",
     "output_type": "stream",
     "text": [
      "/usr/local/lib/python3.7/site-packages/lightgbm/engine.py:239: UserWarning: 'verbose_eval' argument is deprecated and will be removed in a future release of LightGBM. Pass 'log_evaluation()' callback via 'callbacks' argument instead.\n",
      "  _log_warning(\"'verbose_eval' argument is deprecated and will be removed in a future release of LightGBM. \"\n"
     ]
    },
    {
     "name": "stdout",
     "output_type": "stream",
     "text": [
      "[1000]\ttrain_set's rmse: 33.3105\tvalid_set's rmse: 53.1549\n",
      "[2000]\ttrain_set's rmse: 24.2697\tvalid_set's rmse: 51.2275\n",
      "[3000]\ttrain_set's rmse: 19.401\tvalid_set's rmse: 50.4764\n",
      "[4000]\ttrain_set's rmse: 15.7236\tvalid_set's rmse: 50.3236\n",
      "[5000]\ttrain_set's rmse: 12.8988\tvalid_set's rmse: 50.3997\n"
     ]
    },
    {
     "name": "stderr",
     "output_type": "stream",
     "text": [
      "/usr/local/lib/python3.7/site-packages/lightgbm/engine.py:239: UserWarning: 'verbose_eval' argument is deprecated and will be removed in a future release of LightGBM. Pass 'log_evaluation()' callback via 'callbacks' argument instead.\n",
      "  _log_warning(\"'verbose_eval' argument is deprecated and will be removed in a future release of LightGBM. \"\n"
     ]
    },
    {
     "name": "stdout",
     "output_type": "stream",
     "text": [
      "[1000]\ttrain_set's rmse: 32.5463\tvalid_set's rmse: 60.1829\n",
      "[2000]\ttrain_set's rmse: 23.4948\tvalid_set's rmse: 57.9184\n",
      "[3000]\ttrain_set's rmse: 18.2966\tvalid_set's rmse: 57.4338\n",
      "[4000]\ttrain_set's rmse: 14.9832\tvalid_set's rmse: 56.9543\n",
      "[5000]\ttrain_set's rmse: 12.5574\tvalid_set's rmse: 56.8715\n",
      "[6000]\ttrain_set's rmse: 10.6433\tvalid_set's rmse: 56.7687\n",
      "[7000]\ttrain_set's rmse: 9.22102\tvalid_set's rmse: 56.6909\n",
      "[8000]\ttrain_set's rmse: 7.96365\tvalid_set's rmse: 56.6698\n",
      "[9000]\ttrain_set's rmse: 6.94366\tvalid_set's rmse: 56.7068\n"
     ]
    },
    {
     "name": "stderr",
     "output_type": "stream",
     "text": [
      "/usr/local/lib/python3.7/site-packages/lightgbm/engine.py:239: UserWarning: 'verbose_eval' argument is deprecated and will be removed in a future release of LightGBM. Pass 'log_evaluation()' callback via 'callbacks' argument instead.\n",
      "  _log_warning(\"'verbose_eval' argument is deprecated and will be removed in a future release of LightGBM. \"\n"
     ]
    },
    {
     "name": "stdout",
     "output_type": "stream",
     "text": [
      "[1000]\ttrain_set's rmse: 33.4723\tvalid_set's rmse: 53.5351\n",
      "[2000]\ttrain_set's rmse: 24.2422\tvalid_set's rmse: 51.9254\n",
      "[3000]\ttrain_set's rmse: 19.1923\tvalid_set's rmse: 51.4401\n",
      "[4000]\ttrain_set's rmse: 15.6558\tvalid_set's rmse: 51.1402\n",
      "[5000]\ttrain_set's rmse: 13.0853\tvalid_set's rmse: 50.9956\n",
      "[6000]\ttrain_set's rmse: 11.1529\tvalid_set's rmse: 51.017\n"
     ]
    },
    {
     "name": "stderr",
     "output_type": "stream",
     "text": [
      "/usr/local/lib/python3.7/site-packages/lightgbm/engine.py:239: UserWarning: 'verbose_eval' argument is deprecated and will be removed in a future release of LightGBM. Pass 'log_evaluation()' callback via 'callbacks' argument instead.\n",
      "  _log_warning(\"'verbose_eval' argument is deprecated and will be removed in a future release of LightGBM. \"\n"
     ]
    },
    {
     "name": "stdout",
     "output_type": "stream",
     "text": [
      "[1000]\ttrain_set's rmse: 33.0582\tvalid_set's rmse: 59.0037\n",
      "[2000]\ttrain_set's rmse: 23.9462\tvalid_set's rmse: 57.1527\n",
      "[3000]\ttrain_set's rmse: 18.8212\tvalid_set's rmse: 56.5909\n",
      "[4000]\ttrain_set's rmse: 15.3654\tvalid_set's rmse: 56.1695\n"
     ]
    },
    {
     "name": "stderr",
     "output_type": "stream",
     "text": [
      "/usr/local/lib/python3.7/site-packages/lightgbm/engine.py:239: UserWarning: 'verbose_eval' argument is deprecated and will be removed in a future release of LightGBM. Pass 'log_evaluation()' callback via 'callbacks' argument instead.\n",
      "  _log_warning(\"'verbose_eval' argument is deprecated and will be removed in a future release of LightGBM. \"\n"
     ]
    },
    {
     "name": "stdout",
     "output_type": "stream",
     "text": [
      "[1000]\ttrain_set's rmse: 33.1019\tvalid_set's rmse: 56.3277\n",
      "[2000]\ttrain_set's rmse: 23.8424\tvalid_set's rmse: 54.9066\n",
      "[3000]\ttrain_set's rmse: 18.9649\tvalid_set's rmse: 54.7537\n",
      "[4000]\ttrain_set's rmse: 15.2679\tvalid_set's rmse: 54.8261\n"
     ]
    },
    {
     "name": "stderr",
     "output_type": "stream",
     "text": [
      "/usr/local/lib/python3.7/site-packages/lightgbm/engine.py:239: UserWarning: 'verbose_eval' argument is deprecated and will be removed in a future release of LightGBM. Pass 'log_evaluation()' callback via 'callbacks' argument instead.\n",
      "  _log_warning(\"'verbose_eval' argument is deprecated and will be removed in a future release of LightGBM. \"\n"
     ]
    },
    {
     "name": "stdout",
     "output_type": "stream",
     "text": [
      "[1000]\ttrain_set's rmse: 32.796\tvalid_set's rmse: 54.666\n",
      "[2000]\ttrain_set's rmse: 24.2556\tvalid_set's rmse: 52.5589\n",
      "[3000]\ttrain_set's rmse: 18.9353\tvalid_set's rmse: 51.6378\n",
      "[4000]\ttrain_set's rmse: 15.4278\tvalid_set's rmse: 51.3155\n",
      "[5000]\ttrain_set's rmse: 12.848\tvalid_set's rmse: 51.1867\n",
      "[6000]\ttrain_set's rmse: 10.8293\tvalid_set's rmse: 50.9674\n",
      "[7000]\ttrain_set's rmse: 9.3828\tvalid_set's rmse: 50.8947\n",
      "[8000]\ttrain_set's rmse: 8.20521\tvalid_set's rmse: 50.8313\n",
      "[9000]\ttrain_set's rmse: 7.13663\tvalid_set's rmse: 50.8066\n",
      "[10000]\ttrain_set's rmse: 6.31845\tvalid_set's rmse: 50.854\n"
     ]
    },
    {
     "name": "stderr",
     "output_type": "stream",
     "text": [
      "/usr/local/lib/python3.7/site-packages/lightgbm/engine.py:239: UserWarning: 'verbose_eval' argument is deprecated and will be removed in a future release of LightGBM. Pass 'log_evaluation()' callback via 'callbacks' argument instead.\n",
      "  _log_warning(\"'verbose_eval' argument is deprecated and will be removed in a future release of LightGBM. \"\n"
     ]
    },
    {
     "name": "stdout",
     "output_type": "stream",
     "text": [
      "[1000]\ttrain_set's rmse: 32.9084\tvalid_set's rmse: 56.8177\n",
      "[2000]\ttrain_set's rmse: 24.0182\tvalid_set's rmse: 54.7819\n",
      "[3000]\ttrain_set's rmse: 18.7338\tvalid_set's rmse: 54.2045\n",
      "[4000]\ttrain_set's rmse: 15.1193\tvalid_set's rmse: 54.0339\n"
     ]
    },
    {
     "name": "stderr",
     "output_type": "stream",
     "text": [
      "/usr/local/lib/python3.7/site-packages/lightgbm/engine.py:239: UserWarning: 'verbose_eval' argument is deprecated and will be removed in a future release of LightGBM. Pass 'log_evaluation()' callback via 'callbacks' argument instead.\n",
      "  _log_warning(\"'verbose_eval' argument is deprecated and will be removed in a future release of LightGBM. \"\n"
     ]
    },
    {
     "name": "stdout",
     "output_type": "stream",
     "text": [
      "[1000]\ttrain_set's rmse: 33.094\tvalid_set's rmse: 51.5457\n",
      "[2000]\ttrain_set's rmse: 24.2495\tvalid_set's rmse: 49.9594\n",
      "[3000]\ttrain_set's rmse: 19.1972\tvalid_set's rmse: 49.5207\n"
     ]
    },
    {
     "name": "stderr",
     "output_type": "stream",
     "text": [
      "\t-52.5193\t = Validation score   (root_mean_squared_error)\n",
      "\t74.87s\t = Training   runtime\n",
      "\t3.24s\t = Validation runtime\n",
      "Fitting model: RandomForestMSE_BAG_L1/T0 ... Training model for up to 107.97s of the 308.01s of remaining time.\n",
      "\t-64.1606\t = Validation score   (root_mean_squared_error)\n",
      "\t7.74s\t = Training   runtime\n",
      "\t0.43s\t = Validation runtime\n",
      "Fitting model: CatBoost_BAG_L1/T0 ... Training model for up to 107.89s of the 307.93s of remaining time.\n",
      "\tTime limit exceeded... Skipping CatBoost_BAG_L1/T0.\n",
      "Fitting model: ExtraTreesMSE_BAG_L1/T0 ... Training model for up to 92.52s of the 292.57s of remaining time.\n",
      "\t-64.0834\t = Validation score   (root_mean_squared_error)\n",
      "\t3.64s\t = Training   runtime\n",
      "\t0.45s\t = Validation runtime\n",
      "Fitting model: NeuralNetFastAI_BAG_L1/T0 ... Training model for up to 92.45s of the 292.49s of remaining time.\n",
      "\tRan out of time, stopping training early. (Stopping on epoch 17)\n",
      "\tRan out of time, stopping training early. (Stopping on epoch 18)\n",
      "\tRan out of time, stopping training early. (Stopping on epoch 18)\n",
      "\tRan out of time, stopping training early. (Stopping on epoch 19)\n",
      "\tRan out of time, stopping training early. (Stopping on epoch 20)\n",
      "\tRan out of time, stopping training early. (Stopping on epoch 20)\n",
      "\tRan out of time, stopping training early. (Stopping on epoch 22)\n",
      "\tRan out of time, stopping training early. (Stopping on epoch 25)\n",
      "\t-77.043\t = Validation score   (root_mean_squared_error)\n",
      "\t89.11s\t = Training   runtime\n",
      "\t0.36s\t = Validation runtime\n",
      "Fitting model: XGBoost_BAG_L1/T0 ... Training model for up to 4.59s of the 204.63s of remaining time.\n",
      "\tTime limit exceeded... Skipping XGBoost_BAG_L1/T0.\n",
      "Fitting model: LightGBMLarge_BAG_L1 ... Training model for up to 3.94s of the 203.98s of remaining time.\n",
      "/usr/local/lib/python3.7/site-packages/lightgbm/engine.py:239: UserWarning: 'verbose_eval' argument is deprecated and will be removed in a future release of LightGBM. Pass 'log_evaluation()' callback via 'callbacks' argument instead.\n",
      "  _log_warning(\"'verbose_eval' argument is deprecated and will be removed in a future release of LightGBM. \"\n",
      "\tRan out of time, early stopping on iteration 1. Best iteration is:\n",
      "\t[1]\ttrain_set's rmse: 175.643\tvalid_set's rmse: 185.356\n",
      "\tTime limit exceeded... Skipping LightGBMLarge_BAG_L1.\n",
      "Completed 1/20 k-fold bagging repeats ...\n",
      "Fitting model: WeightedEnsemble_L2 ... Training model for up to 360.0s of the 203.12s of remaining time.\n",
      "\t-51.2558\t = Validation score   (root_mean_squared_error)\n",
      "\t0.36s\t = Training   runtime\n",
      "\t0.0s\t = Validation runtime\n",
      "Fitting 9 L2 models ...\n",
      "Hyperparameter tuning model: LightGBMXT_BAG_L2 ...\n",
      "/usr/local/lib/python3.7/site-packages/lightgbm/engine.py:239: UserWarning: 'verbose_eval' argument is deprecated and will be removed in a future release of LightGBM. Pass 'log_evaluation()' callback via 'callbacks' argument instead.\n",
      "  _log_warning(\"'verbose_eval' argument is deprecated and will be removed in a future release of LightGBM. \"\n",
      "\tRan out of time, early stopping on iteration 508. Best iteration is:\n",
      "\t[459]\ttrain_set's rmse: 42.4922\tvalid_set's rmse: 51.8279\n",
      "\tTime limit exceeded\n",
      "Fitted model: LightGBMXT_BAG_L2/T0 ...\n",
      "\t-51.8279\t = Validation score   (root_mean_squared_error)\n",
      "\t1.59s\t = Training   runtime\n",
      "\t0.03s\t = Validation runtime\n",
      "Hyperparameter tuning model: LightGBM_BAG_L2 ...\n",
      "/usr/local/lib/python3.7/site-packages/lightgbm/engine.py:239: UserWarning: 'verbose_eval' argument is deprecated and will be removed in a future release of LightGBM. Pass 'log_evaluation()' callback via 'callbacks' argument instead.\n",
      "  _log_warning(\"'verbose_eval' argument is deprecated and will be removed in a future release of LightGBM. \"\n",
      "\tTime limit exceeded\n",
      "Fitted model: LightGBM_BAG_L2/T0 ...\n",
      "\t-50.0703\t = Validation score   (root_mean_squared_error)\n",
      "\t1.11s\t = Training   runtime\n",
      "\t0.01s\t = Validation runtime\n",
      "Hyperparameter tuning model: RandomForestMSE_BAG_L2 ...\n",
      "Fitted model: RandomForestMSE_BAG_L2/T0 ...\n",
      "\t-50.248\t = Validation score   (root_mean_squared_error)\n",
      "\t21.87s\t = Training   runtime\n",
      "\t0.47s\t = Validation runtime\n",
      "Hyperparameter tuning model: CatBoost_BAG_L2 ...\n",
      "\tTime limit exceeded\n",
      "Fitted model: CatBoost_BAG_L2/T0 ...\n",
      "\t-51.2931\t = Validation score   (root_mean_squared_error)\n",
      "\t2.05s\t = Training   runtime\n",
      "\t0.01s\t = Validation runtime\n",
      "Hyperparameter tuning model: ExtraTreesMSE_BAG_L2 ...\n",
      "Fitted model: ExtraTreesMSE_BAG_L2/T0 ...\n",
      "\t-50.2667\t = Validation score   (root_mean_squared_error)\n",
      "\t5.94s\t = Training   runtime\n",
      "\t0.46s\t = Validation runtime\n",
      "Hyperparameter tuning model: NeuralNetFastAI_BAG_L2 ...\n",
      "\tRan out of time, stopping training early. (Stopping on epoch 2)\n",
      "Fitted model: NeuralNetFastAI_BAG_L2/T0 ...\n",
      "\t-54.8123\t = Validation score   (root_mean_squared_error)\n",
      "\t1.44s\t = Training   runtime\n",
      "\t0.04s\t = Validation runtime\n",
      "Hyperparameter tuning model: XGBoost_BAG_L2 ...\n",
      "\tTime limit exceeded\n",
      "Fitted model: XGBoost_BAG_L2/T0 ...\n",
      "\t-50.7325\t = Validation score   (root_mean_squared_error)\n",
      "\t1.01s\t = Training   runtime\n",
      "\t0.01s\t = Validation runtime\n",
      "Hyperparameter tuning model: NeuralNetMXNet_BAG_L2 ...\n",
      "\tTime limit exceeded\n",
      "Fitting model: LightGBMLarge_BAG_L2 ... Training model for up to 2.03s of the 147.96s of remaining time.\n",
      "/usr/local/lib/python3.7/site-packages/lightgbm/engine.py:239: UserWarning: 'verbose_eval' argument is deprecated and will be removed in a future release of LightGBM. Pass 'log_evaluation()' callback via 'callbacks' argument instead.\n",
      "  _log_warning(\"'verbose_eval' argument is deprecated and will be removed in a future release of LightGBM. \"\n",
      "\tRan out of time, early stopping on iteration 181. Best iteration is:\n",
      "\t[110]\ttrain_set's rmse: 32.2361\tvalid_set's rmse: 51.5427\n",
      "\t-51.5427\t = Validation score   (root_mean_squared_error)\n",
      "\t1.7s\t = Training   runtime\n",
      "\t0.01s\t = Validation runtime\n",
      "Fitting model: LightGBMXT_BAG_L2/T0 ... Training model for up to 146.06s of the 146.03s of remaining time.\n",
      "/usr/local/lib/python3.7/site-packages/lightgbm/engine.py:239: UserWarning: 'verbose_eval' argument is deprecated and will be removed in a future release of LightGBM. Pass 'log_evaluation()' callback via 'callbacks' argument instead.\n",
      "  _log_warning(\"'verbose_eval' argument is deprecated and will be removed in a future release of LightGBM. \"\n",
      "/usr/local/lib/python3.7/site-packages/lightgbm/engine.py:239: UserWarning: 'verbose_eval' argument is deprecated and will be removed in a future release of LightGBM. Pass 'log_evaluation()' callback via 'callbacks' argument instead.\n",
      "  _log_warning(\"'verbose_eval' argument is deprecated and will be removed in a future release of LightGBM. \"\n",
      "/usr/local/lib/python3.7/site-packages/lightgbm/engine.py:239: UserWarning: 'verbose_eval' argument is deprecated and will be removed in a future release of LightGBM. Pass 'log_evaluation()' callback via 'callbacks' argument instead.\n",
      "  _log_warning(\"'verbose_eval' argument is deprecated and will be removed in a future release of LightGBM. \"\n",
      "/usr/local/lib/python3.7/site-packages/lightgbm/engine.py:239: UserWarning: 'verbose_eval' argument is deprecated and will be removed in a future release of LightGBM. Pass 'log_evaluation()' callback via 'callbacks' argument instead.\n",
      "  _log_warning(\"'verbose_eval' argument is deprecated and will be removed in a future release of LightGBM. \"\n",
      "/usr/local/lib/python3.7/site-packages/lightgbm/engine.py:239: UserWarning: 'verbose_eval' argument is deprecated and will be removed in a future release of LightGBM. Pass 'log_evaluation()' callback via 'callbacks' argument instead.\n",
      "  _log_warning(\"'verbose_eval' argument is deprecated and will be removed in a future release of LightGBM. \"\n",
      "/usr/local/lib/python3.7/site-packages/lightgbm/engine.py:239: UserWarning: 'verbose_eval' argument is deprecated and will be removed in a future release of LightGBM. Pass 'log_evaluation()' callback via 'callbacks' argument instead.\n",
      "  _log_warning(\"'verbose_eval' argument is deprecated and will be removed in a future release of LightGBM. \"\n",
      "/usr/local/lib/python3.7/site-packages/lightgbm/engine.py:239: UserWarning: 'verbose_eval' argument is deprecated and will be removed in a future release of LightGBM. Pass 'log_evaluation()' callback via 'callbacks' argument instead.\n",
      "  _log_warning(\"'verbose_eval' argument is deprecated and will be removed in a future release of LightGBM. \"\n",
      "/usr/local/lib/python3.7/site-packages/lightgbm/engine.py:239: UserWarning: 'verbose_eval' argument is deprecated and will be removed in a future release of LightGBM. Pass 'log_evaluation()' callback via 'callbacks' argument instead.\n",
      "  _log_warning(\"'verbose_eval' argument is deprecated and will be removed in a future release of LightGBM. \"\n",
      "/usr/local/lib/python3.7/site-packages/lightgbm/engine.py:239: UserWarning: 'verbose_eval' argument is deprecated and will be removed in a future release of LightGBM. Pass 'log_evaluation()' callback via 'callbacks' argument instead.\n",
      "  _log_warning(\"'verbose_eval' argument is deprecated and will be removed in a future release of LightGBM. \"\n",
      "\t-51.9062\t = Validation score   (root_mean_squared_error)\n",
      "\t16.7s\t = Training   runtime\n",
      "\t0.27s\t = Validation runtime\n",
      "Fitting model: LightGBM_BAG_L2/T0 ... Training model for up to 129.66s of the 129.64s of remaining time.\n",
      "/usr/local/lib/python3.7/site-packages/lightgbm/engine.py:239: UserWarning: 'verbose_eval' argument is deprecated and will be removed in a future release of LightGBM. Pass 'log_evaluation()' callback via 'callbacks' argument instead.\n",
      "  _log_warning(\"'verbose_eval' argument is deprecated and will be removed in a future release of LightGBM. \"\n",
      "/usr/local/lib/python3.7/site-packages/lightgbm/engine.py:239: UserWarning: 'verbose_eval' argument is deprecated and will be removed in a future release of LightGBM. Pass 'log_evaluation()' callback via 'callbacks' argument instead.\n",
      "  _log_warning(\"'verbose_eval' argument is deprecated and will be removed in a future release of LightGBM. \"\n",
      "/usr/local/lib/python3.7/site-packages/lightgbm/engine.py:239: UserWarning: 'verbose_eval' argument is deprecated and will be removed in a future release of LightGBM. Pass 'log_evaluation()' callback via 'callbacks' argument instead.\n",
      "  _log_warning(\"'verbose_eval' argument is deprecated and will be removed in a future release of LightGBM. \"\n",
      "/usr/local/lib/python3.7/site-packages/lightgbm/engine.py:239: UserWarning: 'verbose_eval' argument is deprecated and will be removed in a future release of LightGBM. Pass 'log_evaluation()' callback via 'callbacks' argument instead.\n",
      "  _log_warning(\"'verbose_eval' argument is deprecated and will be removed in a future release of LightGBM. \"\n",
      "/usr/local/lib/python3.7/site-packages/lightgbm/engine.py:239: UserWarning: 'verbose_eval' argument is deprecated and will be removed in a future release of LightGBM. Pass 'log_evaluation()' callback via 'callbacks' argument instead.\n",
      "  _log_warning(\"'verbose_eval' argument is deprecated and will be removed in a future release of LightGBM. \"\n",
      "/usr/local/lib/python3.7/site-packages/lightgbm/engine.py:239: UserWarning: 'verbose_eval' argument is deprecated and will be removed in a future release of LightGBM. Pass 'log_evaluation()' callback via 'callbacks' argument instead.\n",
      "  _log_warning(\"'verbose_eval' argument is deprecated and will be removed in a future release of LightGBM. \"\n",
      "/usr/local/lib/python3.7/site-packages/lightgbm/engine.py:239: UserWarning: 'verbose_eval' argument is deprecated and will be removed in a future release of LightGBM. Pass 'log_evaluation()' callback via 'callbacks' argument instead.\n",
      "  _log_warning(\"'verbose_eval' argument is deprecated and will be removed in a future release of LightGBM. \"\n",
      "/usr/local/lib/python3.7/site-packages/lightgbm/engine.py:239: UserWarning: 'verbose_eval' argument is deprecated and will be removed in a future release of LightGBM. Pass 'log_evaluation()' callback via 'callbacks' argument instead.\n",
      "  _log_warning(\"'verbose_eval' argument is deprecated and will be removed in a future release of LightGBM. \"\n",
      "/usr/local/lib/python3.7/site-packages/lightgbm/engine.py:239: UserWarning: 'verbose_eval' argument is deprecated and will be removed in a future release of LightGBM. Pass 'log_evaluation()' callback via 'callbacks' argument instead.\n",
      "  _log_warning(\"'verbose_eval' argument is deprecated and will be removed in a future release of LightGBM. \"\n",
      "\t-50.592\t = Validation score   (root_mean_squared_error)\n",
      "\t11.93s\t = Training   runtime\n",
      "\t0.1s\t = Validation runtime\n",
      "Fitting model: RandomForestMSE_BAG_L2/T0 ... Training model for up to 118.24s of the 118.21s of remaining time.\n",
      "\t-50.248\t = Validation score   (root_mean_squared_error)\n",
      "\t21.87s\t = Training   runtime\n",
      "\t0.47s\t = Validation runtime\n",
      "Fitting model: CatBoost_BAG_L2/T0 ... Training model for up to 118.15s of the 118.13s of remaining time.\n",
      "\t-50.1684\t = Validation score   (root_mean_squared_error)\n",
      "\t42.2s\t = Training   runtime\n",
      "\t0.07s\t = Validation runtime\n",
      "Fitting model: ExtraTreesMSE_BAG_L2/T0 ... Training model for up to 77.45s of the 77.42s of remaining time.\n",
      "\t-50.2667\t = Validation score   (root_mean_squared_error)\n",
      "\t5.94s\t = Training   runtime\n",
      "\t0.46s\t = Validation runtime\n",
      "Fitting model: NeuralNetFastAI_BAG_L2/T0 ... Training model for up to 77.37s of the 77.34s of remaining time.\n",
      "\tRan out of time, stopping training early. (Stopping on epoch 14)\n",
      "\tRan out of time, stopping training early. (Stopping on epoch 14)\n",
      "\tRan out of time, stopping training early. (Stopping on epoch 14)\n",
      "\tRan out of time, stopping training early. (Stopping on epoch 16)\n",
      "\tRan out of time, stopping training early. (Stopping on epoch 16)\n",
      "\tRan out of time, stopping training early. (Stopping on epoch 17)\n",
      "\tRan out of time, stopping training early. (Stopping on epoch 18)\n",
      "\tRan out of time, stopping training early. (Stopping on epoch 21)\n",
      "\tRan out of time, stopping training early. (Stopping on epoch 25)\n",
      "\t-50.8977\t = Validation score   (root_mean_squared_error)\n",
      "\t74.79s\t = Training   runtime\n",
      "\t0.37s\t = Validation runtime\n",
      "Fitting model: XGBoost_BAG_L2/T0 ... Training model for up to 3.01s of the 2.99s of remaining time.\n",
      "\tTime limit exceeded... Skipping XGBoost_BAG_L2/T0.\n",
      "Fitting model: LightGBMLarge_BAG_L2 ... Training model for up to 2.62s of the 2.59s of remaining time.\n",
      "/usr/local/lib/python3.7/site-packages/lightgbm/engine.py:239: UserWarning: 'verbose_eval' argument is deprecated and will be removed in a future release of LightGBM. Pass 'log_evaluation()' callback via 'callbacks' argument instead.\n",
      "  _log_warning(\"'verbose_eval' argument is deprecated and will be removed in a future release of LightGBM. \"\n",
      "\tRan out of time, early stopping on iteration 1. Best iteration is:\n",
      "\t[1]\ttrain_set's rmse: 175.271\tvalid_set's rmse: 182.977\n",
      "\tTime limit exceeded... Skipping LightGBMLarge_BAG_L2.\n",
      "Completed 1/20 k-fold bagging repeats ...\n",
      "Fitting model: WeightedEnsemble_L3 ... Training model for up to 360.0s of the 1.71s of remaining time.\n",
      "\t-49.5679\t = Validation score   (root_mean_squared_error)\n",
      "\t0.33s\t = Training   runtime\n",
      "\t0.0s\t = Validation runtime\n",
      "AutoGluon training complete, total runtime = 598.88s ...\n",
      "TabularPredictor saved. To load, use: predictor = TabularPredictor.load(\"AutogluonModels/ag-20220112_083902/\")\n"
     ]
    }
   ],
   "source": [
    "predictor_new_hpo = TabularPredictor(label='count', eval_metric='root_mean_squared_error').fit(\n",
    "  train_data=train.loc[:, ~train.columns.isin(['casual', 'registered'])],\n",
    "    time_limit=600,\n",
    "    presets='best_quality',\n",
    "#     hyperparameters={},\n",
    "    hyperparameter_tune_kwargs='random'\n",
    ")"
   ]
  },
  {
   "cell_type": "code",
   "execution_count": 88,
   "metadata": {},
   "outputs": [
    {
     "name": "stdout",
     "output_type": "stream",
     "text": [
      "*** Summary of fit() ***\n",
      "Estimated performance of each model:\n",
      "                        model   score_val  pred_time_val    fit_time  pred_time_val_marginal  fit_time_marginal  stack_level  can_infer  fit_order\n",
      "0         WeightedEnsemble_L3  -49.567860      15.396603  453.147833                0.000789           0.328053            3       True         20\n",
      "1          CatBoost_BAG_L2/T0  -50.168368      14.094269  350.212256                0.066942          42.204177            2       True         15\n",
      "2   RandomForestMSE_BAG_L2/T0  -50.247969      14.492765  329.880038                0.465439          21.871958            2       True         14\n",
      "3     ExtraTreesMSE_BAG_L2/T0  -50.266710      14.489806  313.949584                0.462479           5.941505            2       True         16\n",
      "4          LightGBM_BAG_L2/T0  -50.591998      14.123194  319.935438                0.095868          11.927358            2       True         13\n",
      "5           XGBoost_BAG_L2/T0  -50.732498      14.037074  309.016821                0.009747           1.008742            2       True         18\n",
      "6   NeuralNetFastAI_BAG_L2/T0  -50.897699      14.400954  382.802140                0.373627          74.794061            2       True         17\n",
      "7         WeightedEnsemble_L2  -51.255762      12.376153  207.831480                0.000607           0.363394            2       True         11\n",
      "8        LightGBMLarge_BAG_L2  -51.542692      14.038464  309.710705                0.011138           1.702625            2       True         19\n",
      "9        LightGBMXT_BAG_L2/T0  -51.906188      14.293420  324.709965                0.266093          16.701886            2       True         12\n",
      "10         LightGBM_BAG_L1/T0  -52.519282       3.244093   74.867302                3.244093          74.867302            1       True          4\n",
      "11       LightGBMLarge_BAG_L1  -52.725791       0.059923    3.028738                0.059923           3.028738            1       True         10\n",
      "12       LightGBMXT_BAG_L1/T0  -52.960236       9.131453  132.600785                9.131453         132.600785            1       True          3\n",
      "13          XGBoost_BAG_L1/T0  -53.617243       0.091466    3.077461                0.091466           3.077461            1       True          9\n",
      "14         CatBoost_BAG_L1/T0  -63.304893       0.005435    3.760592                0.005435           3.760592            1       True          6\n",
      "15    ExtraTreesMSE_BAG_L1/T0  -64.083400       0.447456    3.637974                0.447456           3.637974            1       True          7\n",
      "16  RandomForestMSE_BAG_L1/T0  -64.160611       0.431695    7.742626                0.431695           7.742626            1       True          5\n",
      "17  NeuralNetFastAI_BAG_L1/T0  -77.043045       0.356977   89.111901                0.356977          89.111901            1       True          8\n",
      "18   KNeighborsDist_BAG_L1/T0 -119.373394       0.211786    0.020271                0.211786           0.020271            1       True          2\n",
      "19   KNeighborsUnif_BAG_L1/T0 -123.922640       0.203867    0.027222                0.203867           0.027222            1       True          1\n",
      "Number of models trained: 20\n",
      "Types of models trained:\n",
      "{'StackerEnsembleModel_XGBoost', 'StackerEnsembleModel_XT', 'StackerEnsembleModel_CatBoost', 'StackerEnsembleModel_NNFastAiTabular', 'StackerEnsembleModel_RF', 'WeightedEnsembleModel', 'StackerEnsembleModel_KNN', 'StackerEnsembleModel_LGB'}\n",
      "Bagging used: True  (with 10 folds)\n",
      "Multi-layer stack-ensembling used: True  (with 3 levels)\n",
      "Feature Metadata (Processed):\n",
      "(raw dtype, special dtypes):\n",
      "('category', [])  : 2 | ['season', 'weather']\n",
      "('float', [])     : 3 | ['temp', 'atemp', 'windspeed']\n",
      "('int', [])       : 4 | ['humidity', 'hour', 'day', 'month']\n",
      "('int', ['bool']) : 2 | ['holiday', 'workingday']\n",
      "Plot summary of models saved to file: AutogluonModels/ag-20220112_083902/SummaryOfModels.html\n",
      "*** End of fit() summary ***\n"
     ]
    },
    {
     "data": {
      "text/plain": [
       "{'model_types': {'KNeighborsUnif_BAG_L1/T0': 'StackerEnsembleModel_KNN',\n",
       "  'KNeighborsDist_BAG_L1/T0': 'StackerEnsembleModel_KNN',\n",
       "  'LightGBMXT_BAG_L1/T0': 'StackerEnsembleModel_LGB',\n",
       "  'LightGBM_BAG_L1/T0': 'StackerEnsembleModel_LGB',\n",
       "  'RandomForestMSE_BAG_L1/T0': 'StackerEnsembleModel_RF',\n",
       "  'CatBoost_BAG_L1/T0': 'StackerEnsembleModel_CatBoost',\n",
       "  'ExtraTreesMSE_BAG_L1/T0': 'StackerEnsembleModel_XT',\n",
       "  'NeuralNetFastAI_BAG_L1/T0': 'StackerEnsembleModel_NNFastAiTabular',\n",
       "  'XGBoost_BAG_L1/T0': 'StackerEnsembleModel_XGBoost',\n",
       "  'LightGBMLarge_BAG_L1': 'StackerEnsembleModel_LGB',\n",
       "  'WeightedEnsemble_L2': 'WeightedEnsembleModel',\n",
       "  'LightGBMXT_BAG_L2/T0': 'StackerEnsembleModel_LGB',\n",
       "  'LightGBM_BAG_L2/T0': 'StackerEnsembleModel_LGB',\n",
       "  'RandomForestMSE_BAG_L2/T0': 'StackerEnsembleModel_RF',\n",
       "  'CatBoost_BAG_L2/T0': 'StackerEnsembleModel_CatBoost',\n",
       "  'ExtraTreesMSE_BAG_L2/T0': 'StackerEnsembleModel_XT',\n",
       "  'NeuralNetFastAI_BAG_L2/T0': 'StackerEnsembleModel_NNFastAiTabular',\n",
       "  'XGBoost_BAG_L2/T0': 'StackerEnsembleModel_XGBoost',\n",
       "  'LightGBMLarge_BAG_L2': 'StackerEnsembleModel_LGB',\n",
       "  'WeightedEnsemble_L3': 'WeightedEnsembleModel'},\n",
       " 'model_performance': {'KNeighborsUnif_BAG_L1/T0': -123.92263994015985,\n",
       "  'KNeighborsDist_BAG_L1/T0': -119.37339448003198,\n",
       "  'LightGBMXT_BAG_L1/T0': -52.96023607240704,\n",
       "  'LightGBM_BAG_L1/T0': -52.519281679753334,\n",
       "  'RandomForestMSE_BAG_L1/T0': -64.16061146150749,\n",
       "  'CatBoost_BAG_L1/T0': -63.30489284486019,\n",
       "  'ExtraTreesMSE_BAG_L1/T0': -64.08339972790714,\n",
       "  'NeuralNetFastAI_BAG_L1/T0': -77.0430448926278,\n",
       "  'XGBoost_BAG_L1/T0': -53.61724329316063,\n",
       "  'LightGBMLarge_BAG_L1': -52.725790653751524,\n",
       "  'WeightedEnsemble_L2': -51.255762489007274,\n",
       "  'LightGBMXT_BAG_L2/T0': -51.906187585561526,\n",
       "  'LightGBM_BAG_L2/T0': -50.59199806074329,\n",
       "  'RandomForestMSE_BAG_L2/T0': -50.24796915170361,\n",
       "  'CatBoost_BAG_L2/T0': -50.168367778772655,\n",
       "  'ExtraTreesMSE_BAG_L2/T0': -50.26671001591214,\n",
       "  'NeuralNetFastAI_BAG_L2/T0': -50.89769932115349,\n",
       "  'XGBoost_BAG_L2/T0': -50.73249810356955,\n",
       "  'LightGBMLarge_BAG_L2': -51.54269235161557,\n",
       "  'WeightedEnsemble_L3': -49.56786008600958},\n",
       " 'model_best': 'WeightedEnsemble_L3',\n",
       " 'model_paths': {'KNeighborsUnif_BAG_L1/T0': 'AutogluonModels/ag-20220112_083902/models/KNeighborsUnif_BAG_L1/T0/',\n",
       "  'KNeighborsDist_BAG_L1/T0': 'AutogluonModels/ag-20220112_083902/models/KNeighborsDist_BAG_L1/T0/',\n",
       "  'LightGBMXT_BAG_L1/T0': 'AutogluonModels/ag-20220112_083902/models/LightGBMXT_BAG_L1/T0/',\n",
       "  'LightGBM_BAG_L1/T0': 'AutogluonModels/ag-20220112_083902/models/LightGBM_BAG_L1/T0/',\n",
       "  'RandomForestMSE_BAG_L1/T0': 'AutogluonModels/ag-20220112_083902/models/RandomForestMSE_BAG_L1/T0/',\n",
       "  'CatBoost_BAG_L1/T0': 'AutogluonModels/ag-20220112_083902/models/CatBoost_BAG_L1/T0/',\n",
       "  'ExtraTreesMSE_BAG_L1/T0': 'AutogluonModels/ag-20220112_083902/models/ExtraTreesMSE_BAG_L1/T0/',\n",
       "  'NeuralNetFastAI_BAG_L1/T0': 'AutogluonModels/ag-20220112_083902/models/NeuralNetFastAI_BAG_L1/T0/',\n",
       "  'XGBoost_BAG_L1/T0': 'AutogluonModels/ag-20220112_083902/models/XGBoost_BAG_L1/T0/',\n",
       "  'LightGBMLarge_BAG_L1': 'AutogluonModels/ag-20220112_083902/models/LightGBMLarge_BAG_L1/',\n",
       "  'WeightedEnsemble_L2': 'AutogluonModels/ag-20220112_083902/models/WeightedEnsemble_L2/',\n",
       "  'LightGBMXT_BAG_L2/T0': 'AutogluonModels/ag-20220112_083902/models/LightGBMXT_BAG_L2/T0/',\n",
       "  'LightGBM_BAG_L2/T0': 'AutogluonModels/ag-20220112_083902/models/LightGBM_BAG_L2/T0/',\n",
       "  'RandomForestMSE_BAG_L2/T0': 'AutogluonModels/ag-20220112_083902/models/RandomForestMSE_BAG_L2/T0/',\n",
       "  'CatBoost_BAG_L2/T0': 'AutogluonModels/ag-20220112_083902/models/CatBoost_BAG_L2/T0/',\n",
       "  'ExtraTreesMSE_BAG_L2/T0': 'AutogluonModels/ag-20220112_083902/models/ExtraTreesMSE_BAG_L2/T0/',\n",
       "  'NeuralNetFastAI_BAG_L2/T0': 'AutogluonModels/ag-20220112_083902/models/NeuralNetFastAI_BAG_L2/T0/',\n",
       "  'XGBoost_BAG_L2/T0': 'AutogluonModels/ag-20220112_083902/models/XGBoost_BAG_L2/T0/',\n",
       "  'LightGBMLarge_BAG_L2': 'AutogluonModels/ag-20220112_083902/models/LightGBMLarge_BAG_L2/',\n",
       "  'WeightedEnsemble_L3': 'AutogluonModels/ag-20220112_083902/models/WeightedEnsemble_L3/'},\n",
       " 'model_fit_times': {'KNeighborsUnif_BAG_L1/T0': 0.027222156524658203,\n",
       "  'KNeighborsDist_BAG_L1/T0': 0.020270586013793945,\n",
       "  'LightGBMXT_BAG_L1/T0': 132.6007845401764,\n",
       "  'LightGBM_BAG_L1/T0': 74.86730170249939,\n",
       "  'RandomForestMSE_BAG_L1/T0': 7.742625951766968,\n",
       "  'CatBoost_BAG_L1/T0': 3.760591983795166,\n",
       "  'ExtraTreesMSE_BAG_L1/T0': 3.6379735469818115,\n",
       "  'NeuralNetFastAI_BAG_L1/T0': 89.11190128326416,\n",
       "  'XGBoost_BAG_L1/T0': 3.077460527420044,\n",
       "  'LightGBMLarge_BAG_L1': 3.028738021850586,\n",
       "  'WeightedEnsemble_L2': 0.36339354515075684,\n",
       "  'LightGBMXT_BAG_L2/T0': 16.70188570022583,\n",
       "  'LightGBM_BAG_L2/T0': 11.927358150482178,\n",
       "  'RandomForestMSE_BAG_L2/T0': 21.871957778930664,\n",
       "  'CatBoost_BAG_L2/T0': 42.20417666435242,\n",
       "  'ExtraTreesMSE_BAG_L2/T0': 5.941504716873169,\n",
       "  'NeuralNetFastAI_BAG_L2/T0': 74.79406070709229,\n",
       "  'XGBoost_BAG_L2/T0': 1.0087416172027588,\n",
       "  'LightGBMLarge_BAG_L2': 1.702624797821045,\n",
       "  'WeightedEnsemble_L3': 0.32805323600769043},\n",
       " 'model_pred_times': {'KNeighborsUnif_BAG_L1/T0': 0.20386719703674316,\n",
       "  'KNeighborsDist_BAG_L1/T0': 0.21178579330444336,\n",
       "  'LightGBMXT_BAG_L1/T0': 9.131452798843384,\n",
       "  'LightGBM_BAG_L1/T0': 3.244093418121338,\n",
       "  'RandomForestMSE_BAG_L1/T0': 0.43169450759887695,\n",
       "  'CatBoost_BAG_L1/T0': 0.005434751510620117,\n",
       "  'ExtraTreesMSE_BAG_L1/T0': 0.44745588302612305,\n",
       "  'NeuralNetFastAI_BAG_L1/T0': 0.3569769859313965,\n",
       "  'XGBoost_BAG_L1/T0': 0.09146618843078613,\n",
       "  'LightGBMLarge_BAG_L1': 0.05992293357849121,\n",
       "  'WeightedEnsemble_L2': 0.000606536865234375,\n",
       "  'LightGBMXT_BAG_L2/T0': 0.26609349250793457,\n",
       "  'LightGBM_BAG_L2/T0': 0.09586787223815918,\n",
       "  'RandomForestMSE_BAG_L2/T0': 0.4654388427734375,\n",
       "  'CatBoost_BAG_L2/T0': 0.06694221496582031,\n",
       "  'ExtraTreesMSE_BAG_L2/T0': 0.4624793529510498,\n",
       "  'NeuralNetFastAI_BAG_L2/T0': 0.3736271858215332,\n",
       "  'XGBoost_BAG_L2/T0': 0.00974726676940918,\n",
       "  'LightGBMLarge_BAG_L2': 0.011137723922729492,\n",
       "  'WeightedEnsemble_L3': 0.0007891654968261719},\n",
       " 'num_bag_folds': 10,\n",
       " 'max_stack_level': 3,\n",
       " 'model_hyperparams': {'KNeighborsUnif_BAG_L1/T0': {'use_orig_features': True,\n",
       "   'max_base_models': 25,\n",
       "   'max_base_models_per_type': 5,\n",
       "   'save_bag_folds': True,\n",
       "   'use_child_oof': True},\n",
       "  'KNeighborsDist_BAG_L1/T0': {'use_orig_features': True,\n",
       "   'max_base_models': 25,\n",
       "   'max_base_models_per_type': 5,\n",
       "   'save_bag_folds': True,\n",
       "   'use_child_oof': True},\n",
       "  'LightGBMXT_BAG_L1/T0': {'use_orig_features': True,\n",
       "   'max_base_models': 25,\n",
       "   'max_base_models_per_type': 5,\n",
       "   'save_bag_folds': True},\n",
       "  'LightGBM_BAG_L1/T0': {'use_orig_features': True,\n",
       "   'max_base_models': 25,\n",
       "   'max_base_models_per_type': 5,\n",
       "   'save_bag_folds': True},\n",
       "  'RandomForestMSE_BAG_L1/T0': {'use_orig_features': True,\n",
       "   'max_base_models': 25,\n",
       "   'max_base_models_per_type': 5,\n",
       "   'save_bag_folds': True,\n",
       "   'use_child_oof': True},\n",
       "  'CatBoost_BAG_L1/T0': {'use_orig_features': True,\n",
       "   'max_base_models': 25,\n",
       "   'max_base_models_per_type': 5,\n",
       "   'save_bag_folds': True},\n",
       "  'ExtraTreesMSE_BAG_L1/T0': {'use_orig_features': True,\n",
       "   'max_base_models': 25,\n",
       "   'max_base_models_per_type': 5,\n",
       "   'save_bag_folds': True,\n",
       "   'use_child_oof': True},\n",
       "  'NeuralNetFastAI_BAG_L1/T0': {'use_orig_features': True,\n",
       "   'max_base_models': 25,\n",
       "   'max_base_models_per_type': 5,\n",
       "   'save_bag_folds': True},\n",
       "  'XGBoost_BAG_L1/T0': {'use_orig_features': True,\n",
       "   'max_base_models': 25,\n",
       "   'max_base_models_per_type': 5,\n",
       "   'save_bag_folds': True},\n",
       "  'LightGBMLarge_BAG_L1': {'use_orig_features': True,\n",
       "   'max_base_models': 25,\n",
       "   'max_base_models_per_type': 5,\n",
       "   'save_bag_folds': True},\n",
       "  'WeightedEnsemble_L2': {'use_orig_features': False,\n",
       "   'max_base_models': 25,\n",
       "   'max_base_models_per_type': 5,\n",
       "   'save_bag_folds': True},\n",
       "  'LightGBMXT_BAG_L2/T0': {'use_orig_features': True,\n",
       "   'max_base_models': 25,\n",
       "   'max_base_models_per_type': 5,\n",
       "   'save_bag_folds': True},\n",
       "  'LightGBM_BAG_L2/T0': {'use_orig_features': True,\n",
       "   'max_base_models': 25,\n",
       "   'max_base_models_per_type': 5,\n",
       "   'save_bag_folds': True},\n",
       "  'RandomForestMSE_BAG_L2/T0': {'use_orig_features': True,\n",
       "   'max_base_models': 25,\n",
       "   'max_base_models_per_type': 5,\n",
       "   'save_bag_folds': True,\n",
       "   'use_child_oof': True},\n",
       "  'CatBoost_BAG_L2/T0': {'use_orig_features': True,\n",
       "   'max_base_models': 25,\n",
       "   'max_base_models_per_type': 5,\n",
       "   'save_bag_folds': True},\n",
       "  'ExtraTreesMSE_BAG_L2/T0': {'use_orig_features': True,\n",
       "   'max_base_models': 25,\n",
       "   'max_base_models_per_type': 5,\n",
       "   'save_bag_folds': True,\n",
       "   'use_child_oof': True},\n",
       "  'NeuralNetFastAI_BAG_L2/T0': {'use_orig_features': True,\n",
       "   'max_base_models': 25,\n",
       "   'max_base_models_per_type': 5,\n",
       "   'save_bag_folds': True},\n",
       "  'XGBoost_BAG_L2/T0': {'use_orig_features': True,\n",
       "   'max_base_models': 25,\n",
       "   'max_base_models_per_type': 5,\n",
       "   'save_bag_folds': True},\n",
       "  'LightGBMLarge_BAG_L2': {'use_orig_features': True,\n",
       "   'max_base_models': 25,\n",
       "   'max_base_models_per_type': 5,\n",
       "   'save_bag_folds': True},\n",
       "  'WeightedEnsemble_L3': {'use_orig_features': False,\n",
       "   'max_base_models': 25,\n",
       "   'max_base_models_per_type': 5,\n",
       "   'save_bag_folds': True}},\n",
       " 'leaderboard':                         model   score_val  pred_time_val    fit_time  \\\n",
       " 0         WeightedEnsemble_L3  -49.567860      15.396603  453.147833   \n",
       " 1          CatBoost_BAG_L2/T0  -50.168368      14.094269  350.212256   \n",
       " 2   RandomForestMSE_BAG_L2/T0  -50.247969      14.492765  329.880038   \n",
       " 3     ExtraTreesMSE_BAG_L2/T0  -50.266710      14.489806  313.949584   \n",
       " 4          LightGBM_BAG_L2/T0  -50.591998      14.123194  319.935438   \n",
       " 5           XGBoost_BAG_L2/T0  -50.732498      14.037074  309.016821   \n",
       " 6   NeuralNetFastAI_BAG_L2/T0  -50.897699      14.400954  382.802140   \n",
       " 7         WeightedEnsemble_L2  -51.255762      12.376153  207.831480   \n",
       " 8        LightGBMLarge_BAG_L2  -51.542692      14.038464  309.710705   \n",
       " 9        LightGBMXT_BAG_L2/T0  -51.906188      14.293420  324.709965   \n",
       " 10         LightGBM_BAG_L1/T0  -52.519282       3.244093   74.867302   \n",
       " 11       LightGBMLarge_BAG_L1  -52.725791       0.059923    3.028738   \n",
       " 12       LightGBMXT_BAG_L1/T0  -52.960236       9.131453  132.600785   \n",
       " 13          XGBoost_BAG_L1/T0  -53.617243       0.091466    3.077461   \n",
       " 14         CatBoost_BAG_L1/T0  -63.304893       0.005435    3.760592   \n",
       " 15    ExtraTreesMSE_BAG_L1/T0  -64.083400       0.447456    3.637974   \n",
       " 16  RandomForestMSE_BAG_L1/T0  -64.160611       0.431695    7.742626   \n",
       " 17  NeuralNetFastAI_BAG_L1/T0  -77.043045       0.356977   89.111901   \n",
       " 18   KNeighborsDist_BAG_L1/T0 -119.373394       0.211786    0.020271   \n",
       " 19   KNeighborsUnif_BAG_L1/T0 -123.922640       0.203867    0.027222   \n",
       " \n",
       "     pred_time_val_marginal  fit_time_marginal  stack_level  can_infer  \\\n",
       " 0                 0.000789           0.328053            3       True   \n",
       " 1                 0.066942          42.204177            2       True   \n",
       " 2                 0.465439          21.871958            2       True   \n",
       " 3                 0.462479           5.941505            2       True   \n",
       " 4                 0.095868          11.927358            2       True   \n",
       " 5                 0.009747           1.008742            2       True   \n",
       " 6                 0.373627          74.794061            2       True   \n",
       " 7                 0.000607           0.363394            2       True   \n",
       " 8                 0.011138           1.702625            2       True   \n",
       " 9                 0.266093          16.701886            2       True   \n",
       " 10                3.244093          74.867302            1       True   \n",
       " 11                0.059923           3.028738            1       True   \n",
       " 12                9.131453         132.600785            1       True   \n",
       " 13                0.091466           3.077461            1       True   \n",
       " 14                0.005435           3.760592            1       True   \n",
       " 15                0.447456           3.637974            1       True   \n",
       " 16                0.431695           7.742626            1       True   \n",
       " 17                0.356977          89.111901            1       True   \n",
       " 18                0.211786           0.020271            1       True   \n",
       " 19                0.203867           0.027222            1       True   \n",
       " \n",
       "     fit_order  \n",
       " 0          20  \n",
       " 1          15  \n",
       " 2          14  \n",
       " 3          16  \n",
       " 4          13  \n",
       " 5          18  \n",
       " 6          17  \n",
       " 7          11  \n",
       " 8          19  \n",
       " 9          12  \n",
       " 10          4  \n",
       " 11         10  \n",
       " 12          3  \n",
       " 13          9  \n",
       " 14          6  \n",
       " 15          7  \n",
       " 16          5  \n",
       " 17          8  \n",
       " 18          2  \n",
       " 19          1  }"
      ]
     },
     "execution_count": 88,
     "metadata": {},
     "output_type": "execute_result"
    }
   ],
   "source": [
    "predictor_new_hpo.fit_summary()"
   ]
  },
  {
   "cell_type": "code",
   "execution_count": 89,
   "metadata": {},
   "outputs": [],
   "source": [
    "predictions_new_hpo = predictor_new_hpo.predict(test)\n",
    "# Remember to set all negative values to zero\n",
    "predictions_new_hpo[predictions_new_hpo < 0] = 0"
   ]
  },
  {
   "cell_type": "code",
   "execution_count": 90,
   "metadata": {},
   "outputs": [],
   "source": [
    "# Same submitting predictions\n",
    "submission[\"count\"] = predictions_new_hpo\n",
    "submission.to_csv(\"submission_new_hpo.csv\", index=False)"
   ]
  },
  {
   "cell_type": "code",
   "execution_count": 91,
   "metadata": {},
   "outputs": [
    {
     "name": "stdout",
     "output_type": "stream",
     "text": [
      "100%|█████████████████████████████████████████| 188k/188k [00:00<00:00, 476kB/s]\n",
      "Successfully submitted to Bike Sharing Demand"
     ]
    }
   ],
   "source": [
    "!kaggle competitions submit -c bike-sharing-demand -f submission_new_hpo.csv -m \"new features with hyperparameters\""
   ]
  },
  {
   "cell_type": "code",
   "execution_count": 92,
   "metadata": {},
   "outputs": [
    {
     "name": "stdout",
     "output_type": "stream",
     "text": [
      "fileName                     date                 description                        status    publicScore  privateScore  \n",
      "---------------------------  -------------------  ---------------------------------  --------  -----------  ------------  \n",
      "submission_new_hpo.csv       2022-01-12 08:51:51  new features with hyperparameters  complete  0.54368      0.54368       \n",
      "submission_new_features.csv  2022-01-12 06:15:47  new features                       complete  0.55592      0.55592       \n",
      "submission.csv               2022-01-12 05:27:43  first raw submission               complete  1.39403      1.39403       \n"
     ]
    }
   ],
   "source": [
    "!kaggle competitions submissions -c bike-sharing-demand | tail -n +1 | head -n 6"
   ]
  },
  {
   "cell_type": "markdown",
   "metadata": {},
   "source": [
    "#### New Score of `0.54368`"
   ]
  },
  {
   "cell_type": "markdown",
   "metadata": {},
   "source": [
    "## Step 7: Write a Report\n",
    "### Refer to the markdown file for the full report\n",
    "### Creating plots and table for report"
   ]
  },
  {
   "cell_type": "code",
   "execution_count": 95,
   "metadata": {},
   "outputs": [
    {
     "data": {
      "image/png": "[encoded data removed]",
      "text/plain": [
       "<Figure size 576x432 with 1 Axes>"
      ]
     },
     "metadata": {
      "needs_background": "light"
     },
     "output_type": "display_data"
    }
   ],
   "source": [
    "# Taking the top model score from each training run and creating a line plot to show improvement\n",
    "# You can create these in the notebook and save them to PNG or use some other tool (e.g. google sheets, excel)\n",
    "fig = pd.DataFrame(\n",
    "    {\n",
    "        \"model\": [\"initial\", \"add_features\", \"hpo\"],\n",
    "        \"score\": [-115.078180, -49.030758,-49.567860]\n",
    "    }\n",
    ").plot(x=\"model\", y=\"score\", figsize=(8, 6)).get_figure()\n",
    "fig.savefig('model_train_score.png')"
   ]
  },
  {
   "cell_type": "code",
   "execution_count": 94,
   "metadata": {},
   "outputs": [
    {
     "data": {
      "image/png": "[encoded data removed]",
      "text/plain": [
       "<Figure size 576x432 with 1 Axes>"
      ]
     },
     "metadata": {
      "needs_background": "light"
     },
     "output_type": "display_data"
    }
   ],
   "source": [
    "# Take the 3 kaggle scores and creating a line plot to show improvement\n",
    "fig = pd.DataFrame(\n",
    "    {\n",
    "        \"test_eval\": [\"initial\", \"add_features\", \"hpo\"],\n",
    "        \"score\": [1.39403, 0.55592, 0.54368]\n",
    "    }\n",
    ").plot(x=\"test_eval\", y=\"score\", figsize=(8, 6)).get_figure()\n",
    "fig.savefig('model_test_score.png')"
   ]
  },
  {
   "cell_type": "markdown",
   "metadata": {},
   "source": [
    "### Hyperparameter table"
   ]
  },
  {
   "cell_type": "code",
   "execution_count": 96,
   "metadata": {},
   "outputs": [
    {
     "data": {
      "text/html": [
       "<div>\n",
       "<style scoped>\n",
       "    .dataframe tbody tr th:only-of-type {\n",
       "        vertical-align: middle;\n",
       "    }\n",
       "\n",
       "    .dataframe tbody tr th {\n",
       "        vertical-align: top;\n",
       "    }\n",
       "\n",
       "    .dataframe thead th {\n",
       "        text-align: right;\n",
       "    }\n",
       "</style>\n",
       "<table border=\"1\" class=\"dataframe\">\n",
       "  <thead>\n",
       "    <tr style=\"text-align: right;\">\n",
       "      <th></th>\n",
       "      <th>model</th>\n",
       "      <th>hpo1</th>\n",
       "      <th>score</th>\n",
       "    </tr>\n",
       "  </thead>\n",
       "  <tbody>\n",
       "    <tr>\n",
       "      <th>0</th>\n",
       "      <td>initial</td>\n",
       "      <td>bayesopt</td>\n",
       "      <td>1.39403</td>\n",
       "    </tr>\n",
       "    <tr>\n",
       "      <th>1</th>\n",
       "      <td>add_features</td>\n",
       "      <td>bayesopt</td>\n",
       "      <td>0.55592</td>\n",
       "    </tr>\n",
       "    <tr>\n",
       "      <th>2</th>\n",
       "      <td>hpo</td>\n",
       "      <td>random</td>\n",
       "      <td>0.54368</td>\n",
       "    </tr>\n",
       "  </tbody>\n",
       "</table>\n",
       "</div>"
      ],
      "text/plain": [
       "          model      hpo1    score\n",
       "0       initial  bayesopt  1.39403\n",
       "1  add_features  bayesopt  0.55592\n",
       "2           hpo    random  0.54368"
      ]
     },
     "execution_count": 96,
     "metadata": {},
     "output_type": "execute_result"
    }
   ],
   "source": [
    "# The 3 hyperparameters we tuned with the kaggle score as the result\n",
    "pd.DataFrame({\n",
    "    \"model\": [\"initial\", \"add_features\", \"hpo\"],\n",
    "    \"hpo1\": ['bayesopt', 'bayesopt', 'random'],\n",
    "    \"score\": [1.39403, 0.55592, 0.54368]\n",
    "})"
   ]
  }
 ],
 "metadata": {
  "kernelspec": {
   "display_name": "Python 3 (MXNet 1.8 Python 3.7 CPU Optimized)",
   "language": "python",
   "name": "python3__SAGEMAKER_INTERNAL__arn:aws:sagemaker:us-east-1:081325390199:image/mxnet-1.8-cpu-py37-ubuntu16.04-v1"
  },
  "language_info": {
   "codemirror_mode": {
    "name": "ipython",
    "version": 3
   },
   "file_extension": ".py",
   "mimetype": "text/x-python",
   "name": "python",
   "nbconvert_exporter": "python",
   "pygments_lexer": "ipython3",
   "version": "3.7.10"
  }
 },
 "nbformat": 4,
 "nbformat_minor": 4
}
